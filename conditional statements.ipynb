{
 "cells": [
  {
   "cell_type": "markdown",
   "id": "491dc816-07a8-4092-bfe0-8f942578940e",
   "metadata": {},
   "source": [
    "IF"
   ]
  },
  {
   "cell_type": "code",
   "execution_count": 1,
   "id": "45ca0b7a-271f-4235-8ff3-8b04b4aa94d9",
   "metadata": {},
   "outputs": [
    {
     "name": "stdout",
     "output_type": "stream",
     "text": [
      "Hello\n",
      "World\n"
     ]
    }
   ],
   "source": [
    "if 15 < 21:\n",
    "    print(\"Hello\")\n",
    "    print(\"World\")"
   ]
  },
  {
   "cell_type": "code",
   "execution_count": 3,
   "id": "bd6b5313-4bbb-4030-880a-206f134f3d68",
   "metadata": {},
   "outputs": [],
   "source": [
    "if 15 > 21:\n",
    "    print(\"Hello\")"
   ]
  },
  {
   "cell_type": "code",
   "execution_count": 5,
   "id": "f7d9ff74-5ec3-4719-b1b8-a96be4ca0a22",
   "metadata": {},
   "outputs": [
    {
     "name": "stdout",
     "output_type": "stream",
     "text": [
      "World\n"
     ]
    }
   ],
   "source": [
    "if 15 > 21:\n",
    "    print(\"Hello\")\n",
    "print(\"World\")"
   ]
  },
  {
   "cell_type": "code",
   "execution_count": 6,
   "id": "1c9fe6b6-3372-4e9c-bfff-a8015b1fbcec",
   "metadata": {},
   "outputs": [
    {
     "name": "stdin",
     "output_type": "stream",
     "text": [
      "Enter name:  priti\n"
     ]
    },
    {
     "name": "stdout",
     "output_type": "stream",
     "text": [
      "Hello Priti. Have a nice day!\n"
     ]
    }
   ],
   "source": [
    "name = input(\"Enter name: \")\n",
    "if name == \"priti\":\n",
    "    print(\"Hello Priti. Have a nice day!\")"
   ]
  },
  {
   "cell_type": "markdown",
   "id": "d5ac1389-6927-41c6-88f7-f16582a53618",
   "metadata": {},
   "source": [
    "IF-ELSE"
   ]
  },
  {
   "cell_type": "code",
   "execution_count": 7,
   "id": "a0c33270-9ac5-4216-9a9b-b43824dc2d7c",
   "metadata": {},
   "outputs": [
    {
     "name": "stdout",
     "output_type": "stream",
     "text": [
      "Hello\n"
     ]
    }
   ],
   "source": [
    "if 15 < 21:\n",
    "    print(\"Hello\")\n",
    "else:\n",
    "    print(\"World\")"
   ]
  },
  {
   "cell_type": "code",
   "execution_count": 8,
   "id": "e9283fb4-1157-4e83-bd79-fb74ce99deac",
   "metadata": {},
   "outputs": [
    {
     "name": "stdout",
     "output_type": "stream",
     "text": [
      "World\n"
     ]
    }
   ],
   "source": [
    "if 15 > 21:\n",
    "    print(\"Hello\")\n",
    "else:\n",
    "    print(\"World\")"
   ]
  },
  {
   "cell_type": "code",
   "execution_count": 10,
   "id": "e7e6ac59-c180-470c-913e-8194c42cab12",
   "metadata": {},
   "outputs": [
    {
     "name": "stdin",
     "output_type": "stream",
     "text": [
      "Enter a number:  56\n"
     ]
    },
    {
     "name": "stdout",
     "output_type": "stream",
     "text": [
      "56 is even.\n"
     ]
    }
   ],
   "source": [
    "num = int(input(\"Enter a number: \"))\n",
    "if(num % 2 == 0):\n",
    "    print(num, \"is even.\")\n",
    "else:\n",
    "    print(num, \"is odd.\")"
   ]
  },
  {
   "cell_type": "code",
   "execution_count": 11,
   "id": "73121af5-2bc2-4a23-89c0-de19b66b9f3c",
   "metadata": {},
   "outputs": [
    {
     "name": "stdin",
     "output_type": "stream",
     "text": [
      "Enter name:  disha\n"
     ]
    },
    {
     "name": "stdout",
     "output_type": "stream",
     "text": [
      "Hello disha Have a nice day!\n"
     ]
    }
   ],
   "source": [
    "name = input(\"Enter name: \")\n",
    "if name == \"priti\":\n",
    "    print(\"Hello Priti. Have a nice day!\")\n",
    "else:\n",
    "    print(\"Hello\", name, \"Have a nice day!\")"
   ]
  },
  {
   "cell_type": "code",
   "execution_count": 12,
   "id": "b138fa92-1380-4607-8fcb-ec87be77f798",
   "metadata": {},
   "outputs": [
    {
     "name": "stdout",
     "output_type": "stream",
     "text": [
      "Data\n",
      "Science\n"
     ]
    }
   ],
   "source": [
    "l = ['mon', 'tue', 'wed', 'thu', 'fri']\n",
    "if 'thu' in l:\n",
    "    print(\"Data\")\n",
    "if 'sun' not in l:\n",
    "    print(\"Science\")"
   ]
  },
  {
   "cell_type": "code",
   "execution_count": 13,
   "id": "02b0f741-6e3d-4758-89d1-8ea0f4a0a602",
   "metadata": {},
   "outputs": [
    {
     "name": "stdin",
     "output_type": "stream",
     "text": [
      "Enter a number:  9\n"
     ]
    },
    {
     "name": "stdout",
     "output_type": "stream",
     "text": [
      "9 is positive\n"
     ]
    }
   ],
   "source": [
    "n1 = int(input(\"Enter a number: \"))\n",
    "if(n1 > 0):\n",
    "    print(n1, \"is positive\")\n",
    "else:\n",
    "    print(n1, \"is negative\")"
   ]
  },
  {
   "cell_type": "code",
   "execution_count": 14,
   "id": "a0461cfa-4719-4cc3-9d96-384b5882d512",
   "metadata": {},
   "outputs": [
    {
     "name": "stdin",
     "output_type": "stream",
     "text": [
      "Enter a number:  45\n"
     ]
    },
    {
     "name": "stdout",
     "output_type": "stream",
     "text": [
      "45 is odd.\n",
      "Out of IF-ELSE block\n"
     ]
    }
   ],
   "source": [
    "num = int(input(\"Enter a number: \"))\n",
    "if(num % 2 == 0):\n",
    "    print(num, \"is even.\")\n",
    "else:\n",
    "    print(num, \"is odd.\")\n",
    "print(\"Out of IF-ELSE block\")"
   ]
  },
  {
   "cell_type": "markdown",
   "id": "e89e61dd-3419-4c9d-a8a8-b58cc9e5498a",
   "metadata": {},
   "source": [
    "IF -ELIF -ELSE"
   ]
  },
  {
   "cell_type": "code",
   "execution_count": 15,
   "id": "367e1514-2688-4ecb-8d5b-3e2e05c5e054",
   "metadata": {},
   "outputs": [
    {
     "name": "stdout",
     "output_type": "stream",
     "text": [
      "Hello\n"
     ]
    }
   ],
   "source": [
    "if 6 == 6:\n",
    "    print(\"Hello\")\n",
    "elif 9 == 9:\n",
    "    print(\"World\")"
   ]
  },
  {
   "cell_type": "code",
   "execution_count": 16,
   "id": "c85e3846-8f62-438b-a196-5e6b0320dde2",
   "metadata": {},
   "outputs": [
    {
     "name": "stdin",
     "output_type": "stream",
     "text": [
      "Enter value:  76\n"
     ]
    },
    {
     "name": "stdout",
     "output_type": "stream",
     "text": [
      "Grade B\n"
     ]
    }
   ],
   "source": [
    "mark = int(input(\"Enter value: \"))\n",
    "if mark > 90:\n",
    "    print(\"Grade A\")\n",
    "elif mark > 60:\n",
    "    print(\"Grade B\")\n",
    "elif mark > 40:\n",
    "    print(\"Grade C\")\n",
    "else:\n",
    "    print(\"Grade F\")"
   ]
  },
  {
   "cell_type": "code",
   "execution_count": 22,
   "id": "910bdd48-b2f6-4fe2-8dc7-b87352e106b5",
   "metadata": {},
   "outputs": [
    {
     "name": "stdout",
     "output_type": "stream",
     "text": [
      "Number is negative.\n",
      "elif block\n"
     ]
    }
   ],
   "source": [
    "n2 = -67.32\n",
    "if((n2 > 0) or (n2 == -100)):\n",
    "    print(\"Number is positive or -100.\")\n",
    "    print(\"if loop\")\n",
    "elif (n2 < 0):\n",
    "    print(\"Number is negative.\")\n",
    "    print(\"elif block\")\n",
    "else:\n",
    "    print(\"Number is 0\")"
   ]
  },
  {
   "cell_type": "code",
   "execution_count": 24,
   "id": "18ff56da-60b9-42bc-b484-e10df7f43345",
   "metadata": {},
   "outputs": [
    {
     "name": "stdout",
     "output_type": "stream",
     "text": [
      "Negative\n",
      "Out of IF block\n"
     ]
    }
   ],
   "source": [
    "n3 = -92\n",
    "if n3 > 0:\n",
    "    print(\"Hello\")\n",
    "    print(\"Positive\")\n",
    "elif n3 == 0:\n",
    "    print(\"Zero\")\n",
    "else:\n",
    "    print(\"Negative\")\n",
    "print(\"Out of IF block\")"
   ]
  },
  {
   "cell_type": "code",
   "execution_count": 27,
   "id": "d3460048-9b86-4f61-a7cf-45de59e3bf92",
   "metadata": {},
   "outputs": [
    {
     "name": "stdin",
     "output_type": "stream",
     "text": [
      "Enter Your Favourite Brand:  TY\n"
     ]
    },
    {
     "name": "stdout",
     "output_type": "stream",
     "text": [
      "It has nice kick.\n"
     ]
    }
   ],
   "source": [
    "brand = input(\"Enter Your Favourite Brand: \") \n",
    "if brand==\"MH\":\n",
    "    print(\"It is Indian brand.\") \n",
    "elif brand==\"TY\":\n",
    "    print(\"It has nice kick.\") \n",
    "elif brand==\"HY\":\n",
    "    print(\"Buy one at 50%.\") \n",
    "elif brand==\"HD\":\n",
    "    print(\"It is a good brand\") \n",
    "else :\n",
    "    print(\"Other Brands are not recommended\")"
   ]
  },
  {
   "cell_type": "code",
   "execution_count": 29,
   "id": "27c1d2d5-cde2-4b9b-8b87-3927be3bf377",
   "metadata": {},
   "outputs": [
    {
     "name": "stdout",
     "output_type": "stream",
     "text": [
      "Good Evening.\n"
     ]
    },
    {
     "name": "stderr",
     "output_type": "stream",
     "text": [
      "<>:1: SyntaxWarning: \"is\" with a literal. Did you mean \"==\"?\n",
      "<>:1: SyntaxWarning: \"is\" with a literal. Did you mean \"==\"?\n",
      "C:\\Users\\LENOVO\\AppData\\Local\\Temp\\ipykernel_16232\\3425758945.py:1: SyntaxWarning: \"is\" with a literal. Did you mean \"==\"?\n",
      "  if 1 is 3:\n"
     ]
    }
   ],
   "source": [
    "if 1 is 3:\n",
    "    print(\"Good Morning.\") \n",
    "elif 1 > 3:\n",
    "    print(\"Good Afternoon.\")\n",
    "else:\n",
    "    print(\"Good Evening.\") \n"
   ]
  },
  {
   "cell_type": "code",
   "execution_count": 30,
   "id": "3ff8ae44-70a5-482b-9645-785fd9eccf42",
   "metadata": {},
   "outputs": [
    {
     "name": "stdin",
     "output_type": "stream",
     "text": [
      "enter marks: 78\n"
     ]
    },
    {
     "name": "stdout",
     "output_type": "stream",
     "text": [
      "78 : B grade\n"
     ]
    }
   ],
   "source": [
    "n4 = int(input('enter marks:'))\n",
    "if (n4 > 85 and n4 <= 100):\n",
    "    print(n4,': A grade') \n",
    "elif(n4 <= 85 and n4 > 75):\n",
    "    print(n4, ': B grade') \n",
    "elif(n4 <= 75 and n4 > 65):\n",
    "    print(n4, ': C grade') \n",
    "elif (n4 <= 65 and n4 > 55):\n",
    "    print(n4, ': D grade') \n",
    "elif (n4 <= 55 and n4 > 45):\n",
    "    print(a, ': E grade') \n",
    "else:\n",
    "    print(a, ': Fail')"
   ]
  },
  {
   "cell_type": "code",
   "execution_count": 31,
   "id": "b70aa1b5-64d7-4790-92f6-16492afd5548",
   "metadata": {},
   "outputs": [
    {
     "name": "stdin",
     "output_type": "stream",
     "text": [
      "Enter first number:  12\n",
      "Enter second number:  333\n"
     ]
    },
    {
     "name": "stdout",
     "output_type": "stream",
     "text": [
      "Biggest number:  333\n"
     ]
    }
   ],
   "source": [
    "nm1 = int(input(\"Enter first number: \"))\n",
    "nm2 = int(input(\"Enter second number: \"))\n",
    "\n",
    "if nm1 > nm2:\n",
    "    print(\"Biggest number: \", nm1)\n",
    "else:\n",
    "    print(\"Biggest number: \", nm2)"
   ]
  },
  {
   "cell_type": "code",
   "execution_count": 33,
   "id": "bd219857-5136-4729-9420-22da478e6e87",
   "metadata": {},
   "outputs": [
    {
     "name": "stdin",
     "output_type": "stream",
     "text": [
      "Enter first number:  67\n",
      "Enter second number:  90\n",
      "Enter third number:  1\n"
     ]
    },
    {
     "name": "stdout",
     "output_type": "stream",
     "text": [
      "Biggest number:  90\n"
     ]
    }
   ],
   "source": [
    "nm1 = int(input(\"Enter first number: \"))\n",
    "nm2 = int(input(\"Enter second number: \"))\n",
    "nm3 = int(input(\"Enter third number: \"))\n",
    "\n",
    "if nm1 > nm2 and nm1 > nm3:\n",
    "    print(\"Biggest number: \", nm1)\n",
    "elif nm2 > nm3:\n",
    "    print(\"Biggest number: \", nm2)\n",
    "else:\n",
    "    print(\"Biggest number: \", nm3)"
   ]
  },
  {
   "cell_type": "code",
   "execution_count": 36,
   "id": "95654b99-40c8-42b7-a0e1-7f0c814c7c11",
   "metadata": {},
   "outputs": [
    {
     "name": "stdin",
     "output_type": "stream",
     "text": [
      "Enter first string:  priti\n",
      "Enter second string:  disha\n"
     ]
    },
    {
     "name": "stdout",
     "output_type": "stream",
     "text": [
      "First String is greater than Second String.\n"
     ]
    }
   ],
   "source": [
    "st1 = input(\"Enter first string: \")\n",
    "st2 = input(\"Enter second string: \")\n",
    "if st1 == st2:\n",
    "    print(\"Both strings are equal.\") \n",
    "elif st1 < st2: \n",
    "    print(\"First String is less than Second String.\")  \n",
    "else:\n",
    "    print(\"First String is greater than Second String.\") "
   ]
  },
  {
   "cell_type": "markdown",
   "id": "645be71f-6e57-441c-9093-6795392e2c15",
   "metadata": {},
   "source": [
    "NESTED IF"
   ]
  },
  {
   "cell_type": "code",
   "execution_count": 37,
   "id": "9e8d2bfe-75b0-4144-ac41-808e5a60f1bd",
   "metadata": {},
   "outputs": [
    {
     "name": "stdin",
     "output_type": "stream",
     "text": [
      "Enter number:  -77\n"
     ]
    },
    {
     "name": "stdout",
     "output_type": "stream",
     "text": [
      "Negative number\n"
     ]
    }
   ],
   "source": [
    "num = int(input(\"Enter number: \")) \n",
    "if num >= 0:\n",
    "    if num == 0:\n",
    "        print(\"Zero\")\n",
    "    else:\n",
    "        print(\"Positive Number\")\n",
    "else:\n",
    "    print(\"Negative number\") "
   ]
  },
  {
   "cell_type": "code",
   "execution_count": 39,
   "id": "c9df60fa-6d93-47bd-896b-69a7396b315d",
   "metadata": {},
   "outputs": [
    {
     "name": "stdout",
     "output_type": "stream",
     "text": [
      "Lesser than 5.\n",
      "Greater than 3.\n"
     ]
    }
   ],
   "source": [
    "i = 4.56 \n",
    "if i < 5:\n",
    "    print('Lesser than 5.')\n",
    "    if i > 3:\n",
    "        print(\"Greater than 3.\") \n",
    "elif i < 7: \n",
    "    print('Lesser than 7.')\n",
    "else:\n",
    "    print('Greater than 7.') "
   ]
  },
  {
   "cell_type": "code",
   "execution_count": 40,
   "id": "fed41752-4667-4e28-9bd6-c216ab691ff6",
   "metadata": {},
   "outputs": [
    {
     "name": "stdin",
     "output_type": "stream",
     "text": [
      "Enter your pin:  1234\n",
      "Enter with draw amount:  450\n"
     ]
    },
    {
     "name": "stdout",
     "output_type": "stream",
     "text": [
      "Transaction successful.\n"
     ]
    }
   ],
   "source": [
    "amount = 3000\n",
    "pin = 1234\n",
    "if (int(input('Enter your pin: ')) == 1234):\n",
    "    wthamt = int(input('Enter with draw amount: '))\n",
    "    if (wthamt <= amount): \n",
    "        print('Transaction successful.')\n",
    "    else:\n",
    "        print('Insufficient balance.') \n",
    "else:\n",
    "    print('Invalid pin number.')"
   ]
  },
  {
   "cell_type": "code",
   "execution_count": null,
   "id": "51fc08da-b592-4587-8b51-b180a9767aef",
   "metadata": {},
   "outputs": [],
   "source": []
  }
 ],
 "metadata": {
  "kernelspec": {
   "display_name": "Python 3 (ipykernel)",
   "language": "python",
   "name": "python3"
  },
  "language_info": {
   "codemirror_mode": {
    "name": "ipython",
    "version": 3
   },
   "file_extension": ".py",
   "mimetype": "text/x-python",
   "name": "python",
   "nbconvert_exporter": "python",
   "pygments_lexer": "ipython3",
   "version": "3.11.7"
  }
 },
 "nbformat": 4,
 "nbformat_minor": 5
}
