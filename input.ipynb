{
 "cells": [
  {
   "cell_type": "code",
   "execution_count": 1,
   "id": "f2447616-cf80-4ae3-9a4d-44e1a3de45ec",
   "metadata": {},
   "outputs": [
    {
     "name": "stdin",
     "output_type": "stream",
     "text": [
      " hello\n"
     ]
    },
    {
     "data": {
      "text/plain": [
       "'hello'"
      ]
     },
     "execution_count": 1,
     "metadata": {},
     "output_type": "execute_result"
    }
   ],
   "source": [
    "inp = input()\n",
    "inp"
   ]
  },
  {
   "cell_type": "code",
   "execution_count": 2,
   "id": "c55b1261-546c-41f1-bcbc-9f4347d7008e",
   "metadata": {},
   "outputs": [
    {
     "data": {
      "text/plain": [
       "str"
      ]
     },
     "execution_count": 2,
     "metadata": {},
     "output_type": "execute_result"
    }
   ],
   "source": [
    "type(inp)"
   ]
  },
  {
   "cell_type": "code",
   "execution_count": 3,
   "id": "a8e64d4f-c9b6-47b4-b84d-7c553236ed34",
   "metadata": {},
   "outputs": [
    {
     "name": "stdin",
     "output_type": "stream",
     "text": [
      "Enter latitude:  78\n"
     ]
    }
   ],
   "source": [
    "lat = input(\"Enter latitude: \")"
   ]
  },
  {
   "cell_type": "code",
   "execution_count": 4,
   "id": "484e03d5-b37f-4934-a5bc-3b8fcd69cacc",
   "metadata": {},
   "outputs": [
    {
     "name": "stdin",
     "output_type": "stream",
     "text": [
      "Enter latitude:  76.9\n"
     ]
    }
   ],
   "source": [
    "lat = float(input(\"Enter latitude: \"))"
   ]
  },
  {
   "cell_type": "code",
   "execution_count": 5,
   "id": "4f669909-2d1d-4ce0-93d3-ef8c005c6840",
   "metadata": {},
   "outputs": [
    {
     "name": "stdin",
     "output_type": "stream",
     "text": [
      "Enyer your name:  disha\n"
     ]
    },
    {
     "name": "stdout",
     "output_type": "stream",
     "text": [
      "Welcome disha\n"
     ]
    }
   ],
   "source": [
    "name = input(\"Enyer your name: \")\n",
    "print(\"Welcome\", name)"
   ]
  },
  {
   "cell_type": "code",
   "execution_count": 7,
   "id": "f56d28db-6d5f-409c-b7b7-772ccff112d1",
   "metadata": {},
   "outputs": [
    {
     "name": "stdin",
     "output_type": "stream",
     "text": [
      "Enter full name:  PD Samal\n"
     ]
    },
    {
     "name": "stdout",
     "output_type": "stream",
     "text": [
      "PD\n",
      "Samal\n"
     ]
    }
   ],
   "source": [
    "first, last = input(\"Enter full name: \").split(\" \")\n",
    "print(first)\n",
    "print(last)"
   ]
  },
  {
   "cell_type": "code",
   "execution_count": null,
   "id": "90c7bfbd-78a4-4e51-92ff-02699be125ce",
   "metadata": {},
   "outputs": [],
   "source": []
  }
 ],
 "metadata": {
  "kernelspec": {
   "display_name": "Python 3 (ipykernel)",
   "language": "python",
   "name": "python3"
  },
  "language_info": {
   "codemirror_mode": {
    "name": "ipython",
    "version": 3
   },
   "file_extension": ".py",
   "mimetype": "text/x-python",
   "name": "python",
   "nbconvert_exporter": "python",
   "pygments_lexer": "ipython3",
   "version": "3.11.7"
  }
 },
 "nbformat": 4,
 "nbformat_minor": 5
}
