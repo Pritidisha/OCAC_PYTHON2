{
 "cells": [
  {
   "cell_type": "code",
   "execution_count": 2,
   "id": "14bdd3d7-a8df-4a45-82da-0b299ec39532",
   "metadata": {},
   "outputs": [],
   "source": [
    "import numpy as np"
   ]
  },
  {
   "cell_type": "code",
   "execution_count": 8,
   "id": "7aba2164-11da-4482-990a-275da06159c8",
   "metadata": {},
   "outputs": [],
   "source": [
    "arr = [56, 67, 78, 89]"
   ]
  },
  {
   "cell_type": "code",
   "execution_count": 9,
   "id": "c8b7af74-f08e-45f2-a5ec-643c999cd9be",
   "metadata": {},
   "outputs": [
    {
     "name": "stdout",
     "output_type": "stream",
     "text": [
      "[56, 67, 78, 89]\n"
     ]
    }
   ],
   "source": [
    "print(arr)"
   ]
  },
  {
   "cell_type": "code",
   "execution_count": 10,
   "id": "91f5d131-7da6-476c-baab-2d39189527c3",
   "metadata": {},
   "outputs": [
    {
     "name": "stdout",
     "output_type": "stream",
     "text": [
      "<class 'list'>\n"
     ]
    }
   ],
   "source": [
    "print(type(arr))"
   ]
  },
  {
   "cell_type": "code",
   "execution_count": 11,
   "id": "bcfd8518-3581-48fd-81c1-22306a445617",
   "metadata": {},
   "outputs": [],
   "source": [
    "np_arr = np.array(arr)"
   ]
  },
  {
   "cell_type": "code",
   "execution_count": 12,
   "id": "f52d3d5a-4dc7-4d68-a20f-7d4e68c367b8",
   "metadata": {},
   "outputs": [
    {
     "name": "stdout",
     "output_type": "stream",
     "text": [
      "[56 67 78 89]\n"
     ]
    }
   ],
   "source": [
    "print(np_arr)"
   ]
  },
  {
   "cell_type": "code",
   "execution_count": 13,
   "id": "81e69839-27a4-45e8-a048-ad75834ab5dc",
   "metadata": {},
   "outputs": [
    {
     "name": "stdout",
     "output_type": "stream",
     "text": [
      "<class 'numpy.ndarray'>\n"
     ]
    }
   ],
   "source": [
    "print(type(np_arr))"
   ]
  },
  {
   "cell_type": "code",
   "execution_count": 15,
   "id": "2055f84e-14aa-4802-a4b0-722d6a3471ac",
   "metadata": {},
   "outputs": [
    {
     "name": "stdout",
     "output_type": "stream",
     "text": [
      "89.1 µs ± 2.35 µs per loop (mean ± std. dev. of 7 runs, 10,000 loops each)\n"
     ]
    }
   ],
   "source": [
    "l = range(500) \n",
    "%timeit [i**2 for i in l] "
   ]
  },
  {
   "cell_type": "code",
   "execution_count": 16,
   "id": "1ae2235c-177e-43e2-9e70-899335b8e206",
   "metadata": {},
   "outputs": [
    {
     "name": "stdout",
     "output_type": "stream",
     "text": [
      "2.18 µs ± 75 ns per loop (mean ± std. dev. of 7 runs, 100,000 loops each)\n"
     ]
    }
   ],
   "source": [
    "m = np.arange(500) \n",
    "%timeit m**2 "
   ]
  },
  {
   "cell_type": "code",
   "execution_count": 20,
   "id": "11957c4b-b86f-463c-b566-54a31381d3ef",
   "metadata": {},
   "outputs": [
    {
     "data": {
      "text/plain": [
       "array([10, 11, 12, 13])"
      ]
     },
     "execution_count": 20,
     "metadata": {},
     "output_type": "execute_result"
    }
   ],
   "source": [
    "ar1 = np.array([10, 11, 12, 13]) \n",
    "ar1"
   ]
  },
  {
   "cell_type": "code",
   "execution_count": 21,
   "id": "b59b27f1-5c15-4d6d-9ce7-ea414e118f26",
   "metadata": {},
   "outputs": [
    {
     "data": {
      "text/plain": [
       "1"
      ]
     },
     "execution_count": 21,
     "metadata": {},
     "output_type": "execute_result"
    }
   ],
   "source": [
    "ar1.ndim"
   ]
  },
  {
   "cell_type": "code",
   "execution_count": 22,
   "id": "1bf12717-7a61-4588-8937-3a7229b140fb",
   "metadata": {},
   "outputs": [
    {
     "data": {
      "text/plain": [
       "(4,)"
      ]
     },
     "execution_count": 22,
     "metadata": {},
     "output_type": "execute_result"
    }
   ],
   "source": [
    "ar1.shape"
   ]
  },
  {
   "cell_type": "code",
   "execution_count": 24,
   "id": "d67ee13b-d01c-4dcd-a685-8d488817083f",
   "metadata": {},
   "outputs": [
    {
     "data": {
      "text/plain": [
       "array([[40, 11, 62],\n",
       "       [53, 34, 85]])"
      ]
     },
     "execution_count": 24,
     "metadata": {},
     "output_type": "execute_result"
    }
   ],
   "source": [
    "ar2 = np.array([[40, 11, 62], [53, 34, 85]])\n",
    "ar2"
   ]
  },
  {
   "cell_type": "code",
   "execution_count": 25,
   "id": "47fa96f0-9385-4e87-867b-9cbb41e3022d",
   "metadata": {},
   "outputs": [
    {
     "data": {
      "text/plain": [
       "2"
      ]
     },
     "execution_count": 25,
     "metadata": {},
     "output_type": "execute_result"
    }
   ],
   "source": [
    "ar2.ndim"
   ]
  },
  {
   "cell_type": "code",
   "execution_count": 26,
   "id": "c10c0692-be40-401b-a39c-00f85e50e199",
   "metadata": {},
   "outputs": [
    {
     "data": {
      "text/plain": [
       "(2, 3)"
      ]
     },
     "execution_count": 26,
     "metadata": {},
     "output_type": "execute_result"
    }
   ],
   "source": [
    "ar2.shape"
   ]
  },
  {
   "cell_type": "code",
   "execution_count": 28,
   "id": "be5d38a8-8173-4ae5-be3c-ff2796f3411c",
   "metadata": {},
   "outputs": [
    {
     "data": {
      "text/plain": [
       "array([[[20, 13],\n",
       "        [91, 25]],\n",
       "\n",
       "       [[73, 49],\n",
       "        [72, 35]]])"
      ]
     },
     "execution_count": 28,
     "metadata": {},
     "output_type": "execute_result"
    }
   ],
   "source": [
    "ar3 = np.array([[[20, 13], [91, 25]], [[73, 49], [72, 35]]])\n",
    "ar3"
   ]
  },
  {
   "cell_type": "code",
   "execution_count": 29,
   "id": "801edaa4-2c0f-4365-9bab-a3bf99b9103d",
   "metadata": {},
   "outputs": [
    {
     "data": {
      "text/plain": [
       "3"
      ]
     },
     "execution_count": 29,
     "metadata": {},
     "output_type": "execute_result"
    }
   ],
   "source": [
    "ar3.ndim"
   ]
  },
  {
   "cell_type": "code",
   "execution_count": 30,
   "id": "3ff1f036-527f-4f72-8e51-6dab25fe0de9",
   "metadata": {},
   "outputs": [
    {
     "data": {
      "text/plain": [
       "(2, 2, 2)"
      ]
     },
     "execution_count": 30,
     "metadata": {},
     "output_type": "execute_result"
    }
   ],
   "source": [
    "ar3.shape"
   ]
  },
  {
   "cell_type": "code",
   "execution_count": 31,
   "id": "af97d956-a782-43eb-b272-5d0969421f6b",
   "metadata": {},
   "outputs": [
    {
     "data": {
      "text/plain": [
       "[90, 87, 84]"
      ]
     },
     "execution_count": 31,
     "metadata": {},
     "output_type": "execute_result"
    }
   ],
   "source": [
    "l1 = [90, 87, 84]\n",
    "l1"
   ]
  },
  {
   "cell_type": "code",
   "execution_count": 32,
   "id": "65ff6734-0059-4f83-9bd9-c734952a36bb",
   "metadata": {},
   "outputs": [
    {
     "data": {
      "text/plain": [
       "array([90, 87, 84])"
      ]
     },
     "execution_count": 32,
     "metadata": {},
     "output_type": "execute_result"
    }
   ],
   "source": [
    "np.array(l1)"
   ]
  },
  {
   "cell_type": "code",
   "execution_count": 33,
   "id": "b090e555-f6b0-41fa-b43f-bb2b623098bc",
   "metadata": {},
   "outputs": [
    {
     "data": {
      "text/plain": [
       "[[21, 34, 52], [67, 87, 45], [59, 91, 23]]"
      ]
     },
     "execution_count": 33,
     "metadata": {},
     "output_type": "execute_result"
    }
   ],
   "source": [
    "mat1 = [[21, 34, 52], [67, 87, 45], [59, 91, 23]]\n",
    "mat1"
   ]
  },
  {
   "cell_type": "code",
   "execution_count": 34,
   "id": "37a040ff-8d61-48d6-84e2-bd46d582a147",
   "metadata": {},
   "outputs": [
    {
     "data": {
      "text/plain": [
       "array([[21, 34, 52],\n",
       "       [67, 87, 45],\n",
       "       [59, 91, 23]])"
      ]
     },
     "execution_count": 34,
     "metadata": {},
     "output_type": "execute_result"
    }
   ],
   "source": [
    "np.array(mat1)"
   ]
  },
  {
   "cell_type": "code",
   "execution_count": 35,
   "id": "7e4bb6e4-4e0a-4d7c-8425-cb517340923a",
   "metadata": {},
   "outputs": [
    {
     "data": {
      "text/plain": [
       "(3, 3)"
      ]
     },
     "execution_count": 35,
     "metadata": {},
     "output_type": "execute_result"
    }
   ],
   "source": [
    "np.array(mat1).shape"
   ]
  },
  {
   "cell_type": "code",
   "execution_count": 37,
   "id": "4641337a-1097-409f-b3d6-9743e1e926b1",
   "metadata": {},
   "outputs": [
    {
     "data": {
      "text/plain": [
       "array([0, 1, 2, 3, 4])"
      ]
     },
     "execution_count": 37,
     "metadata": {},
     "output_type": "execute_result"
    }
   ],
   "source": [
    "n1 = np.arange(5)\n",
    "n1"
   ]
  },
  {
   "cell_type": "code",
   "execution_count": 39,
   "id": "1ecb1766-bc3a-4057-9c11-7129381a0fc4",
   "metadata": {},
   "outputs": [
    {
     "data": {
      "text/plain": [
       "array([ 5,  8, 11, 14])"
      ]
     },
     "execution_count": 39,
     "metadata": {},
     "output_type": "execute_result"
    }
   ],
   "source": [
    "n2 = np.arange(5, 15, 3)\n",
    "n2"
   ]
  },
  {
   "cell_type": "code",
   "execution_count": 41,
   "id": "971afe79-7e5c-4bc8-b261-cdee8fcd4cbe",
   "metadata": {},
   "outputs": [
    {
     "data": {
      "text/plain": [
       "array([ 5.        ,  6.66666667,  8.33333333, 10.        , 11.66666667,\n",
       "       13.33333333, 15.        ])"
      ]
     },
     "execution_count": 41,
     "metadata": {},
     "output_type": "execute_result"
    }
   ],
   "source": [
    "n3 = np.linspace(5, 15, 7)\n",
    "n3"
   ]
  },
  {
   "cell_type": "code",
   "execution_count": 43,
   "id": "407d4170-16a2-4a05-aff5-2bf24b0914ca",
   "metadata": {},
   "outputs": [
    {
     "data": {
      "text/plain": [
       "array([0., 0., 0., 0., 0., 0.])"
      ]
     },
     "execution_count": 43,
     "metadata": {},
     "output_type": "execute_result"
    }
   ],
   "source": [
    "np.zeros(6)"
   ]
  },
  {
   "cell_type": "code",
   "execution_count": 45,
   "id": "195f623f-cfe3-4b15-ba72-ff8507d74fb2",
   "metadata": {},
   "outputs": [
    {
     "data": {
      "text/plain": [
       "array([[0., 0.],\n",
       "       [0., 0.],\n",
       "       [0., 0.]])"
      ]
     },
     "execution_count": 45,
     "metadata": {},
     "output_type": "execute_result"
    }
   ],
   "source": [
    "n4 = np.zeros((3,2))\n",
    "n4"
   ]
  },
  {
   "cell_type": "code",
   "execution_count": 47,
   "id": "57072512-f8d6-4c99-82d9-527574e31579",
   "metadata": {},
   "outputs": [
    {
     "data": {
      "text/plain": [
       "array([[1., 1., 1., 1.],\n",
       "       [1., 1., 1., 1.]])"
      ]
     },
     "execution_count": 47,
     "metadata": {},
     "output_type": "execute_result"
    }
   ],
   "source": [
    "n5 = np.ones((2,4))\n",
    "n5"
   ]
  },
  {
   "cell_type": "code",
   "execution_count": 49,
   "id": "ffc2ebc3-0cc5-4444-b4f2-156e13140d4c",
   "metadata": {
    "scrolled": true
   },
   "outputs": [
    {
     "data": {
      "text/plain": [
       "array([[1., 0., 0., 0.],\n",
       "       [0., 1., 0., 0.],\n",
       "       [0., 0., 1., 0.],\n",
       "       [0., 0., 0., 1.]])"
      ]
     },
     "execution_count": 49,
     "metadata": {},
     "output_type": "execute_result"
    }
   ],
   "source": [
    "n5 = np.eye(4)\n",
    "n5"
   ]
  },
  {
   "cell_type": "code",
   "execution_count": 51,
   "id": "fb8c85a4-1322-4aca-8e79-b120b4cf6ecc",
   "metadata": {},
   "outputs": [
    {
     "data": {
      "text/plain": [
       "array([[1., 0., 0., 0., 0.],\n",
       "       [0., 1., 0., 0., 0.]])"
      ]
     },
     "execution_count": 51,
     "metadata": {},
     "output_type": "execute_result"
    }
   ],
   "source": [
    "n4 = np.eye(2,5)\n",
    "n4"
   ]
  },
  {
   "cell_type": "code",
   "execution_count": 52,
   "id": "bbce6c30-7121-43a2-97f5-a18b59853d69",
   "metadata": {},
   "outputs": [
    {
     "data": {
      "text/plain": [
       "array([[15,  0,  0,  0],\n",
       "       [ 0, 23,  0,  0],\n",
       "       [ 0,  0, 11,  0],\n",
       "       [ 0,  0,  0,  2]])"
      ]
     },
     "execution_count": 52,
     "metadata": {},
     "output_type": "execute_result"
    }
   ],
   "source": [
    "n3 = np.diag([15, 23, 11, 2])\n",
    "n3"
   ]
  },
  {
   "cell_type": "code",
   "execution_count": 53,
   "id": "6039c054-fd5c-4e0e-a18d-0af28be1d498",
   "metadata": {},
   "outputs": [
    {
     "data": {
      "text/plain": [
       "array([15, 23, 11,  2])"
      ]
     },
     "execution_count": 53,
     "metadata": {},
     "output_type": "execute_result"
    }
   ],
   "source": [
    "np.diag(n3)"
   ]
  },
  {
   "cell_type": "code",
   "execution_count": 55,
   "id": "c54bc308-93c0-4e86-8467-07c21b6d49e0",
   "metadata": {},
   "outputs": [
    {
     "name": "stdout",
     "output_type": "stream",
     "text": [
      "[ 94  59  38 101  46  92  45  62  57  71]\n"
     ]
    }
   ],
   "source": [
    "r1 = np.random.randint(35, 105, 10)\n",
    "print(r1)"
   ]
  },
  {
   "cell_type": "code",
   "execution_count": 57,
   "id": "997478ff-fb0d-4a55-ab9a-02370481807b",
   "metadata": {},
   "outputs": [
    {
     "data": {
      "text/plain": [
       "array([0.18923458, 0.84684406, 0.61092742, 0.11444541, 0.80261826])"
      ]
     },
     "execution_count": 57,
     "metadata": {},
     "output_type": "execute_result"
    }
   ],
   "source": [
    "r2 = np.random.rand(5)\n",
    "r2"
   ]
  },
  {
   "cell_type": "code",
   "execution_count": 58,
   "id": "5ce9d668-3f68-40b9-9c8b-f1a3e8d6b7a8",
   "metadata": {},
   "outputs": [
    {
     "data": {
      "text/plain": [
       "array([-0.46730022, -0.40411637,  0.27564831,  0.1053977 , -0.22173296,\n",
       "        0.29318022, -1.81910885,  0.46977903, -0.43762122, -0.09485338,\n",
       "       -1.08865787,  0.08463156, -0.98936422,  1.50324135, -0.80329218,\n",
       "       -2.91016368, -1.24438488, -1.67115797, -0.36507348,  0.41700811])"
      ]
     },
     "execution_count": 58,
     "metadata": {},
     "output_type": "execute_result"
    }
   ],
   "source": [
    "r3 = np.random.randn(20)\n",
    "r3"
   ]
  },
  {
   "cell_type": "code",
   "execution_count": 60,
   "id": "b416f8a5-3dcc-4bc7-ad3f-f7829bf92c9a",
   "metadata": {},
   "outputs": [
    {
     "name": "stdout",
     "output_type": "stream",
     "text": [
      "[45 42 90]\n",
      "[45 42 90]\n"
     ]
    }
   ],
   "source": [
    "a1 = np.array([1, 42, 90])\n",
    "a2 = a1\n",
    "a2[0] = 45\n",
    "print(a1)\n",
    "print(a2)"
   ]
  },
  {
   "cell_type": "code",
   "execution_count": 3,
   "id": "66d0b21a-b8ef-4fdf-83c2-0b9dcb901cc1",
   "metadata": {},
   "outputs": [
    {
     "name": "stdout",
     "output_type": "stream",
     "text": [
      "[0 1 2 3 4 5 6 7 8 9]\n",
      "(10,)\n"
     ]
    }
   ],
   "source": [
    "arr1 = np.arange(10) \n",
    "print(arr1) \n",
    "print(arr1.shape) "
   ]
  },
  {
   "cell_type": "code",
   "execution_count": 4,
   "id": "ad0fd209-2cb9-43c2-8183-87da1b3af5cd",
   "metadata": {},
   "outputs": [
    {
     "data": {
      "text/plain": [
       "array([[0, 1, 2, 3, 4],\n",
       "       [5, 6, 7, 8, 9]])"
      ]
     },
     "execution_count": 4,
     "metadata": {},
     "output_type": "execute_result"
    }
   ],
   "source": [
    "arr2 = arr1.reshape(2,5) \n",
    "arr2 "
   ]
  },
  {
   "cell_type": "code",
   "execution_count": 7,
   "id": "a37ad171-14c5-49a4-b442-dc16c9234b78",
   "metadata": {},
   "outputs": [
    {
     "name": "stdout",
     "output_type": "stream",
     "text": [
      "[[34 65 78]\n",
      " [18 32 95]]\n",
      "Shape of array: (2, 3)\n"
     ]
    }
   ],
   "source": [
    "m = np.array([[34, 65, 78], [18, 32, 95]]) \n",
    "print(m) \n",
    "print(\"Shape of array: {}\".format(m.shape)) "
   ]
  },
  {
   "cell_type": "code",
   "execution_count": 8,
   "id": "3fae80a8-31e5-4e9a-a1da-179e37486a46",
   "metadata": {},
   "outputs": [
    {
     "name": "stdout",
     "output_type": "stream",
     "text": [
      "[[34 65]\n",
      " [78 18]\n",
      " [32 95]]\n",
      "Shape of array: (3, 2)\n"
     ]
    }
   ],
   "source": [
    "n = m.reshape(3, 2)\n",
    "print(n)\n",
    "print(\"Shape of array: {}\".format(n.shape)) "
   ]
  },
  {
   "cell_type": "code",
   "execution_count": 9,
   "id": "0389f622-6db7-4cd2-848b-881cdd11e4f1",
   "metadata": {},
   "outputs": [
    {
     "name": "stdout",
     "output_type": "stream",
     "text": [
      "[[34 65 78]\n",
      " [18 32 95]]\n",
      "Shape of array: (2, 3)\n"
     ]
    }
   ],
   "source": [
    "m = np.array([[34, 65, 78], [18, 32, 95]]) \n",
    "print(m) \n",
    "print(\"Shape of array: {}\".format(m.shape)) "
   ]
  },
  {
   "cell_type": "code",
   "execution_count": 10,
   "id": "a6114acc-ce9a-4cae-b7a0-2001de9a7b32",
   "metadata": {},
   "outputs": [
    {
     "name": "stdout",
     "output_type": "stream",
     "text": [
      "[[34 18]\n",
      " [65 32]\n",
      " [78 95]]\n"
     ]
    }
   ],
   "source": [
    "t = m.T\n",
    "print(t)"
   ]
  },
  {
   "cell_type": "code",
   "execution_count": 11,
   "id": "ed25a9da-3ed6-4bde-a539-98ddd6345c53",
   "metadata": {},
   "outputs": [
    {
     "data": {
      "text/plain": [
       "array([34, 65, 78, 18, 32, 95])"
      ]
     },
     "execution_count": 11,
     "metadata": {},
     "output_type": "execute_result"
    }
   ],
   "source": [
    "m.ravel()"
   ]
  },
  {
   "cell_type": "code",
   "execution_count": 12,
   "id": "a93deb55-3374-4082-a4be-7304b01a84d3",
   "metadata": {},
   "outputs": [
    {
     "data": {
      "text/plain": [
       "array([34, 18, 65, 32, 78, 95])"
      ]
     },
     "execution_count": 12,
     "metadata": {},
     "output_type": "execute_result"
    }
   ],
   "source": [
    "t.ravel()"
   ]
  },
  {
   "cell_type": "code",
   "execution_count": 13,
   "id": "76a565f0-7b00-4641-b496-924fe5bd9d2c",
   "metadata": {},
   "outputs": [
    {
     "data": {
      "text/plain": [
       "array([[34, 65, 78],\n",
       "       [18, 32, 95]])"
      ]
     },
     "execution_count": 13,
     "metadata": {},
     "output_type": "execute_result"
    }
   ],
   "source": [
    "m = np.array([[34, 65, 78], [18, 32, 95]]) \n",
    "n = np.sort(m, axis = 1)\n",
    "n"
   ]
  },
  {
   "cell_type": "code",
   "execution_count": 14,
   "id": "47046013-d38a-4bec-920f-46b3d98c5570",
   "metadata": {},
   "outputs": [
    {
     "data": {
      "text/plain": [
       "array([34, 65, 78, 18, 32, 95, 49, 51, 81])"
      ]
     },
     "execution_count": 14,
     "metadata": {},
     "output_type": "execute_result"
    }
   ],
   "source": [
    "m = np.array([[34, 65, 78], [18, 32, 95]]) \n",
    "m = np.append(m , [49, 51, 81])\n",
    "m"
   ]
  },
  {
   "cell_type": "code",
   "execution_count": 16,
   "id": "3bcd1c2d-c881-40f2-bce3-dd90f52e03af",
   "metadata": {},
   "outputs": [
    {
     "data": {
      "text/plain": [
       "array([34, 65, 78, 18, 95, 49, 51, 81])"
      ]
     },
     "execution_count": 16,
     "metadata": {},
     "output_type": "execute_result"
    }
   ],
   "source": [
    "m = np.delete(m, 4)\n",
    "m"
   ]
  },
  {
   "cell_type": "code",
   "execution_count": 23,
   "id": "caf5c0b0-28d8-4f71-925a-ac1c82f91dd1",
   "metadata": {},
   "outputs": [
    {
     "name": "stdout",
     "output_type": "stream",
     "text": [
      "[ 4  5  6  7  8  9 10 11 12 13]\n",
      "7\n"
     ]
    }
   ],
   "source": [
    "arr = np.arange(4, 14) \n",
    "print(arr) \n",
    "print(arr[3]) "
   ]
  },
  {
   "cell_type": "code",
   "execution_count": 24,
   "id": "87994ee0-25da-4c41-ab63-59d1baa16cf7",
   "metadata": {},
   "outputs": [
    {
     "name": "stdout",
     "output_type": "stream",
     "text": [
      "[[ 4  0  0]\n",
      " [ 0  9  0]\n",
      " [ 0  0 16]]\n",
      "0\n"
     ]
    }
   ],
   "source": [
    "arr = np.diag([4, 9, 16]) \n",
    "print(arr) \n",
    "print(arr[1, 2]) "
   ]
  },
  {
   "cell_type": "code",
   "execution_count": 25,
   "id": "f9db46f7-faad-4b31-bcb7-a508b267e80e",
   "metadata": {},
   "outputs": [
    {
     "data": {
      "text/plain": [
       "array([[ 4,  0,  0],\n",
       "       [ 0,  9, 34],\n",
       "       [ 0,  0, 16]])"
      ]
     },
     "execution_count": 25,
     "metadata": {},
     "output_type": "execute_result"
    }
   ],
   "source": [
    "arr[1, 2] = 34\n",
    "arr"
   ]
  },
  {
   "cell_type": "code",
   "execution_count": 26,
   "id": "f80c57a0-46c6-46bd-a0bc-efdede257b37",
   "metadata": {},
   "outputs": [
    {
     "data": {
      "text/plain": [
       "array([ 4,  5,  6,  7,  8,  9, 10, 11, 12, 13, 14])"
      ]
     },
     "execution_count": 26,
     "metadata": {},
     "output_type": "execute_result"
    }
   ],
   "source": [
    "arr = np.arange(4,15) \n",
    "arr"
   ]
  },
  {
   "cell_type": "code",
   "execution_count": 27,
   "id": "fe62e441-0bac-456c-9eaf-de3c1d57d824",
   "metadata": {},
   "outputs": [
    {
     "data": {
      "text/plain": [
       "array([ 5,  8, 11])"
      ]
     },
     "execution_count": 27,
     "metadata": {},
     "output_type": "execute_result"
    }
   ],
   "source": [
    "arr[1:9:3]"
   ]
  },
  {
   "cell_type": "code",
   "execution_count": 28,
   "id": "51ac8e02-0213-4b15-ae1e-1f5b296dc2ad",
   "metadata": {},
   "outputs": [
    {
     "data": {
      "text/plain": [
       "array([ 4,  5,  6,  7,  8,  9, 10, 11, 12, 13, 14])"
      ]
     },
     "execution_count": 28,
     "metadata": {},
     "output_type": "execute_result"
    }
   ],
   "source": [
    "arr = np.arange(15)\n",
    "arr[4:]"
   ]
  },
  {
   "cell_type": "code",
   "execution_count": 29,
   "id": "16852775-0bf7-4e47-a0cd-ce88a296ccab",
   "metadata": {},
   "outputs": [
    {
     "data": {
      "text/plain": [
       "array([ 0,  1,  2,  3,  4,  5,  6, 21, 21, 21, 21, 21, 21, 21, 21])"
      ]
     },
     "execution_count": 29,
     "metadata": {},
     "output_type": "execute_result"
    }
   ],
   "source": [
    "arr[7:] = 21\n",
    "arr"
   ]
  },
  {
   "cell_type": "code",
   "execution_count": 30,
   "id": "37ac18a1-40d1-47fb-952c-29187607cd66",
   "metadata": {},
   "outputs": [
    {
     "data": {
      "text/plain": [
       "array([0, 1, 2, 3, 4, 5, 6, 7])"
      ]
     },
     "execution_count": 30,
     "metadata": {},
     "output_type": "execute_result"
    }
   ],
   "source": [
    "m = np.arange(8)\n",
    "m"
   ]
  },
  {
   "cell_type": "code",
   "execution_count": 31,
   "id": "e8ac7ee4-2a53-4dc6-ab0a-f0cba1624837",
   "metadata": {},
   "outputs": [
    {
     "data": {
      "text/plain": [
       "array([7, 6, 5, 4, 3, 2, 1, 0])"
      ]
     },
     "execution_count": 31,
     "metadata": {},
     "output_type": "execute_result"
    }
   ],
   "source": [
    "m[::-1]"
   ]
  },
  {
   "cell_type": "code",
   "execution_count": 32,
   "id": "3a832ce4-cb67-4052-8650-80a732dd612a",
   "metadata": {},
   "outputs": [
    {
     "data": {
      "text/plain": [
       "array([0, 1, 2, 3, 4, 5, 6, 7, 6, 5, 4, 3, 2, 1, 0])"
      ]
     },
     "execution_count": 32,
     "metadata": {},
     "output_type": "execute_result"
    }
   ],
   "source": [
    "arr[7:] = m[::-1]\n",
    "arr"
   ]
  },
  {
   "cell_type": "code",
   "execution_count": 35,
   "id": "f51932c8-e133-45f2-8629-b017c7f82186",
   "metadata": {},
   "outputs": [
    {
     "data": {
      "text/plain": [
       "array([7, 9, 9, 3, 2, 8, 8, 2])"
      ]
     },
     "execution_count": 35,
     "metadata": {},
     "output_type": "execute_result"
    }
   ],
   "source": [
    "m = np.random.randint(1, 10, 8)\n",
    "m"
   ]
  },
  {
   "cell_type": "code",
   "execution_count": 36,
   "id": "30798cff-966d-43f5-a24f-b78a44db8cfe",
   "metadata": {},
   "outputs": [
    {
     "data": {
      "text/plain": [
       "array([2, 8, 8, 2])"
      ]
     },
     "execution_count": 36,
     "metadata": {},
     "output_type": "execute_result"
    }
   ],
   "source": [
    "m[m % 2 == 0]"
   ]
  },
  {
   "cell_type": "code",
   "execution_count": 37,
   "id": "ad5bc99e-7f4e-4976-8c34-4a3887e845d6",
   "metadata": {},
   "outputs": [
    {
     "data": {
      "text/plain": [
       "array([ 7,  9,  9,  3, -1, -1, -1, -1])"
      ]
     },
     "execution_count": 37,
     "metadata": {},
     "output_type": "execute_result"
    }
   ],
   "source": [
    "m[m % 2 == 0] = -1\n",
    "m"
   ]
  },
  {
   "cell_type": "code",
   "execution_count": 39,
   "id": "2cc39e1b-42ed-45ca-a405-fda7ec226cda",
   "metadata": {},
   "outputs": [
    {
     "data": {
      "text/plain": [
       "array([ 1,  9, 17, 25, 33, 41, 49])"
      ]
     },
     "execution_count": 39,
     "metadata": {},
     "output_type": "execute_result"
    }
   ],
   "source": [
    "n = np.arange(1, 51, 8)\n",
    "n"
   ]
  },
  {
   "cell_type": "code",
   "execution_count": 40,
   "id": "62cd11b5-80e5-4ce6-85ed-4831bf8b8bf0",
   "metadata": {},
   "outputs": [
    {
     "data": {
      "text/plain": [
       "array([25,  9, 41])"
      ]
     },
     "execution_count": 40,
     "metadata": {},
     "output_type": "execute_result"
    }
   ],
   "source": [
    "n[[3, 1, 5]]"
   ]
  },
  {
   "cell_type": "code",
   "execution_count": 41,
   "id": "049b0b3a-e903-46c0-910f-dac4584d1073",
   "metadata": {},
   "outputs": [
    {
     "data": {
      "text/plain": [
       "array([ 1, 82, 17, 25, 33, 41, 82])"
      ]
     },
     "execution_count": 41,
     "metadata": {},
     "output_type": "execute_result"
    }
   ],
   "source": [
    "n[[1, 6]] = 82\n",
    "n"
   ]
  },
  {
   "cell_type": "code",
   "execution_count": 44,
   "id": "817e8d51-d7e6-4b65-91b6-3487a2b75eb1",
   "metadata": {},
   "outputs": [
    {
     "name": "stdout",
     "output_type": "stream",
     "text": [
      "[8 7 6 2]\n",
      "[19 18 17 13]\n"
     ]
    }
   ],
   "source": [
    "p = np.array([8, 7, 6, 2])\n",
    "print(p)\n",
    "print(p+11)"
   ]
  },
  {
   "cell_type": "code",
   "execution_count": 45,
   "id": "c178e655-49af-48f3-b24a-6521222c5142",
   "metadata": {},
   "outputs": [
    {
     "data": {
      "text/plain": [
       "array([16, 14, 12,  4])"
      ]
     },
     "execution_count": 45,
     "metadata": {},
     "output_type": "execute_result"
    }
   ],
   "source": [
    "p * 2"
   ]
  },
  {
   "cell_type": "code",
   "execution_count": 49,
   "id": "e838e71b-3cfb-42b7-bfe6-2abf04134fbe",
   "metadata": {},
   "outputs": [
    {
     "data": {
      "text/plain": [
       "array([3., 3., 3., 3.])"
      ]
     },
     "execution_count": 49,
     "metadata": {},
     "output_type": "execute_result"
    }
   ],
   "source": [
    "m = np.ones(4) + 2\n",
    "m"
   ]
  },
  {
   "cell_type": "code",
   "execution_count": 50,
   "id": "dce306b8-1540-4a07-866e-292be5b4d1f7",
   "metadata": {},
   "outputs": [
    {
     "data": {
      "text/plain": [
       "array([ 5.,  4.,  3., -1.])"
      ]
     },
     "execution_count": 50,
     "metadata": {},
     "output_type": "execute_result"
    }
   ],
   "source": [
    "p - m"
   ]
  },
  {
   "cell_type": "code",
   "execution_count": 51,
   "id": "c0db32ae-197d-4cbd-a1ae-1b7586e948bd",
   "metadata": {},
   "outputs": [
    {
     "data": {
      "text/plain": [
       "array([24., 21., 18.,  6.])"
      ]
     },
     "execution_count": 51,
     "metadata": {},
     "output_type": "execute_result"
    }
   ],
   "source": [
    "p * m"
   ]
  },
  {
   "cell_type": "code",
   "execution_count": 53,
   "id": "6703e2b7-5337-45b3-b653-e73e2dcac39d",
   "metadata": {},
   "outputs": [
    {
     "data": {
      "text/plain": [
       "array([[4, 8],\n",
       "       [5, 7],\n",
       "       [3, 5]])"
      ]
     },
     "execution_count": 53,
     "metadata": {},
     "output_type": "execute_result"
    }
   ],
   "source": [
    "x = np.array([[1,3], [3,5], [1,1]]) \n",
    "y = np.array([[3,5], [2,2], [2,4]])\n",
    "x + y"
   ]
  },
  {
   "cell_type": "code",
   "execution_count": 54,
   "id": "bce72438-06b1-4be8-ab34-d11f213a3fc7",
   "metadata": {},
   "outputs": [
    {
     "data": {
      "text/plain": [
       "array([[ 3, 15],\n",
       "       [ 6, 10],\n",
       "       [ 2,  4]])"
      ]
     },
     "execution_count": 54,
     "metadata": {},
     "output_type": "execute_result"
    }
   ],
   "source": [
    "x * y"
   ]
  },
  {
   "cell_type": "code",
   "execution_count": 55,
   "id": "f31b4184-c148-45e2-968b-7364de6faf13",
   "metadata": {},
   "outputs": [
    {
     "data": {
      "text/plain": [
       "array([[4, 0, 0],\n",
       "       [0, 5, 0],\n",
       "       [0, 0, 9]])"
      ]
     },
     "execution_count": 55,
     "metadata": {},
     "output_type": "execute_result"
    }
   ],
   "source": [
    "z = np.diag([4, 5, 9])\n",
    "z"
   ]
  },
  {
   "cell_type": "code",
   "execution_count": 56,
   "id": "6a5f244e-d97f-445b-967f-82e81e083f0f",
   "metadata": {},
   "outputs": [
    {
     "data": {
      "text/plain": [
       "array([[12, 10,  2],\n",
       "       [ 0, 16,  6],\n",
       "       [32,  2,  6]])"
      ]
     },
     "execution_count": 56,
     "metadata": {},
     "output_type": "execute_result"
    }
   ],
   "source": [
    "m = np.array([[3,2,2],[1,4,2],[4,1,6]]) \n",
    "n = np.array([[4,5,1], [0,4,3], [8,2,1]]) \n",
    "m * n"
   ]
  },
  {
   "cell_type": "code",
   "execution_count": 59,
   "id": "b64c70ad-caa3-45bb-9a44-141b3771c3c6",
   "metadata": {},
   "outputs": [],
   "source": [
    "m = np.array([[3,2,2],[1,4,2],[4,1,6]]) \n",
    "n = np.array([[4,5,1], [0,4,3], [8,2,1]]) \n",
    "o = np.array([[3,2,2],[1,4,2],[4,1,6]])  "
   ]
  },
  {
   "cell_type": "code",
   "execution_count": 60,
   "id": "36b87162-973c-4a9a-9f34-cbafce9c9a4f",
   "metadata": {},
   "outputs": [
    {
     "data": {
      "text/plain": [
       "False"
      ]
     },
     "execution_count": 60,
     "metadata": {},
     "output_type": "execute_result"
    }
   ],
   "source": [
    "np.array_equal(m, n)"
   ]
  },
  {
   "cell_type": "code",
   "execution_count": 61,
   "id": "69501c22-65c9-435c-bb13-58762caf2764",
   "metadata": {},
   "outputs": [
    {
     "data": {
      "text/plain": [
       "True"
      ]
     },
     "execution_count": 61,
     "metadata": {},
     "output_type": "execute_result"
    }
   ],
   "source": [
    "np.array_equal(m, o)"
   ]
  },
  {
   "cell_type": "code",
   "execution_count": 62,
   "id": "52670ea1-e7ae-4224-808f-ba80a812c225",
   "metadata": {},
   "outputs": [
    {
     "data": {
      "text/plain": [
       "array([ True,  True,  True,  True])"
      ]
     },
     "execution_count": 62,
     "metadata": {},
     "output_type": "execute_result"
    }
   ],
   "source": [
    "a1 = np.array([0,1,0,1], dtype = bool)\n",
    "a2 = np.array([1,1,1,0], dtype = bool)\n",
    "np.logical_or(a1, a2)"
   ]
  },
  {
   "cell_type": "code",
   "execution_count": 63,
   "id": "7b97007c-7171-4485-a41f-ccac895be403",
   "metadata": {},
   "outputs": [
    {
     "data": {
      "text/plain": [
       "array([False,  True, False, False])"
      ]
     },
     "execution_count": 63,
     "metadata": {},
     "output_type": "execute_result"
    }
   ],
   "source": [
    "np.logical_and(a1, a2)"
   ]
  },
  {
   "cell_type": "code",
   "execution_count": 68,
   "id": "a83b9d04-933c-4f5f-9037-b911890bc618",
   "metadata": {},
   "outputs": [
    {
     "data": {
      "text/plain": [
       "array([ 0.84147098,  0.90929743,  0.14112001, -0.7568025 , -0.95892427])"
      ]
     },
     "execution_count": 68,
     "metadata": {},
     "output_type": "execute_result"
    }
   ],
   "source": [
    "op = np.arange(1, 6)\n",
    "np.sin(op)"
   ]
  },
  {
   "cell_type": "code",
   "execution_count": 69,
   "id": "919a76c5-f83f-4de3-99ae-96c53c640ae4",
   "metadata": {},
   "outputs": [
    {
     "data": {
      "text/plain": [
       "array([0.        , 0.69314718, 1.09861229, 1.38629436, 1.60943791])"
      ]
     },
     "execution_count": 69,
     "metadata": {},
     "output_type": "execute_result"
    }
   ],
   "source": [
    "np.log(op)"
   ]
  },
  {
   "cell_type": "code",
   "execution_count": 70,
   "id": "44dd9719-6274-4bd6-8a65-5ee172d9c2a7",
   "metadata": {},
   "outputs": [
    {
     "data": {
      "text/plain": [
       "array([  2.71828183,   7.3890561 ,  20.08553692,  54.59815003,\n",
       "       148.4131591 ])"
      ]
     },
     "execution_count": 70,
     "metadata": {},
     "output_type": "execute_result"
    }
   ],
   "source": [
    "np.exp(op)"
   ]
  },
  {
   "cell_type": "code",
   "execution_count": 73,
   "id": "37aa107f-57bb-4d28-915c-9b1378b190b4",
   "metadata": {},
   "outputs": [
    {
     "ename": "ValueError",
     "evalue": "operands could not be broadcast together with shapes (5,) (2,) ",
     "output_type": "error",
     "traceback": [
      "\u001b[1;31m---------------------------------------------------------------------------\u001b[0m",
      "\u001b[1;31mValueError\u001b[0m                                Traceback (most recent call last)",
      "Cell \u001b[1;32mIn[73], line 2\u001b[0m\n\u001b[0;32m      1\u001b[0m m \u001b[38;5;241m=\u001b[39m np\u001b[38;5;241m.\u001b[39marange(\u001b[38;5;241m5\u001b[39m)\n\u001b[1;32m----> 2\u001b[0m m \u001b[38;5;241m+\u001b[39m np\u001b[38;5;241m.\u001b[39marray([\u001b[38;5;241m3\u001b[39m,\u001b[38;5;241m2\u001b[39m])\n",
      "\u001b[1;31mValueError\u001b[0m: operands could not be broadcast together with shapes (5,) (2,) "
     ]
    }
   ],
   "source": [
    "m = np.arange(5)\n",
    "m + np.array([3,2])"
   ]
  },
  {
   "cell_type": "code",
   "execution_count": 74,
   "id": "0caa4b08-5538-44f8-8212-0d4edc882d5a",
   "metadata": {},
   "outputs": [],
   "source": [
    "p = np.array([8, 7, 6, 2])"
   ]
  },
  {
   "cell_type": "code",
   "execution_count": 75,
   "id": "178dea6a-86ee-4b2f-815f-a01710805ac5",
   "metadata": {},
   "outputs": [
    {
     "data": {
      "text/plain": [
       "23"
      ]
     },
     "execution_count": 75,
     "metadata": {},
     "output_type": "execute_result"
    }
   ],
   "source": [
    "np.sum(p)"
   ]
  },
  {
   "cell_type": "code",
   "execution_count": 76,
   "id": "c233f2d6-dcee-4ce6-8caa-7430b1bfb33d",
   "metadata": {},
   "outputs": [
    {
     "data": {
      "text/plain": [
       "array([[9, 8],\n",
       "       [2, 7]])"
      ]
     },
     "execution_count": 76,
     "metadata": {},
     "output_type": "execute_result"
    }
   ],
   "source": [
    "p = np.array([[9,8], [2,7]])\n",
    "p"
   ]
  },
  {
   "cell_type": "code",
   "execution_count": 77,
   "id": "d8f967ee-b7ce-4ebf-9cac-bfd8f2c931e0",
   "metadata": {},
   "outputs": [
    {
     "data": {
      "text/plain": [
       "array([11, 15])"
      ]
     },
     "execution_count": 77,
     "metadata": {},
     "output_type": "execute_result"
    }
   ],
   "source": [
    "p.sum(axis=0)"
   ]
  },
  {
   "cell_type": "code",
   "execution_count": 78,
   "id": "4100030b-7cff-415e-a4f0-11b4fdd5f1ff",
   "metadata": {},
   "outputs": [
    {
     "data": {
      "text/plain": [
       "array([17,  9])"
      ]
     },
     "execution_count": 78,
     "metadata": {},
     "output_type": "execute_result"
    }
   ],
   "source": [
    "p.sum(axis=1)"
   ]
  },
  {
   "cell_type": "code",
   "execution_count": 79,
   "id": "0e67a074-3570-4e2e-ba28-f779bbd7c1a7",
   "metadata": {},
   "outputs": [],
   "source": [
    "p = np.array([8, 7, 6, 2])"
   ]
  },
  {
   "cell_type": "code",
   "execution_count": 80,
   "id": "8eaa7e60-aa06-4c06-998c-9a596b231712",
   "metadata": {},
   "outputs": [
    {
     "data": {
      "text/plain": [
       "2"
      ]
     },
     "execution_count": 80,
     "metadata": {},
     "output_type": "execute_result"
    }
   ],
   "source": [
    "p.min()"
   ]
  },
  {
   "cell_type": "code",
   "execution_count": 81,
   "id": "92593e05-fe41-4e5d-94ea-e0adca07b7df",
   "metadata": {},
   "outputs": [
    {
     "data": {
      "text/plain": [
       "8"
      ]
     },
     "execution_count": 81,
     "metadata": {},
     "output_type": "execute_result"
    }
   ],
   "source": [
    "p.max()"
   ]
  },
  {
   "cell_type": "code",
   "execution_count": 82,
   "id": "7fbd324b-d592-4718-8554-d0e30c59cab5",
   "metadata": {},
   "outputs": [
    {
     "data": {
      "text/plain": [
       "3"
      ]
     },
     "execution_count": 82,
     "metadata": {},
     "output_type": "execute_result"
    }
   ],
   "source": [
    "p.argmin()"
   ]
  },
  {
   "cell_type": "code",
   "execution_count": 83,
   "id": "62396f59-e272-49e9-9611-072dbc66a7af",
   "metadata": {},
   "outputs": [
    {
     "data": {
      "text/plain": [
       "0"
      ]
     },
     "execution_count": 83,
     "metadata": {},
     "output_type": "execute_result"
    }
   ],
   "source": [
    "p.argmax()"
   ]
  },
  {
   "cell_type": "code",
   "execution_count": 84,
   "id": "50aec274-d437-4d6b-af0f-904017dad3b4",
   "metadata": {},
   "outputs": [
    {
     "name": "stdout",
     "output_type": "stream",
     "text": [
      "Array: [ 1  3  5  7  9 11 13 15 17]\n",
      "Min element: 1\n",
      "Max element: 17\n",
      "Sum of elements:  81\n",
      "Mean of elements: 9.0\n",
      "Median of elements: 9.0\n",
      "Standard deviation of elements: 5.163977794943222\n"
     ]
    }
   ],
   "source": [
    "narr = np.arange(1, 18, 2)\n",
    "print('Array:', format (narr)) \n",
    "print('Min element:', np.min(narr)) \n",
    "print('Max element:',np.max(narr)) \n",
    "print('Sum of elements: ', np. sum(narr)) \n",
    "print('Mean of elements:', np.mean (narr)) \n",
    "print('Median of elements:', np.median (narr)) \n",
    "print('Standard deviation of elements:', np.std (narr)) "
   ]
  },
  {
   "cell_type": "code",
   "execution_count": null,
   "id": "c07e767b-147a-4250-836a-3192b67fa82b",
   "metadata": {},
   "outputs": [],
   "source": []
  }
 ],
 "metadata": {
  "kernelspec": {
   "display_name": "Python 3 (ipykernel)",
   "language": "python",
   "name": "python3"
  },
  "language_info": {
   "codemirror_mode": {
    "name": "ipython",
    "version": 3
   },
   "file_extension": ".py",
   "mimetype": "text/x-python",
   "name": "python",
   "nbconvert_exporter": "python",
   "pygments_lexer": "ipython3",
   "version": "3.11.7"
  }
 },
 "nbformat": 4,
 "nbformat_minor": 5
}
