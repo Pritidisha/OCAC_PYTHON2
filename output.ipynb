{
 "cells": [
  {
   "cell_type": "code",
   "execution_count": 3,
   "id": "488a2bd8-e513-401e-bc34-31ecab34cda7",
   "metadata": {},
   "outputs": [
    {
     "name": "stdout",
     "output_type": "stream",
     "text": [
      "Hi\n"
     ]
    }
   ],
   "source": [
    "print(\"Hi\")"
   ]
  },
  {
   "cell_type": "code",
   "execution_count": 2,
   "id": "f0cf71fb-33fa-4b52-a5a3-a37798689621",
   "metadata": {},
   "outputs": [
    {
     "name": "stdout",
     "output_type": "stream",
     "text": [
      "2024\n"
     ]
    }
   ],
   "source": [
    "print(2024)"
   ]
  },
  {
   "cell_type": "code",
   "execution_count": 1,
   "id": "3fe60402-1f15-44cc-8090-9ae6972b28a7",
   "metadata": {},
   "outputs": [
    {
     "name": "stdout",
     "output_type": "stream",
     "text": [
      "Hello World!\n"
     ]
    }
   ],
   "source": [
    "print(\"Hello World!\")"
   ]
  },
  {
   "cell_type": "code",
   "execution_count": 4,
   "id": "0f881d75-a0c0-41a7-9652-35c40beb6dae",
   "metadata": {},
   "outputs": [
    {
     "name": "stdout",
     "output_type": "stream",
     "text": [
      "Hello    World!\n"
     ]
    }
   ],
   "source": [
    "print(\"Hello    World!\")"
   ]
  },
  {
   "cell_type": "code",
   "execution_count": 5,
   "id": "000e5450-b9b3-4953-81e1-f6c35e8c2700",
   "metadata": {},
   "outputs": [
    {
     "name": "stdout",
     "output_type": "stream",
     "text": [
      "90\n"
     ]
    }
   ],
   "source": [
    "world = 90\n",
    "print(world)"
   ]
  },
  {
   "cell_type": "code",
   "execution_count": 7,
   "id": "61354a8d-aec5-4813-a73d-6ce90a77e072",
   "metadata": {},
   "outputs": [
    {
     "name": "stdout",
     "output_type": "stream",
     "text": [
      "world\n"
     ]
    }
   ],
   "source": [
    "print(\"world\")"
   ]
  },
  {
   "cell_type": "code",
   "execution_count": 13,
   "id": "e354288c-7824-4c26-97bc-0e24c89afb41",
   "metadata": {},
   "outputs": [
    {
     "name": "stdout",
     "output_type": "stream",
     "text": [
      "12 13 14 15\n"
     ]
    }
   ],
   "source": [
    "n1, n2, n3, n4 = 12, 13, 14, 15\n",
    "print(n1, n2, n3, n4)"
   ]
  },
  {
   "cell_type": "code",
   "execution_count": 14,
   "id": "10013b3e-aaff-4d86-b6d7-d82ca56d85f2",
   "metadata": {},
   "outputs": [
    {
     "data": {
      "text/plain": [
       "int"
      ]
     },
     "execution_count": 14,
     "metadata": {},
     "output_type": "execute_result"
    }
   ],
   "source": [
    "type(n3)"
   ]
  },
  {
   "cell_type": "code",
   "execution_count": 15,
   "id": "367ca4ac-0342-4253-aef3-73f84d484770",
   "metadata": {},
   "outputs": [
    {
     "name": "stdout",
     "output_type": "stream",
     "text": [
      "Hello\n"
     ]
    },
    {
     "data": {
      "text/plain": [
       "str"
      ]
     },
     "execution_count": 15,
     "metadata": {},
     "output_type": "execute_result"
    }
   ],
   "source": [
    "lit = \"Hello\"\n",
    "print(lit)\n",
    "type(lit)"
   ]
  },
  {
   "cell_type": "code",
   "execution_count": 16,
   "id": "c49c8452-b29e-40ea-baa7-7d516d4bca46",
   "metadata": {},
   "outputs": [
    {
     "name": "stdout",
     "output_type": "stream",
     "text": [
      "25\n"
     ]
    }
   ],
   "source": [
    "print(n1+n2)"
   ]
  },
  {
   "cell_type": "code",
   "execution_count": 18,
   "id": "b7aff37a-eeee-485a-b2ca-c2940daa3f6c",
   "metadata": {},
   "outputs": [
    {
     "name": "stdout",
     "output_type": "stream",
     "text": [
      "25\n"
     ]
    }
   ],
   "source": [
    "n = n1 + n2\n",
    "print(n)"
   ]
  },
  {
   "cell_type": "code",
   "execution_count": 19,
   "id": "aed34430-df98-4967-915d-7d0e31806666",
   "metadata": {},
   "outputs": [
    {
     "name": "stdout",
     "output_type": "stream",
     "text": [
      "12:13:14:15\n"
     ]
    }
   ],
   "source": [
    "print(n1, n2, n3, n4, sep = \":\")"
   ]
  },
  {
   "cell_type": "code",
   "execution_count": 20,
   "id": "f57da094-8bed-45bc-bfeb-68e780d23c73",
   "metadata": {},
   "outputs": [
    {
     "name": "stdout",
     "output_type": "stream",
     "text": [
      "The value is:  25\n"
     ]
    }
   ],
   "source": [
    "print(\"The value is: \", n)"
   ]
  },
  {
   "cell_type": "code",
   "execution_count": 21,
   "id": "55821a93-1915-4585-8b22-221af0583f28",
   "metadata": {},
   "outputs": [
    {
     "name": "stdin",
     "output_type": "stream",
     "text": [
      "Enter the city name:  Bhubaneswar\n",
      "Enter the state name:  Odisha\n"
     ]
    },
    {
     "name": "stdout",
     "output_type": "stream",
     "text": [
      "Location: Bhubaneswar Odisha\n"
     ]
    }
   ],
   "source": [
    "city = input(\"Enter the city name: \")\n",
    "state = input(\"Enter the state name: \")\n",
    "print(\"Location:\", city, state)"
   ]
  },
  {
   "cell_type": "code",
   "execution_count": 22,
   "id": "97dd7336-25cc-4767-a6b1-163c32296da1",
   "metadata": {},
   "outputs": [
    {
     "name": "stdout",
     "output_type": "stream",
     "text": [
      "Location: Bhubaneswar , Odisha\n"
     ]
    }
   ],
   "source": [
    "print(\"Location:\", city, \",\", state)"
   ]
  },
  {
   "cell_type": "code",
   "execution_count": null,
   "id": "542393e7-dbcd-4567-a974-d07f34e01d56",
   "metadata": {},
   "outputs": [],
   "source": []
  }
 ],
 "metadata": {
  "kernelspec": {
   "display_name": "Python 3 (ipykernel)",
   "language": "python",
   "name": "python3"
  },
  "language_info": {
   "codemirror_mode": {
    "name": "ipython",
    "version": 3
   },
   "file_extension": ".py",
   "mimetype": "text/x-python",
   "name": "python",
   "nbconvert_exporter": "python",
   "pygments_lexer": "ipython3",
   "version": "3.11.7"
  }
 },
 "nbformat": 4,
 "nbformat_minor": 5
}
