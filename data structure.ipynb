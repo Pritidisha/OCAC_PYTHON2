{
 "cells": [
  {
   "cell_type": "markdown",
   "id": "7c535a4a-883a-43a7-9737-def648382fdd",
   "metadata": {},
   "source": [
    "LIST"
   ]
  },
  {
   "cell_type": "code",
   "execution_count": 1,
   "id": "1e0d0f4f-cfb0-4e2c-9af5-5b5aa305d14c",
   "metadata": {},
   "outputs": [
    {
     "data": {
      "text/plain": [
       "range(0, 5)"
      ]
     },
     "execution_count": 1,
     "metadata": {},
     "output_type": "execute_result"
    }
   ],
   "source": [
    "range(5)"
   ]
  },
  {
   "cell_type": "code",
   "execution_count": 2,
   "id": "71a27fd0-1f54-41c6-8690-512e4a277e8c",
   "metadata": {},
   "outputs": [
    {
     "data": {
      "text/plain": [
       "[0, 1, 2, 3, 4]"
      ]
     },
     "execution_count": 2,
     "metadata": {},
     "output_type": "execute_result"
    }
   ],
   "source": [
    "list(range(5))"
   ]
  },
  {
   "cell_type": "code",
   "execution_count": 3,
   "id": "1967ecc2-e472-4f25-8a0d-7b1a2dc74f35",
   "metadata": {},
   "outputs": [
    {
     "data": {
      "text/plain": [
       "[1, 2, 3, 4, 5]"
      ]
     },
     "execution_count": 3,
     "metadata": {},
     "output_type": "execute_result"
    }
   ],
   "source": [
    "list(range(1, 6))"
   ]
  },
  {
   "cell_type": "code",
   "execution_count": 6,
   "id": "522a3ed8-4add-46d7-b430-35bd889f64cd",
   "metadata": {},
   "outputs": [
    {
     "name": "stdout",
     "output_type": "stream",
     "text": [
      "[1, 3, 5, 7, 9]\n"
     ]
    }
   ],
   "source": [
    "print(list(range(1, 10, 2)))"
   ]
  },
  {
   "cell_type": "code",
   "execution_count": 9,
   "id": "8db0a953-8f96-491d-bc04-3290054d70a7",
   "metadata": {},
   "outputs": [
    {
     "name": "stdout",
     "output_type": "stream",
     "text": [
      "[5, 4, 3, 2, 1]\n"
     ]
    }
   ],
   "source": [
    "print(list(range(5, 0, -1)))"
   ]
  },
  {
   "cell_type": "code",
   "execution_count": 10,
   "id": "e34ff7cc-2514-454e-bb09-38647ab7d11e",
   "metadata": {},
   "outputs": [
    {
     "data": {
      "text/plain": [
       "[]"
      ]
     },
     "execution_count": 10,
     "metadata": {},
     "output_type": "execute_result"
    }
   ],
   "source": [
    "l1 = []\n",
    "l1"
   ]
  },
  {
   "cell_type": "code",
   "execution_count": 11,
   "id": "3b0050ff-0733-423a-bfa7-9395a6c9b5bf",
   "metadata": {},
   "outputs": [
    {
     "data": {
      "text/plain": [
       "[]"
      ]
     },
     "execution_count": 11,
     "metadata": {},
     "output_type": "execute_result"
    }
   ],
   "source": [
    "l2 = list()\n",
    "l2"
   ]
  },
  {
   "cell_type": "code",
   "execution_count": 12,
   "id": "86a57a77-cb64-47b4-9267-14910c865ddf",
   "metadata": {},
   "outputs": [
    {
     "data": {
      "text/plain": [
       "[10, 11, 12, 13, 14]"
      ]
     },
     "execution_count": 12,
     "metadata": {},
     "output_type": "execute_result"
    }
   ],
   "source": [
    "l1 = [10, 11, 12, 13, 14]\n",
    "l1"
   ]
  },
  {
   "cell_type": "code",
   "execution_count": 13,
   "id": "af60bf14-efe2-4452-b3c7-ba4614786568",
   "metadata": {},
   "outputs": [
    {
     "data": {
      "text/plain": [
       "list"
      ]
     },
     "execution_count": 13,
     "metadata": {},
     "output_type": "execute_result"
    }
   ],
   "source": [
    "type(l1)"
   ]
  },
  {
   "cell_type": "code",
   "execution_count": 17,
   "id": "a6bc9f66-c3ba-479c-aead-46330e5a2397",
   "metadata": {},
   "outputs": [
    {
     "data": {
      "text/plain": [
       "[10, 'June', '2024', 0.2, (12+5j), False]"
      ]
     },
     "execution_count": 17,
     "metadata": {},
     "output_type": "execute_result"
    }
   ],
   "source": [
    "l2 = [10, 'June', \"2024\", 0.20, 5j + 12, False]\n",
    "l2"
   ]
  },
  {
   "cell_type": "code",
   "execution_count": 24,
   "id": "3154b808-a914-4490-8cf7-5a54f9028e5a",
   "metadata": {},
   "outputs": [
    {
     "data": {
      "text/plain": [
       "[[23, 'new hamilton', 30.78, 'street'], [10, 9.0, 13, 9.9]]"
      ]
     },
     "execution_count": 24,
     "metadata": {},
     "output_type": "execute_result"
    }
   ],
   "source": [
    "l3 = [[23, 'new hamilton', 30.78, 'street'], [10, 9.0, 13, 9.9]]\n",
    "l3"
   ]
  },
  {
   "cell_type": "code",
   "execution_count": 25,
   "id": "69d5a86b-7038-48cc-98cc-c1be2a97921b",
   "metadata": {},
   "outputs": [
    {
     "data": {
      "text/plain": [
       "[[10, 'June', '2024', 0.2, (12+5j), False], [10, 11, 12, 13, 14]]"
      ]
     },
     "execution_count": 25,
     "metadata": {},
     "output_type": "execute_result"
    }
   ],
   "source": [
    "l4 = [l2, l1]\n",
    "l4"
   ]
  },
  {
   "cell_type": "code",
   "execution_count": 26,
   "id": "ad4154cd-836a-4af6-a1a1-195b9b0b421e",
   "metadata": {},
   "outputs": [
    {
     "name": "stdout",
     "output_type": "stream",
     "text": [
      "2\n"
     ]
    }
   ],
   "source": [
    "print(len(l3))"
   ]
  },
  {
   "cell_type": "code",
   "execution_count": 27,
   "id": "40f10ee9-669e-4248-90f3-7244b3aef45c",
   "metadata": {},
   "outputs": [
    {
     "name": "stdout",
     "output_type": "stream",
     "text": [
      "23\n",
      "9.9\n"
     ]
    }
   ],
   "source": [
    "l5 = [23, 'new hamilton', 30.78, 'street', 10, 9.0, 13, 9.9]\n",
    "print(l5[0])\n",
    "print(l5[-1])"
   ]
  },
  {
   "cell_type": "code",
   "execution_count": 28,
   "id": "3225a15c-6d47-4b7d-8835-df85a0454188",
   "metadata": {},
   "outputs": [
    {
     "data": {
      "text/plain": [
       "[23, 'new hamilton', 30.76, 'street', 10, 9.0, 13, 9.9]"
      ]
     },
     "execution_count": 28,
     "metadata": {},
     "output_type": "execute_result"
    }
   ],
   "source": [
    "l5[2] = 30.76\n",
    "l5"
   ]
  },
  {
   "cell_type": "code",
   "execution_count": 29,
   "id": "139cb000-a31c-49da-90a2-8139981c5da0",
   "metadata": {},
   "outputs": [
    {
     "name": "stdout",
     "output_type": "stream",
     "text": [
      "[23, 'new hamilton', 30.76, 'street', 10, 9.0, 13, 9.9]\n",
      "[23, 'new hamilton', 30.76, 'street', 10, 9.0, 13, 9.9]\n",
      "[23, 'new hamilton', 30.76, 'street', 10]\n",
      "[23, 'street', 13]\n",
      "['new hamilton', 10, 9.9]\n",
      "[23, 'street']\n",
      "[9.9, 13, 9.0, 10, 'street', 30.76, 'new hamilton', 23]\n"
     ]
    }
   ],
   "source": [
    "print(l5[:])\n",
    "print(l5[0:])\n",
    "print(l5[:5])\n",
    "print(l5[::3])\n",
    "print(l5[1::3])\n",
    "print(l5[:6:3])\n",
    "print(l5[::-1])"
   ]
  },
  {
   "cell_type": "code",
   "execution_count": 30,
   "id": "22ab2683-efdf-4ccd-9713-45456012fd68",
   "metadata": {},
   "outputs": [
    {
     "name": "stdout",
     "output_type": "stream",
     "text": [
      "2\n"
     ]
    }
   ],
   "source": [
    "l3 = [[23, 'new hamilton', 30.78, 'street'], [10, 9.0, 13, 9.9]]\n",
    "print(len(l3))"
   ]
  },
  {
   "cell_type": "code",
   "execution_count": 31,
   "id": "b8914bc4-9e0f-41b2-9491-7a978b14e6f8",
   "metadata": {},
   "outputs": [
    {
     "data": {
      "text/plain": [
       "13"
      ]
     },
     "execution_count": 31,
     "metadata": {},
     "output_type": "execute_result"
    }
   ],
   "source": [
    "l3[1][2]"
   ]
  },
  {
   "cell_type": "code",
   "execution_count": 32,
   "id": "63ea6a01-dfc7-4341-9a88-340f8f8f8069",
   "metadata": {},
   "outputs": [
    {
     "data": {
      "text/plain": [
       "[10, 11, 12, 13, 14, 10, 'June', '2024', 0.2, (12+5j), False]"
      ]
     },
     "execution_count": 32,
     "metadata": {},
     "output_type": "execute_result"
    }
   ],
   "source": [
    "l1 + l2"
   ]
  },
  {
   "cell_type": "code",
   "execution_count": 49,
   "id": "e794e900-67a9-4b66-9480-63c54e8f2cfe",
   "metadata": {},
   "outputs": [
    {
     "data": {
      "text/plain": [
       "[[23, 'new hamilton', 30.78, 'street'], [10, 9.0, 13, 9.9], ['time', 'day']]"
      ]
     },
     "execution_count": 49,
     "metadata": {},
     "output_type": "execute_result"
    }
   ],
   "source": [
    "l3 = [[23, 'new hamilton', 30.78, 'street'], [10, 9.0, 13, 9.9]]\n",
    "l3.append(['time', 'day'])\n",
    "l3"
   ]
  },
  {
   "cell_type": "code",
   "execution_count": 50,
   "id": "0cee2ece-fdfd-4116-856a-0c3635a68361",
   "metadata": {},
   "outputs": [
    {
     "data": {
      "text/plain": [
       "[[23, 'new hamilton', 30.78, 'street'], [10, 9.0, 13, 9.9], 'time', 'day']"
      ]
     },
     "execution_count": 50,
     "metadata": {},
     "output_type": "execute_result"
    }
   ],
   "source": [
    "l3 = [[23, 'new hamilton', 30.78, 'street'], [10, 9.0, 13, 9.9]]\n",
    "l3.extend(['time', 'day'])\n",
    "l3"
   ]
  },
  {
   "cell_type": "code",
   "execution_count": 51,
   "id": "503ebe07-1c03-4ea3-95bf-32ebe2829a6e",
   "metadata": {},
   "outputs": [
    {
     "data": {
      "text/plain": [
       "[[23, 'new hamilton', 30.78, 'street'], [10, 9.0, 13, 9.9], 56, 'time', 'day']"
      ]
     },
     "execution_count": 51,
     "metadata": {},
     "output_type": "execute_result"
    }
   ],
   "source": [
    "l3.insert(2, 56)\n",
    "l3"
   ]
  },
  {
   "cell_type": "code",
   "execution_count": 52,
   "id": "9a5f53d3-0e76-4238-b5dc-e01b3ef0c760",
   "metadata": {},
   "outputs": [
    {
     "data": {
      "text/plain": [
       "[[23, 'new hamilton', 30.78, 'street'], [10, 9.0, 13, 9.9], 'time', 'day']"
      ]
     },
     "execution_count": 52,
     "metadata": {},
     "output_type": "execute_result"
    }
   ],
   "source": [
    "l3.remove(56)\n",
    "l3"
   ]
  },
  {
   "cell_type": "code",
   "execution_count": 53,
   "id": "2a178f89-f98c-495f-9f61-c37b0eacc6a3",
   "metadata": {},
   "outputs": [
    {
     "data": {
      "text/plain": [
       "[[23, 'new hamilton', 30.78, 'street'], [10, 9.0, 13, 9.9], 'day']"
      ]
     },
     "execution_count": 53,
     "metadata": {},
     "output_type": "execute_result"
    }
   ],
   "source": [
    "l3.remove(l3[2])\n",
    "l3"
   ]
  },
  {
   "cell_type": "code",
   "execution_count": 54,
   "id": "9809c2c3-53b9-459f-80a9-911216fb96b6",
   "metadata": {},
   "outputs": [
    {
     "data": {
      "text/plain": [
       "[23, 'new hamilton', 30.78, 'street', 10, 9.0, 13]"
      ]
     },
     "execution_count": 54,
     "metadata": {},
     "output_type": "execute_result"
    }
   ],
   "source": [
    "l5 = [23, 'new hamilton', 30.78, 'street', 10, 9.0, 13, 9.9]\n",
    "l5.pop()\n",
    "l5"
   ]
  },
  {
   "cell_type": "code",
   "execution_count": 55,
   "id": "bbd03a48-dbd4-4c07-bb46-9fe3529bac9c",
   "metadata": {},
   "outputs": [
    {
     "data": {
      "text/plain": [
       "[23, 'new hamilton', 30.78, 10, 9.0, 13]"
      ]
     },
     "execution_count": 55,
     "metadata": {},
     "output_type": "execute_result"
    }
   ],
   "source": [
    "l5.pop(3)\n",
    "l5"
   ]
  },
  {
   "cell_type": "code",
   "execution_count": 56,
   "id": "abfe12cf-c9e4-4a1f-9ba5-ebc5ddad2528",
   "metadata": {},
   "outputs": [
    {
     "data": {
      "text/plain": [
       "[23, 'new hamilton', 30.78, 10, 13]"
      ]
     },
     "execution_count": 56,
     "metadata": {},
     "output_type": "execute_result"
    }
   ],
   "source": [
    "del l5[4]\n",
    "l5"
   ]
  },
  {
   "cell_type": "code",
   "execution_count": 57,
   "id": "c50e31b4-6751-4f3c-a90f-6c570f8d7040",
   "metadata": {},
   "outputs": [
    {
     "data": {
      "text/plain": [
       "[12, 32, 90, 87, 77, 56]"
      ]
     },
     "execution_count": 57,
     "metadata": {},
     "output_type": "execute_result"
    }
   ],
   "source": [
    "l5 = [45, 32, 44, 12, 32, 90, 87, 77, 56]\n",
    "del l5[0:3]\n",
    "l5"
   ]
  },
  {
   "cell_type": "code",
   "execution_count": 58,
   "id": "8343447d-f4ec-481f-9c82-2a52332756bf",
   "metadata": {},
   "outputs": [
    {
     "data": {
      "text/plain": [
       "[12, 32, 56, 77, 87, 90]"
      ]
     },
     "execution_count": 58,
     "metadata": {},
     "output_type": "execute_result"
    }
   ],
   "source": [
    "sorted(l5)"
   ]
  },
  {
   "cell_type": "code",
   "execution_count": 59,
   "id": "7ddbe1dc-d2ee-4fce-ad48-c14d601b9a8b",
   "metadata": {},
   "outputs": [
    {
     "data": {
      "text/plain": [
       "[90, 87, 77, 56, 32, 12]"
      ]
     },
     "execution_count": 59,
     "metadata": {},
     "output_type": "execute_result"
    }
   ],
   "source": [
    "sorted(l5, reverse = True)"
   ]
  },
  {
   "cell_type": "code",
   "execution_count": 60,
   "id": "0d496126-d2db-4512-8542-b848ef6199d4",
   "metadata": {},
   "outputs": [
    {
     "data": {
      "text/plain": [
       "[12, 32, 90, 87, 77, 56]"
      ]
     },
     "execution_count": 60,
     "metadata": {},
     "output_type": "execute_result"
    }
   ],
   "source": [
    "l5"
   ]
  },
  {
   "cell_type": "code",
   "execution_count": 62,
   "id": "2a2ba192-b965-4856-b8cd-d3fe7d37d187",
   "metadata": {},
   "outputs": [
    {
     "data": {
      "text/plain": [
       "[12, 32, 56, 77, 87, 90]"
      ]
     },
     "execution_count": 62,
     "metadata": {},
     "output_type": "execute_result"
    }
   ],
   "source": [
    "l5.sort()\n",
    "l5"
   ]
  },
  {
   "cell_type": "code",
   "execution_count": 63,
   "id": "d85841cb-a6a0-41ab-8299-d9d1f7edd287",
   "metadata": {},
   "outputs": [
    {
     "data": {
      "text/plain": [
       "[[23, 'new hamilton', 30.78, 'street'], [10, 9.0, 13, 9.9], 'day']"
      ]
     },
     "execution_count": 63,
     "metadata": {},
     "output_type": "execute_result"
    }
   ],
   "source": [
    "l3"
   ]
  },
  {
   "cell_type": "code",
   "execution_count": 64,
   "id": "48345c68-ed4f-439b-beab-06035ea1af58",
   "metadata": {},
   "outputs": [
    {
     "ename": "TypeError",
     "evalue": "'<' not supported between instances of 'str' and 'list'",
     "output_type": "error",
     "traceback": [
      "\u001b[1;31m---------------------------------------------------------------------------\u001b[0m",
      "\u001b[1;31mTypeError\u001b[0m                                 Traceback (most recent call last)",
      "Cell \u001b[1;32mIn[64], line 1\u001b[0m\n\u001b[1;32m----> 1\u001b[0m l3\u001b[38;5;241m.\u001b[39msort()\n\u001b[0;32m      2\u001b[0m l3\n",
      "\u001b[1;31mTypeError\u001b[0m: '<' not supported between instances of 'str' and 'list'"
     ]
    }
   ],
   "source": [
    "l3.sort()\n",
    "l3"
   ]
  },
  {
   "cell_type": "code",
   "execution_count": 65,
   "id": "fc1545b9-be17-4d1a-8715-d2a3b8e80b82",
   "metadata": {},
   "outputs": [
    {
     "data": {
      "text/plain": [
       "[12, 32, 56, 77, 87, 90]"
      ]
     },
     "execution_count": 65,
     "metadata": {},
     "output_type": "execute_result"
    }
   ],
   "source": [
    "l5"
   ]
  },
  {
   "cell_type": "code",
   "execution_count": 66,
   "id": "897fcd15-08f3-476d-9e86-f5e758c9508a",
   "metadata": {},
   "outputs": [
    {
     "name": "stdout",
     "output_type": "stream",
     "text": [
      "1\n",
      "0\n"
     ]
    }
   ],
   "source": [
    "print(l5.count(12))\n",
    "print(l5.count(11))"
   ]
  },
  {
   "cell_type": "code",
   "execution_count": 70,
   "id": "a7438eda-44d5-40a8-94df-315ad503713d",
   "metadata": {},
   "outputs": [
    {
     "name": "stdout",
     "output_type": "stream",
     "text": [
      "[10, 11, 12, 13, 14]\n",
      "[10, 'June', '2024', 0.2, (12+5j), False]\n"
     ]
    }
   ],
   "source": [
    "print(l1)\n",
    "print(l2)"
   ]
  },
  {
   "cell_type": "code",
   "execution_count": 72,
   "id": "18096bb6-3ccb-44ec-9572-dddf3af02655",
   "metadata": {},
   "outputs": [
    {
     "name": "stdout",
     "output_type": "stream",
     "text": [
      "[10, 11, 12, 13, 14, 90, 90]\n",
      "[10, 11, 12, 13, 14, 90, 90]\n"
     ]
    }
   ],
   "source": [
    "l6 =  l1\n",
    "l6.append(90)\n",
    "print(l1)\n",
    "print(l6)"
   ]
  },
  {
   "cell_type": "code",
   "execution_count": 74,
   "id": "c09a574f-abf5-4822-8f56-b982ef4ae1ab",
   "metadata": {},
   "outputs": [
    {
     "name": "stdout",
     "output_type": "stream",
     "text": [
      "[10, 11, 12, 13, 14]\n",
      "[10, 11, 12, 13, 14, 90]\n"
     ]
    }
   ],
   "source": [
    "l1 = [10, 11, 12, 13, 14]\n",
    "l6 = l1.copy()\n",
    "l6.append(90)\n",
    "print(l1)\n",
    "print(l6)"
   ]
  },
  {
   "cell_type": "code",
   "execution_count": 77,
   "id": "e1e71e35-22bf-4a72-80ee-d583cb6ebc93",
   "metadata": {},
   "outputs": [
    {
     "data": {
      "text/plain": [
       "4"
      ]
     },
     "execution_count": 77,
     "metadata": {},
     "output_type": "execute_result"
    }
   ],
   "source": [
    "l6.index(14)"
   ]
  },
  {
   "cell_type": "code",
   "execution_count": 78,
   "id": "c0d26b34-93a8-4962-9ec9-47f3e0f04b4d",
   "metadata": {},
   "outputs": [
    {
     "name": "stdout",
     "output_type": "stream",
     "text": [
      "10\n",
      "90\n",
      "354\n"
     ]
    }
   ],
   "source": [
    "print(min(l6))\n",
    "print(max(l6))\n",
    "print(sum(l5))"
   ]
  },
  {
   "cell_type": "markdown",
   "id": "57b8dd70-63c5-428c-8b1c-f0194a94ef09",
   "metadata": {},
   "source": [
    "TUPLE"
   ]
  },
  {
   "cell_type": "code",
   "execution_count": 79,
   "id": "230e5a91-56b9-4563-8988-18b655892bca",
   "metadata": {},
   "outputs": [
    {
     "data": {
      "text/plain": [
       "()"
      ]
     },
     "execution_count": 79,
     "metadata": {},
     "output_type": "execute_result"
    }
   ],
   "source": [
    "t1 = ()\n",
    "t1"
   ]
  },
  {
   "cell_type": "code",
   "execution_count": 80,
   "id": "cda414ec-d1f4-4f86-8413-01955fac4d9b",
   "metadata": {},
   "outputs": [
    {
     "data": {
      "text/plain": [
       "tuple"
      ]
     },
     "execution_count": 80,
     "metadata": {},
     "output_type": "execute_result"
    }
   ],
   "source": [
    "t2 = tuple()\n",
    "type(t2)"
   ]
  },
  {
   "cell_type": "code",
   "execution_count": 100,
   "id": "a3607e42-74de-4e75-b52b-251fdd115f35",
   "metadata": {},
   "outputs": [
    {
     "data": {
      "text/plain": [
       "(10.6, '2024', 21)"
      ]
     },
     "execution_count": 100,
     "metadata": {},
     "output_type": "execute_result"
    }
   ],
   "source": [
    "t1 = (10.6, '2024', 21)\n",
    "t1"
   ]
  },
  {
   "cell_type": "code",
   "execution_count": 101,
   "id": "c94fddae-a57f-4bf5-8764-0624dc60411a",
   "metadata": {},
   "outputs": [
    {
     "data": {
      "text/plain": [
       "('hello', 10, (6, 2024), ('june', 'july'))"
      ]
     },
     "execution_count": 101,
     "metadata": {},
     "output_type": "execute_result"
    }
   ],
   "source": [
    "t2 = ('hello', 10, (6, 2024), ('june', 'july'))\n",
    "t2"
   ]
  },
  {
   "cell_type": "code",
   "execution_count": 102,
   "id": "21fc519c-45f0-467a-a025-5e5652b0c970",
   "metadata": {},
   "outputs": [],
   "source": [
    "t2 = ('hello', 10, [6, 2024], ['june', 'july'])"
   ]
  },
  {
   "cell_type": "code",
   "execution_count": 103,
   "id": "5b2462f6-1ace-4baa-9248-246b66424dca",
   "metadata": {},
   "outputs": [
    {
     "data": {
      "text/plain": [
       "('hello', 10, [60, 2024], ['june', 'july'])"
      ]
     },
     "execution_count": 103,
     "metadata": {},
     "output_type": "execute_result"
    }
   ],
   "source": [
    "t2[2][0] = 60\n",
    "t2"
   ]
  },
  {
   "cell_type": "code",
   "execution_count": 104,
   "id": "06da3856-5fd7-4211-b638-380b6f5d51a2",
   "metadata": {},
   "outputs": [
    {
     "data": {
      "text/plain": [
       "4"
      ]
     },
     "execution_count": 104,
     "metadata": {},
     "output_type": "execute_result"
    }
   ],
   "source": [
    "len(t2)"
   ]
  },
  {
   "cell_type": "code",
   "execution_count": 105,
   "id": "8701c61d-e379-438c-a747-d37a6b630c0f",
   "metadata": {},
   "outputs": [
    {
     "name": "stdout",
     "output_type": "stream",
     "text": [
      "july\n",
      "hello\n",
      "['june', 'july']\n"
     ]
    }
   ],
   "source": [
    "print(t2[3][1])\n",
    "print(t2[0])\n",
    "print(t2[-1])"
   ]
  },
  {
   "cell_type": "code",
   "execution_count": 106,
   "id": "eb02bdb6-cab3-455e-b4c9-024f64d39037",
   "metadata": {},
   "outputs": [
    {
     "name": "stdout",
     "output_type": "stream",
     "text": [
      "('jan', 'feb', 'mar', 'apr', 'may')\n",
      "('feb', 'mar', 'apr', 'may', 'jun', 'jul')\n",
      "('jan', 'feb', 'mar', 'apr', 'may')\n",
      "('jul', 'aug', 'sept', 'oct', 'nov', 'dec')\n",
      "('dec', 'nov', 'oct', 'sept')\n",
      "('jan', 'feb', 'mar', 'apr', 'may', 'jun', 'jul', 'aug', 'sept', 'oct', 'nov', 'dec')\n"
     ]
    }
   ],
   "source": [
    "t3 = ('jan', 'feb', 'mar', 'apr', 'may', 'jun', 'jul', 'aug', 'sept', 'oct', 'nov', 'dec')\n",
    "print(t3[0:5])\n",
    "print(t3[1:7])\n",
    "print(t3[:5])\n",
    "print(t3[-6:])\n",
    "print(t3[-1:-5:-1])\n",
    "print(t3)"
   ]
  },
  {
   "cell_type": "code",
   "execution_count": 107,
   "id": "bc61226c-abd3-4993-a166-6d063af6d977",
   "metadata": {},
   "outputs": [
    {
     "ename": "TypeError",
     "evalue": "'tuple' object does not support item assignment",
     "output_type": "error",
     "traceback": [
      "\u001b[1;31m---------------------------------------------------------------------------\u001b[0m",
      "\u001b[1;31mTypeError\u001b[0m                                 Traceback (most recent call last)",
      "Cell \u001b[1;32mIn[107], line 1\u001b[0m\n\u001b[1;32m----> 1\u001b[0m t1[\u001b[38;5;241m0\u001b[39m] \u001b[38;5;241m=\u001b[39m \u001b[38;5;241m1.23\u001b[39m\n",
      "\u001b[1;31mTypeError\u001b[0m: 'tuple' object does not support item assignment"
     ]
    }
   ],
   "source": [
    "t1[0] = 1.23"
   ]
  },
  {
   "cell_type": "code",
   "execution_count": 108,
   "id": "73eb49a7-5d96-4c07-bff9-57827be20497",
   "metadata": {},
   "outputs": [],
   "source": [
    "del t1"
   ]
  },
  {
   "cell_type": "code",
   "execution_count": 109,
   "id": "289043f5-3429-43f0-8d91-805a500d6c9d",
   "metadata": {},
   "outputs": [
    {
     "ename": "NameError",
     "evalue": "name 't1' is not defined",
     "output_type": "error",
     "traceback": [
      "\u001b[1;31m---------------------------------------------------------------------------\u001b[0m",
      "\u001b[1;31mNameError\u001b[0m                                 Traceback (most recent call last)",
      "Cell \u001b[1;32mIn[109], line 1\u001b[0m\n\u001b[1;32m----> 1\u001b[0m t1\n",
      "\u001b[1;31mNameError\u001b[0m: name 't1' is not defined"
     ]
    }
   ],
   "source": [
    "t1"
   ]
  },
  {
   "cell_type": "code",
   "execution_count": 112,
   "id": "120cffdd-3d07-43b4-9891-07d625dd7506",
   "metadata": {},
   "outputs": [
    {
     "name": "stdout",
     "output_type": "stream",
     "text": [
      "3\n",
      "1\n"
     ]
    }
   ],
   "source": [
    "t1 = ('simi', 'rimi', 'chan', 'simi', 'niki', 'viki', 'mike', 'simi')\n",
    "print(t1.count('simi'))\n",
    "print(t1.count('chan'))"
   ]
  },
  {
   "cell_type": "code",
   "execution_count": 113,
   "id": "c938d842-886d-4d5e-bc0b-0f8f8889e54b",
   "metadata": {},
   "outputs": [
    {
     "data": {
      "text/plain": [
       "5"
      ]
     },
     "execution_count": 113,
     "metadata": {},
     "output_type": "execute_result"
    }
   ],
   "source": [
    "t1.index('viki')"
   ]
  },
  {
   "cell_type": "code",
   "execution_count": 114,
   "id": "f10ce397-6d6b-4ffc-9e1b-3bba150a7b27",
   "metadata": {},
   "outputs": [
    {
     "ename": "ValueError",
     "evalue": "tuple.index(x): x not in tuple",
     "output_type": "error",
     "traceback": [
      "\u001b[1;31m---------------------------------------------------------------------------\u001b[0m",
      "\u001b[1;31mValueError\u001b[0m                                Traceback (most recent call last)",
      "Cell \u001b[1;32mIn[114], line 1\u001b[0m\n\u001b[1;32m----> 1\u001b[0m t1\u001b[38;5;241m.\u001b[39mindex(\u001b[38;5;124m'\u001b[39m\u001b[38;5;124mprit\u001b[39m\u001b[38;5;124m'\u001b[39m)\n",
      "\u001b[1;31mValueError\u001b[0m: tuple.index(x): x not in tuple"
     ]
    }
   ],
   "source": [
    "t1.index('prit')"
   ]
  },
  {
   "cell_type": "code",
   "execution_count": 115,
   "id": "d59e5f21-45d9-4307-be1c-a384bed27453",
   "metadata": {},
   "outputs": [
    {
     "data": {
      "text/plain": [
       "[19, 20, 22, 34, 39, 44, 54, 67, 76, 87, 90]"
      ]
     },
     "execution_count": 115,
     "metadata": {},
     "output_type": "execute_result"
    }
   ],
   "source": [
    "t5 = (90, 34, 22, 54, 67, 19, 76, 20, 87, 44, 39)\n",
    "sorted(t5)"
   ]
  },
  {
   "cell_type": "code",
   "execution_count": 116,
   "id": "405d5fc4-efd4-4722-a3d6-7cd90d782fc2",
   "metadata": {},
   "outputs": [
    {
     "data": {
      "text/plain": [
       "[90, 87, 76, 67, 54, 44, 39, 34, 22, 20, 19]"
      ]
     },
     "execution_count": 116,
     "metadata": {},
     "output_type": "execute_result"
    }
   ],
   "source": [
    "sorted(t5, reverse = True)"
   ]
  },
  {
   "cell_type": "code",
   "execution_count": 118,
   "id": "a17d5106-38c5-4b73-9ec7-56e1cf49652b",
   "metadata": {},
   "outputs": [
    {
     "name": "stdout",
     "output_type": "stream",
     "text": [
      "False\n",
      "True\n"
     ]
    }
   ],
   "source": [
    "t1 = ('simi', 'rimi', 'chan', 'simi', 'niki', 'viki', 'mike', 'simi')\n",
    "print('richa' in t1)\n",
    "print('mike' in t1)"
   ]
  },
  {
   "cell_type": "markdown",
   "id": "92429157-1939-4774-813a-f402f637017d",
   "metadata": {},
   "source": [
    "SET"
   ]
  },
  {
   "cell_type": "code",
   "execution_count": 119,
   "id": "7b4ea62e-2260-4214-8c8c-05fd594a47e2",
   "metadata": {},
   "outputs": [
    {
     "name": "stdout",
     "output_type": "stream",
     "text": [
      "set()\n",
      "<class 'set'>\n"
     ]
    }
   ],
   "source": [
    "s1 = set()\n",
    "print(s1)\n",
    "print(type(s1))"
   ]
  },
  {
   "cell_type": "code",
   "execution_count": 120,
   "id": "db3e8c21-6f9c-4a46-a28b-2e6308425237",
   "metadata": {},
   "outputs": [
    {
     "data": {
      "text/plain": [
       "{12, 35, 45, 89, 'good', 'morning'}"
      ]
     },
     "execution_count": 120,
     "metadata": {},
     "output_type": "execute_result"
    }
   ],
   "source": [
    "s2 = {45, 89, 'good', 12, 35, 'morning'}\n",
    "s2"
   ]
  },
  {
   "cell_type": "code",
   "execution_count": 121,
   "id": "236f0ed1-7f8b-4f9b-bca4-410aeee9209f",
   "metadata": {},
   "outputs": [
    {
     "data": {
      "text/plain": [
       "{1, 2, 5, 6}"
      ]
     },
     "execution_count": 121,
     "metadata": {},
     "output_type": "execute_result"
    }
   ],
   "source": [
    "s1 = {1, 5, 5, 6, 2, 2, 2, 6, 5}\n",
    "s1"
   ]
  },
  {
   "cell_type": "code",
   "execution_count": 122,
   "id": "b9f74f87-cd21-4eaf-aaec-83a0480c5e07",
   "metadata": {},
   "outputs": [
    {
     "ename": "TypeError",
     "evalue": "'set' object is not subscriptable",
     "output_type": "error",
     "traceback": [
      "\u001b[1;31m---------------------------------------------------------------------------\u001b[0m",
      "\u001b[1;31mTypeError\u001b[0m                                 Traceback (most recent call last)",
      "Cell \u001b[1;32mIn[122], line 1\u001b[0m\n\u001b[1;32m----> 1\u001b[0m \u001b[38;5;28mprint\u001b[39m(s1[\u001b[38;5;241m2\u001b[39m])\n",
      "\u001b[1;31mTypeError\u001b[0m: 'set' object is not subscriptable"
     ]
    }
   ],
   "source": [
    "print(s1[2])"
   ]
  },
  {
   "cell_type": "code",
   "execution_count": 123,
   "id": "76b77c6e-630c-4411-a68a-db4b8a9479cb",
   "metadata": {},
   "outputs": [
    {
     "data": {
      "text/plain": [
       "[1, 2, 5, 6]"
      ]
     },
     "execution_count": 123,
     "metadata": {},
     "output_type": "execute_result"
    }
   ],
   "source": [
    "l = list(set([1, 5, 5, 6, 2, 2, 2, 6, 5]))\n",
    "l"
   ]
  },
  {
   "cell_type": "code",
   "execution_count": 124,
   "id": "33a23614-7401-401c-8770-2f5cde791b19",
   "metadata": {},
   "outputs": [
    {
     "data": {
      "text/plain": [
       "{'four', 'hi', 'thirteen'}"
      ]
     },
     "execution_count": 124,
     "metadata": {},
     "output_type": "execute_result"
    }
   ],
   "source": [
    "t = set(('thirteen', 'four','hi'))\n",
    "t"
   ]
  },
  {
   "cell_type": "code",
   "execution_count": 125,
   "id": "b8ef002f-6a31-41bc-ad21-adb548f3ae73",
   "metadata": {},
   "outputs": [
    {
     "data": {
      "text/plain": [
       "{8, 18, 28, 38, 48, 58, 68, 78}"
      ]
     },
     "execution_count": 125,
     "metadata": {},
     "output_type": "execute_result"
    }
   ],
   "source": [
    "a = set(range(8,80,10))\n",
    "a"
   ]
  },
  {
   "cell_type": "code",
   "execution_count": 126,
   "id": "0553b582-e6bb-4bf7-b299-31f2e1deebaf",
   "metadata": {},
   "outputs": [
    {
     "data": {
      "text/plain": [
       "set()"
      ]
     },
     "execution_count": 126,
     "metadata": {},
     "output_type": "execute_result"
    }
   ],
   "source": [
    "s3 = set()\n",
    "s3"
   ]
  },
  {
   "cell_type": "code",
   "execution_count": 127,
   "id": "2e63b71d-a36d-449a-b3cd-39719a812f19",
   "metadata": {},
   "outputs": [
    {
     "data": {
      "text/plain": [
       "{42, 67, 'jenna', 'user'}"
      ]
     },
     "execution_count": 127,
     "metadata": {},
     "output_type": "execute_result"
    }
   ],
   "source": [
    "s3.add(67)\n",
    "s3.add(42)\n",
    "s3.add('jenna')\n",
    "s3.add('user')\n",
    "s3"
   ]
  },
  {
   "cell_type": "code",
   "execution_count": 128,
   "id": "2f6f2db4-be2d-446e-a7be-d5b957be902e",
   "metadata": {},
   "outputs": [
    {
     "data": {
      "text/plain": [
       "{12, 34, 89}"
      ]
     },
     "execution_count": 128,
     "metadata": {},
     "output_type": "execute_result"
    }
   ],
   "source": [
    "s4 = set()\n",
    "s4.update([34, 89, 12])\n",
    "s4"
   ]
  },
  {
   "cell_type": "code",
   "execution_count": 129,
   "id": "5aa32ac2-187f-40e2-a547-e095d74de90e",
   "metadata": {},
   "outputs": [
    {
     "data": {
      "text/plain": [
       "{12, 21, 33, 34, 43, 56, 67, 84, 89}"
      ]
     },
     "execution_count": 129,
     "metadata": {},
     "output_type": "execute_result"
    }
   ],
   "source": [
    "s4.update([56, 21, 33], [43, 67, 84, 12])\n",
    "s4"
   ]
  },
  {
   "cell_type": "code",
   "execution_count": 130,
   "id": "5c72d827-6a81-4837-94e3-78cf60d0844b",
   "metadata": {},
   "outputs": [
    {
     "data": {
      "text/plain": [
       "{12, 21, 33, 34, 43, 56, 67, 84, 89}"
      ]
     },
     "execution_count": 130,
     "metadata": {},
     "output_type": "execute_result"
    }
   ],
   "source": [
    "s5 = s4.copy()\n",
    "s5"
   ]
  },
  {
   "cell_type": "code",
   "execution_count": 131,
   "id": "e4cbc9ea-cdd2-4743-b8c5-99f9edb43dea",
   "metadata": {},
   "outputs": [
    {
     "data": {
      "text/plain": [
       "{12, 21, 33, 34, 43, 56, 67, 74, 84, 89}"
      ]
     },
     "execution_count": 131,
     "metadata": {},
     "output_type": "execute_result"
    }
   ],
   "source": [
    "s5.add(74)\n",
    "s5"
   ]
  },
  {
   "cell_type": "code",
   "execution_count": 132,
   "id": "81da93f5-3223-43d7-85f4-6dba1502902c",
   "metadata": {},
   "outputs": [
    {
     "data": {
      "text/plain": [
       "{12, 21, 33, 34, 43, 56, 67, 84, 89}"
      ]
     },
     "execution_count": 132,
     "metadata": {},
     "output_type": "execute_result"
    }
   ],
   "source": [
    "s4"
   ]
  },
  {
   "cell_type": "code",
   "execution_count": 133,
   "id": "f45d80b5-a263-481b-afec-332cefc29d30",
   "metadata": {},
   "outputs": [
    {
     "data": {
      "text/plain": [
       "{12, 21, 33, 34, 43, 56, 67, 74, 84, 89}"
      ]
     },
     "execution_count": 133,
     "metadata": {},
     "output_type": "execute_result"
    }
   ],
   "source": [
    "s5"
   ]
  },
  {
   "cell_type": "code",
   "execution_count": 134,
   "id": "bb6555aa-3794-4efc-9761-c011791691b3",
   "metadata": {},
   "outputs": [
    {
     "data": {
      "text/plain": [
       "{12, 21, 33, 34, 43, 56, 67, 74, 89}"
      ]
     },
     "execution_count": 134,
     "metadata": {},
     "output_type": "execute_result"
    }
   ],
   "source": [
    "s5.discard(84)\n",
    "s5"
   ]
  },
  {
   "cell_type": "code",
   "execution_count": 135,
   "id": "bb8de9bf-a82a-4ff5-bcf3-e90ce3001eb5",
   "metadata": {},
   "outputs": [
    {
     "data": {
      "text/plain": [
       "{12, 21, 33, 34, 43, 56, 67, 74, 89}"
      ]
     },
     "execution_count": 135,
     "metadata": {},
     "output_type": "execute_result"
    }
   ],
   "source": [
    "s5.discard(191)\n",
    "s5"
   ]
  },
  {
   "cell_type": "code",
   "execution_count": 139,
   "id": "628f79b8-bd96-4265-b1c7-1e40b19e6ef7",
   "metadata": {},
   "outputs": [
    {
     "data": {
      "text/plain": [
       "{12, 21, 34, 43, 56, 67, 74, 89}"
      ]
     },
     "execution_count": 139,
     "metadata": {},
     "output_type": "execute_result"
    }
   ],
   "source": [
    "s5.remove(33)\n",
    "s5"
   ]
  },
  {
   "cell_type": "code",
   "execution_count": 140,
   "id": "d85f6f1b-a7f1-416a-b1c8-705cf4df8698",
   "metadata": {},
   "outputs": [
    {
     "ename": "KeyError",
     "evalue": "39",
     "output_type": "error",
     "traceback": [
      "\u001b[1;31m---------------------------------------------------------------------------\u001b[0m",
      "\u001b[1;31mKeyError\u001b[0m                                  Traceback (most recent call last)",
      "Cell \u001b[1;32mIn[140], line 1\u001b[0m\n\u001b[1;32m----> 1\u001b[0m s5\u001b[38;5;241m.\u001b[39mremove(\u001b[38;5;241m39\u001b[39m)\n\u001b[0;32m      2\u001b[0m s5\n",
      "\u001b[1;31mKeyError\u001b[0m: 39"
     ]
    }
   ],
   "source": [
    "s5.remove(39)\n",
    "s5"
   ]
  },
  {
   "cell_type": "code",
   "execution_count": 147,
   "id": "c62288e1-e405-4e28-a754-d58c3c95e2bc",
   "metadata": {},
   "outputs": [],
   "source": [
    "s5 = {12, 21, 34, 43, 56, 67, 74, 89}"
   ]
  },
  {
   "cell_type": "code",
   "execution_count": 148,
   "id": "3448a848-d62d-445a-b112-0b77422c998e",
   "metadata": {},
   "outputs": [
    {
     "data": {
      "text/plain": [
       "34"
      ]
     },
     "execution_count": 148,
     "metadata": {},
     "output_type": "execute_result"
    }
   ],
   "source": [
    "s5.pop()"
   ]
  },
  {
   "cell_type": "code",
   "execution_count": 149,
   "id": "76a739cb-0d8e-445b-b3b1-9487e9014e47",
   "metadata": {},
   "outputs": [
    {
     "data": {
      "text/plain": [
       "{12, 21, 43, 56, 67, 74, 89}"
      ]
     },
     "execution_count": 149,
     "metadata": {},
     "output_type": "execute_result"
    }
   ],
   "source": [
    "s5"
   ]
  },
  {
   "cell_type": "code",
   "execution_count": 150,
   "id": "fc2cf723-5862-4380-9c44-183bcdec0887",
   "metadata": {},
   "outputs": [
    {
     "data": {
      "text/plain": [
       "set()"
      ]
     },
     "execution_count": 150,
     "metadata": {},
     "output_type": "execute_result"
    }
   ],
   "source": [
    "s5.clear()\n",
    "s5"
   ]
  },
  {
   "cell_type": "code",
   "execution_count": 151,
   "id": "ff13b83b-b034-4337-b91d-e5275aa899a2",
   "metadata": {},
   "outputs": [],
   "source": [
    "s5 = {12, 21, 34, 43, 56, 67, 74, 89}\n",
    "del s5"
   ]
  },
  {
   "cell_type": "code",
   "execution_count": 152,
   "id": "3d8fcc2a-b79a-4881-8c1a-2ac58ed3eb75",
   "metadata": {},
   "outputs": [
    {
     "ename": "NameError",
     "evalue": "name 's5' is not defined",
     "output_type": "error",
     "traceback": [
      "\u001b[1;31m---------------------------------------------------------------------------\u001b[0m",
      "\u001b[1;31mNameError\u001b[0m                                 Traceback (most recent call last)",
      "Cell \u001b[1;32mIn[152], line 1\u001b[0m\n\u001b[1;32m----> 1\u001b[0m s5\n",
      "\u001b[1;31mNameError\u001b[0m: name 's5' is not defined"
     ]
    }
   ],
   "source": [
    "s5"
   ]
  },
  {
   "cell_type": "code",
   "execution_count": 2,
   "id": "bd5990df-2242-4de6-86f5-72630f27be92",
   "metadata": {},
   "outputs": [
    {
     "name": "stdout",
     "output_type": "stream",
     "text": [
      "{33, 98, 67, 34, 12, 76, 80, 82, 21, 55}\n",
      "{33, 98, 67, 34, 12, 76, 80, 82, 21, 55}\n",
      "{98, 67, 34, 55, 12, 76}\n",
      "{80, 33, 82, 67, 21}\n"
     ]
    }
   ],
   "source": [
    "s1 = {98, 76, 34, 12, 55, 67}\n",
    "s2 = {82, 33, 21, 80, 67}\n",
    "print(s1 | s2)\n",
    "print(s1.union(s2))\n",
    "print(s1)\n",
    "print(s2)"
   ]
  },
  {
   "cell_type": "code",
   "execution_count": 3,
   "id": "4423f8c5-6b24-4e3e-b136-39004eda495f",
   "metadata": {},
   "outputs": [
    {
     "name": "stdout",
     "output_type": "stream",
     "text": [
      "{67}\n",
      "{67}\n",
      "{98, 67, 34, 55, 12, 76}\n",
      "{80, 33, 82, 67, 21}\n"
     ]
    }
   ],
   "source": [
    "s1 = {98, 76, 34, 12, 55, 67}\n",
    "s2 = {82, 33, 21, 80, 67}\n",
    "print(s1 & s2)\n",
    "print(s1.intersection(s2))\n",
    "print(s1)\n",
    "print(s2)"
   ]
  },
  {
   "cell_type": "code",
   "execution_count": 4,
   "id": "4bb85c84-8b93-4645-8508-495f9c467871",
   "metadata": {},
   "outputs": [
    {
     "name": "stdout",
     "output_type": "stream",
     "text": [
      "{98, 34, 76, 12, 55}\n",
      "{98, 34, 76, 12, 55}\n",
      "{80, 33, 82, 21}\n",
      "{98, 67, 34, 55, 12, 76}\n",
      "{80, 33, 82, 67, 21}\n"
     ]
    }
   ],
   "source": [
    "s1 = {98, 76, 34, 12, 55, 67}\n",
    "s2 = {82, 33, 21, 80, 67}\n",
    "print(s1 - s2)\n",
    "print(s1.difference(s2))\n",
    "print(s2 - s1)\n",
    "print(s1)\n",
    "print(s2)"
   ]
  },
  {
   "cell_type": "code",
   "execution_count": 7,
   "id": "bf347b60-2e24-47cb-a295-f52d3d4c158c",
   "metadata": {},
   "outputs": [
    {
     "name": "stdout",
     "output_type": "stream",
     "text": [
      "{98, 34, 12, 76}\n"
     ]
    }
   ],
   "source": [
    "s1 = {98, 76, 34, 12, 55, 67}\n",
    "s2 = {82, 33, 21, 80, 67, 55}\n",
    "s1.difference_update(s2)\n",
    "print(s1)"
   ]
  },
  {
   "cell_type": "code",
   "execution_count": 8,
   "id": "1e5e0c3d-f460-41b5-945f-9e093e6537e4",
   "metadata": {},
   "outputs": [
    {
     "name": "stdout",
     "output_type": "stream",
     "text": [
      "{80, 33, 82, 21}\n"
     ]
    }
   ],
   "source": [
    "s1 = {98, 76, 34, 12, 55, 67}\n",
    "s2 = {82, 33, 21, 80, 67, 55}\n",
    "s2.difference_update(s1)\n",
    "print(s2)"
   ]
  },
  {
   "cell_type": "code",
   "execution_count": 9,
   "id": "b2aa1d7f-3c20-40d4-8554-e8ec73363fba",
   "metadata": {},
   "outputs": [
    {
     "name": "stdout",
     "output_type": "stream",
     "text": [
      "{12, 76, 80, 82, 21, 33, 34, 98, 55}\n",
      "{12, 76, 80, 82, 21, 33, 34, 98, 55}\n"
     ]
    }
   ],
   "source": [
    "s1 = {98, 76, 34, 12, 55, 67}\n",
    "s2 = {82, 33, 21, 80, 67}\n",
    "print(s1 ^ s2)\n",
    "print(s1.symmetric_difference(s2))"
   ]
  },
  {
   "cell_type": "code",
   "execution_count": 10,
   "id": "db65b172-1bab-46ea-9c21-9d19c24a5d92",
   "metadata": {},
   "outputs": [
    {
     "name": "stdout",
     "output_type": "stream",
     "text": [
      "{12, 76, 80, 82, 21, 33, 34, 98, 55}\n"
     ]
    }
   ],
   "source": [
    "s1 = {98, 76, 34, 12, 55, 67}\n",
    "s2 = {82, 33, 21, 80, 67}\n",
    "s2.symmetric_difference_update(s1)\n",
    "print(s2)"
   ]
  },
  {
   "cell_type": "code",
   "execution_count": 12,
   "id": "2247fb02-2165-4aca-8850-5f3d518ec074",
   "metadata": {},
   "outputs": [
    {
     "name": "stdout",
     "output_type": "stream",
     "text": [
      "True\n",
      "False\n",
      "True\n",
      "False\n",
      "False\n"
     ]
    }
   ],
   "source": [
    "s1 = {98, 76, 34, 12, 55, 67}\n",
    "s2 = {76, 34, 55, 12}\n",
    "print(s2.issubset(s1))\n",
    "print(s1.issubset(s2))\n",
    "print(s1.issuperset(s2))\n",
    "print(s2.issuperset(s1))\n",
    "print(s1.isdisjoint(s2))"
   ]
  },
  {
   "cell_type": "markdown",
   "id": "b2dcefa7-d977-4019-9efc-092e215752d7",
   "metadata": {},
   "source": [
    "DICTIONARY"
   ]
  },
  {
   "cell_type": "code",
   "execution_count": 13,
   "id": "7af7196a-e470-47e8-b371-60f92465587f",
   "metadata": {},
   "outputs": [
    {
     "data": {
      "text/plain": [
       "dict"
      ]
     },
     "execution_count": 13,
     "metadata": {},
     "output_type": "execute_result"
    }
   ],
   "source": [
    "d1 = {}\n",
    "type(d1)"
   ]
  },
  {
   "cell_type": "code",
   "execution_count": 14,
   "id": "c5fc6ab6-6943-4bc4-bd19-eebde716151e",
   "metadata": {},
   "outputs": [
    {
     "name": "stdout",
     "output_type": "stream",
     "text": [
      "{}\n"
     ]
    }
   ],
   "source": [
    "print(d1)"
   ]
  },
  {
   "cell_type": "code",
   "execution_count": 15,
   "id": "299308b3-a01c-49bd-88af-368b248f31e9",
   "metadata": {},
   "outputs": [
    {
     "data": {
      "text/plain": [
       "dict"
      ]
     },
     "execution_count": 15,
     "metadata": {},
     "output_type": "execute_result"
    }
   ],
   "source": [
    "d2 = dict()\n",
    "type(d2)"
   ]
  },
  {
   "cell_type": "code",
   "execution_count": 16,
   "id": "68474c51-faad-49e1-ab25-bc558e6333db",
   "metadata": {},
   "outputs": [
    {
     "name": "stdout",
     "output_type": "stream",
     "text": [
      "{}\n"
     ]
    }
   ],
   "source": [
    "print(d2)"
   ]
  },
  {
   "cell_type": "code",
   "execution_count": 17,
   "id": "770c12da-0f6e-4ad0-b98d-5b63d5ae3f4c",
   "metadata": {},
   "outputs": [
    {
     "data": {
      "text/plain": [
       "dict"
      ]
     },
     "execution_count": 17,
     "metadata": {},
     "output_type": "execute_result"
    }
   ],
   "source": [
    "d1 = {\"SE1\":\"Google\", \"SE2\":\"Firefox\", \"SE3\":\"Baidu\"}\n",
    "type(d1)"
   ]
  },
  {
   "cell_type": "code",
   "execution_count": 18,
   "id": "73e443a8-6d9e-46d8-a307-3b93650ee04d",
   "metadata": {},
   "outputs": [
    {
     "data": {
      "text/plain": [
       "'Firefox'"
      ]
     },
     "execution_count": 18,
     "metadata": {},
     "output_type": "execute_result"
    }
   ],
   "source": [
    "d1['SE2']"
   ]
  },
  {
   "cell_type": "code",
   "execution_count": 19,
   "id": "d25febd6-1f5e-4197-8f7b-27788563dc60",
   "metadata": {},
   "outputs": [
    {
     "data": {
      "text/plain": [
       "(10, 20, 30)"
      ]
     },
     "execution_count": 19,
     "metadata": {},
     "output_type": "execute_result"
    }
   ],
   "source": [
    "d2 = {'attr1': ['Gmail', 'Sheets', 'Docs'], 'attr2': [1998, 7, 23], 'attr3': (10, 20, 30)}\n",
    "d2['attr3']"
   ]
  },
  {
   "cell_type": "code",
   "execution_count": 20,
   "id": "b27492f7-e549-407b-9778-f81bae1721cf",
   "metadata": {},
   "outputs": [
    {
     "data": {
      "text/plain": [
       "dict_keys(['attr1', 'attr2', 'attr3'])"
      ]
     },
     "execution_count": 20,
     "metadata": {},
     "output_type": "execute_result"
    }
   ],
   "source": [
    "d2.keys()"
   ]
  },
  {
   "cell_type": "code",
   "execution_count": 21,
   "id": "71f20a29-12b1-418f-a647-fbe9fe2f18df",
   "metadata": {},
   "outputs": [
    {
     "data": {
      "text/plain": [
       "dict_values([['Gmail', 'Sheets', 'Docs'], [1998, 7, 23], (10, 20, 30)])"
      ]
     },
     "execution_count": 21,
     "metadata": {},
     "output_type": "execute_result"
    }
   ],
   "source": [
    "d2.values()"
   ]
  },
  {
   "cell_type": "code",
   "execution_count": 22,
   "id": "d8b27a9b-c7c6-4a85-ad30-7765e539cb3a",
   "metadata": {},
   "outputs": [
    {
     "data": {
      "text/plain": [
       "dict_items([('attr1', ['Gmail', 'Sheets', 'Docs']), ('attr2', [1998, 7, 23]), ('attr3', (10, 20, 30))])"
      ]
     },
     "execution_count": 22,
     "metadata": {},
     "output_type": "execute_result"
    }
   ],
   "source": [
    "d2.items()"
   ]
  },
  {
   "cell_type": "code",
   "execution_count": 23,
   "id": "6b28fe93-1904-42e9-b49f-684762b72e0c",
   "metadata": {},
   "outputs": [
    {
     "data": {
      "text/plain": [
       "{'SE1': 'Google', 'SE2': 'Firefox', 'SE3': 'Baidu', 'SE4': 'MI'}"
      ]
     },
     "execution_count": 23,
     "metadata": {},
     "output_type": "execute_result"
    }
   ],
   "source": [
    "d1['SE4'] = 'MI'\n",
    "d1"
   ]
  },
  {
   "cell_type": "code",
   "execution_count": 25,
   "id": "060b0913-1041-41ac-8b4c-ac11883d394e",
   "metadata": {},
   "outputs": [
    {
     "data": {
      "text/plain": [
       "{'SE1': 'Google', 'SE2': 'Mozilla', 'SE3': 'Baidu', 'SE4': 'MI'}"
      ]
     },
     "execution_count": 25,
     "metadata": {},
     "output_type": "execute_result"
    }
   ],
   "source": [
    "d1['SE2'] = 'Mozilla'\n",
    "d1"
   ]
  },
  {
   "cell_type": "code",
   "execution_count": 32,
   "id": "c963370c-2157-4e4e-a2c2-1108f9d6d654",
   "metadata": {},
   "outputs": [
    {
     "data": {
      "text/plain": [
       "{'SE1': {'Google': 547}, 'SE2': {'Mozilla': 398}, 'SE3': {'Baidu': 591}}"
      ]
     },
     "execution_count": 32,
     "metadata": {},
     "output_type": "execute_result"
    }
   ],
   "source": [
    "SE1_user = {'Google': 547}\n",
    "SE2_user = {'Mozilla': 398}\n",
    "SE3_user = {'Baidu': 591}\n",
    "SE = {'SE1': SE1_user, 'SE2': SE2_user, 'SE3': SE3_user}\n",
    "SE"
   ]
  },
  {
   "cell_type": "code",
   "execution_count": 39,
   "id": "5e1a7dec-068c-41c2-b9f6-a4ecf3aab7f7",
   "metadata": {},
   "outputs": [
    {
     "data": {
      "text/plain": [
       "{'Google': 547, 'Mozilla': 398, 'Baidu': 591}"
      ]
     },
     "execution_count": 39,
     "metadata": {},
     "output_type": "execute_result"
    }
   ],
   "source": [
    "user = {'Google': 547, 'Mozilla': 398, 'Baidu': 591}\n",
    "user"
   ]
  },
  {
   "cell_type": "code",
   "execution_count": 40,
   "id": "61832fba-2c0d-49e7-94cd-99b84c1905fd",
   "metadata": {},
   "outputs": [
    {
     "data": {
      "text/plain": [
       "{'Google': 547, 'Mozilla': 398, 'Baidu': 591, 'MI': 102}"
      ]
     },
     "execution_count": 40,
     "metadata": {},
     "output_type": "execute_result"
    }
   ],
   "source": [
    "user['MI'] = 102\n",
    "user"
   ]
  },
  {
   "cell_type": "code",
   "execution_count": 41,
   "id": "c1a7980b-b512-45aa-baef-ee995f64c7cf",
   "metadata": {},
   "outputs": [
    {
     "data": {
      "text/plain": [
       "{'Google': 547, 'Mozilla': 398, 'Baidu': 591, 'MI': 102, 'Safari': 98}"
      ]
     },
     "execution_count": 41,
     "metadata": {},
     "output_type": "execute_result"
    }
   ],
   "source": [
    "user.update({'Safari': 98})\n",
    "user"
   ]
  },
  {
   "cell_type": "code",
   "execution_count": 42,
   "id": "d039cfad-9e47-4b0f-a8b0-e2d95b1b85bd",
   "metadata": {},
   "outputs": [
    {
     "data": {
      "text/plain": [
       "{'Google': 547, 'Mozilla': 398, 'Baidu': 591, 'MI': 102, 'Safari': 92}"
      ]
     },
     "execution_count": 42,
     "metadata": {},
     "output_type": "execute_result"
    }
   ],
   "source": [
    "user['Safari'] = 92\n",
    "user"
   ]
  },
  {
   "cell_type": "code",
   "execution_count": 43,
   "id": "938139c4-bb18-4350-bb51-060938ca033b",
   "metadata": {},
   "outputs": [
    {
     "data": {
      "text/plain": [
       "{'Google': 547, 'Mozilla': 398, 'Baidu': 591, 'MI': 102}"
      ]
     },
     "execution_count": 43,
     "metadata": {},
     "output_type": "execute_result"
    }
   ],
   "source": [
    "del user['Safari']\n",
    "user"
   ]
  },
  {
   "cell_type": "code",
   "execution_count": 44,
   "id": "39b65b90-4632-4367-9afb-6aedc42803c6",
   "metadata": {},
   "outputs": [
    {
     "data": {
      "text/plain": [
       "{'attr1': ['Gmail', 'Sheets', 'Docs'],\n",
       " 'attr2': [1998, 7, 23],\n",
       " 'attr3': (10, 20, 30)}"
      ]
     },
     "execution_count": 44,
     "metadata": {},
     "output_type": "execute_result"
    }
   ],
   "source": [
    "d2"
   ]
  },
  {
   "cell_type": "code",
   "execution_count": 46,
   "id": "ee0b05ed-9b66-4932-8170-f3796b37d1b5",
   "metadata": {},
   "outputs": [
    {
     "data": {
      "text/plain": [
       "{'attr1': ['Gmail', 'Sheets', 'Docs'],\n",
       " 'attr2': [1998, 23],\n",
       " 'attr3': (10, 20, 30)}"
      ]
     },
     "execution_count": 46,
     "metadata": {},
     "output_type": "execute_result"
    }
   ],
   "source": [
    "del d2['attr2'][1]\n",
    "d2"
   ]
  },
  {
   "cell_type": "code",
   "execution_count": 47,
   "id": "8714d564-44d3-4068-965d-08c0ad5acf7e",
   "metadata": {},
   "outputs": [
    {
     "data": {
      "text/plain": [
       "(10, 20, 30)"
      ]
     },
     "execution_count": 47,
     "metadata": {},
     "output_type": "execute_result"
    }
   ],
   "source": [
    "d2.pop('attr3')"
   ]
  },
  {
   "cell_type": "code",
   "execution_count": 48,
   "id": "21f7c3f7-8b55-41db-a9e5-983be2c73978",
   "metadata": {},
   "outputs": [
    {
     "data": {
      "text/plain": [
       "{'attr1': ['Gmail', 'Sheets', 'Docs'], 'attr2': [1998, 23]}"
      ]
     },
     "execution_count": 48,
     "metadata": {},
     "output_type": "execute_result"
    }
   ],
   "source": [
    "d2"
   ]
  },
  {
   "cell_type": "code",
   "execution_count": 49,
   "id": "fded7265-55c6-4505-aefb-17aea2d2f5a2",
   "metadata": {},
   "outputs": [
    {
     "data": {
      "text/plain": [
       "{'k1': 552,\n",
       " 'k2': 'Shelter',\n",
       " 'k3': ['AP', 'TN', 'TG', 'KL', 'KN'],\n",
       " 'k4': 20.34,\n",
       " 'k5': [11, 'June', 2024]}"
      ]
     },
     "execution_count": 49,
     "metadata": {},
     "output_type": "execute_result"
    }
   ],
   "source": [
    "d3 = {'k1': 552 ,'k2': \"Shelter\" ,'k3': [\"AP\", \"TN\", \"TG\", \"KL\", \"KN\"] ,'k4': 20.34 ,'k5': [11, 'June', 2024]}\n",
    "d3"
   ]
  },
  {
   "cell_type": "code",
   "execution_count": 50,
   "id": "79b359ac-56e3-4cac-a493-6974be9bfef4",
   "metadata": {},
   "outputs": [
    {
     "data": {
      "text/plain": [
       "5"
      ]
     },
     "execution_count": 50,
     "metadata": {},
     "output_type": "execute_result"
    }
   ],
   "source": [
    "len(d3)"
   ]
  },
  {
   "cell_type": "code",
   "execution_count": 51,
   "id": "0782bc5b-b356-4df7-9999-78cae2b7e45d",
   "metadata": {},
   "outputs": [
    {
     "data": {
      "text/plain": [
       "['AP', 'TN', 'TG', 'KL', 'KN']"
      ]
     },
     "execution_count": 51,
     "metadata": {},
     "output_type": "execute_result"
    }
   ],
   "source": [
    "d3['k3']"
   ]
  },
  {
   "cell_type": "code",
   "execution_count": 53,
   "id": "31f6f802-11ba-4d15-80ee-be6fa38f8816",
   "metadata": {},
   "outputs": [
    {
     "data": {
      "text/plain": [
       "2024"
      ]
     },
     "execution_count": 53,
     "metadata": {},
     "output_type": "execute_result"
    }
   ],
   "source": [
    "d3['k5'][2]"
   ]
  },
  {
   "cell_type": "code",
   "execution_count": null,
   "id": "5c3a10c5-fc58-48f4-b3d2-60f8e16d2173",
   "metadata": {},
   "outputs": [],
   "source": []
  }
 ],
 "metadata": {
  "kernelspec": {
   "display_name": "Python 3 (ipykernel)",
   "language": "python",
   "name": "python3"
  },
  "language_info": {
   "codemirror_mode": {
    "name": "ipython",
    "version": 3
   },
   "file_extension": ".py",
   "mimetype": "text/x-python",
   "name": "python",
   "nbconvert_exporter": "python",
   "pygments_lexer": "ipython3",
   "version": "3.11.7"
  }
 },
 "nbformat": 4,
 "nbformat_minor": 5
}
