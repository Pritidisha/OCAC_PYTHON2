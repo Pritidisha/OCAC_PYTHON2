{
 "cells": [
  {
   "cell_type": "code",
   "execution_count": 8,
   "id": "623f0106-9042-4232-9f32-4a4646d5db0f",
   "metadata": {},
   "outputs": [
    {
     "name": "stdout",
     "output_type": "stream",
     "text": [
      "<class 'int'>\n"
     ]
    },
    {
     "data": {
      "text/plain": [
       "int"
      ]
     },
     "execution_count": 8,
     "metadata": {},
     "output_type": "execute_result"
    }
   ],
   "source": [
    "v1 = 10\n",
    "print(type(v1))\n",
    "type(v1)"
   ]
  },
  {
   "cell_type": "code",
   "execution_count": 9,
   "id": "cf506437-f95e-4f21-9ec4-42405b44ebfb",
   "metadata": {},
   "outputs": [
    {
     "name": "stdout",
     "output_type": "stream",
     "text": [
      "<class 'float'>\n"
     ]
    },
    {
     "data": {
      "text/plain": [
       "float"
      ]
     },
     "execution_count": 9,
     "metadata": {},
     "output_type": "execute_result"
    }
   ],
   "source": [
    "v2 = 9.56\n",
    "print(type(v2))\n",
    "type(v2)"
   ]
  },
  {
   "cell_type": "code",
   "execution_count": 10,
   "id": "5c6766e4-41d9-40ad-befe-10a54d372920",
   "metadata": {},
   "outputs": [
    {
     "data": {
      "text/plain": [
       "9"
      ]
     },
     "execution_count": 10,
     "metadata": {},
     "output_type": "execute_result"
    }
   ],
   "source": [
    "int(v2)"
   ]
  },
  {
   "cell_type": "code",
   "execution_count": 12,
   "id": "8d6a4c4f-0184-4ae7-8e5e-43039c4651dc",
   "metadata": {},
   "outputs": [
    {
     "name": "stdout",
     "output_type": "stream",
     "text": [
      "<class 'bool'>\n"
     ]
    },
    {
     "data": {
      "text/plain": [
       "bool"
      ]
     },
     "execution_count": 12,
     "metadata": {},
     "output_type": "execute_result"
    }
   ],
   "source": [
    "v3 = False\n",
    "print(type(v3))\n",
    "type(v3)"
   ]
  },
  {
   "cell_type": "code",
   "execution_count": 13,
   "id": "063e167e-6b47-4a4b-a803-6e82f2d42ea3",
   "metadata": {},
   "outputs": [
    {
     "data": {
      "text/plain": [
       "0"
      ]
     },
     "execution_count": 13,
     "metadata": {},
     "output_type": "execute_result"
    }
   ],
   "source": [
    "int(v3)"
   ]
  },
  {
   "cell_type": "code",
   "execution_count": 14,
   "id": "1dc88b35-a886-4765-8831-954fd5a98a2a",
   "metadata": {},
   "outputs": [
    {
     "data": {
      "text/plain": [
       "0"
      ]
     },
     "execution_count": 14,
     "metadata": {},
     "output_type": "execute_result"
    }
   ],
   "source": [
    "False + False"
   ]
  },
  {
   "cell_type": "code",
   "execution_count": 15,
   "id": "353d31fd-79a8-4d18-95f6-e14cf9415ee4",
   "metadata": {},
   "outputs": [
    {
     "name": "stdout",
     "output_type": "stream",
     "text": [
      "10\n"
     ]
    }
   ],
   "source": [
    "print(v1 + v3)"
   ]
  },
  {
   "cell_type": "code",
   "execution_count": 17,
   "id": "c1ad1d83-657e-4923-84a2-184d3d80dc29",
   "metadata": {},
   "outputs": [
    {
     "name": "stdout",
     "output_type": "stream",
     "text": [
      "<class 'complex'>\n"
     ]
    },
    {
     "data": {
      "text/plain": [
       "complex"
      ]
     },
     "execution_count": 17,
     "metadata": {},
     "output_type": "execute_result"
    }
   ],
   "source": [
    "v4 = 10j + 5\n",
    "print(type(v4))\n",
    "type(v4)"
   ]
  },
  {
   "cell_type": "code",
   "execution_count": 18,
   "id": "96cf3fa8-5db2-453d-925d-3711168518f9",
   "metadata": {},
   "outputs": [
    {
     "data": {
      "text/plain": [
       "5.0"
      ]
     },
     "execution_count": 18,
     "metadata": {},
     "output_type": "execute_result"
    }
   ],
   "source": [
    "v4.real"
   ]
  },
  {
   "cell_type": "code",
   "execution_count": 21,
   "id": "514d5caf-834f-4130-a01c-21eed371208d",
   "metadata": {},
   "outputs": [
    {
     "data": {
      "text/plain": [
       "10.0"
      ]
     },
     "execution_count": 21,
     "metadata": {},
     "output_type": "execute_result"
    }
   ],
   "source": [
    "v4.imag"
   ]
  },
  {
   "cell_type": "code",
   "execution_count": 22,
   "id": "2bbf3ff5-f6fb-4c70-8817-bdaadfcd9ef8",
   "metadata": {},
   "outputs": [
    {
     "data": {
      "text/plain": [
       "5"
      ]
     },
     "execution_count": 22,
     "metadata": {},
     "output_type": "execute_result"
    }
   ],
   "source": [
    "int(v4.real)"
   ]
  },
  {
   "cell_type": "code",
   "execution_count": 23,
   "id": "eddb14c3-9275-498e-9ed8-88de0c740f6c",
   "metadata": {},
   "outputs": [
    {
     "name": "stdout",
     "output_type": "stream",
     "text": [
      "5.0 10.0\n"
     ]
    }
   ],
   "source": [
    "print(v4.real, v4.imag)"
   ]
  },
  {
   "cell_type": "code",
   "execution_count": 24,
   "id": "091bd132-5071-4cce-a8c8-db463fab67bb",
   "metadata": {},
   "outputs": [
    {
     "name": "stdout",
     "output_type": "stream",
     "text": [
      "june\n",
      "june\n",
      "june\n"
     ]
    }
   ],
   "source": [
    "w1 = 'june'\n",
    "w2 = \"june\"\n",
    "w3 = '''june'''\n",
    "print(w1)\n",
    "print(w2)\n",
    "print(w3)"
   ]
  },
  {
   "cell_type": "code",
   "execution_count": 25,
   "id": "4490a3fd-f136-43d7-88d9-66573340e48b",
   "metadata": {},
   "outputs": [
    {
     "data": {
      "text/plain": [
       "str"
      ]
     },
     "execution_count": 25,
     "metadata": {},
     "output_type": "execute_result"
    }
   ],
   "source": [
    "type(w1)"
   ]
  },
  {
   "cell_type": "code",
   "execution_count": 26,
   "id": "4959a787-1102-4776-81c3-2c5afda1a4bc",
   "metadata": {},
   "outputs": [
    {
     "ename": "ValueError",
     "evalue": "invalid literal for int() with base 10: 'june'",
     "output_type": "error",
     "traceback": [
      "\u001b[1;31m---------------------------------------------------------------------------\u001b[0m",
      "\u001b[1;31mValueError\u001b[0m                                Traceback (most recent call last)",
      "Cell \u001b[1;32mIn[26], line 1\u001b[0m\n\u001b[1;32m----> 1\u001b[0m \u001b[38;5;28mint\u001b[39m(w1)\n",
      "\u001b[1;31mValueError\u001b[0m: invalid literal for int() with base 10: 'june'"
     ]
    }
   ],
   "source": [
    "int(w1)"
   ]
  },
  {
   "cell_type": "code",
   "execution_count": 28,
   "id": "c78614b9-5343-4f71-8d25-d311f742184e",
   "metadata": {},
   "outputs": [
    {
     "data": {
      "text/plain": [
       "str"
      ]
     },
     "execution_count": 28,
     "metadata": {},
     "output_type": "execute_result"
    }
   ],
   "source": [
    "w4 = \"345\"\n",
    "type(w4)"
   ]
  },
  {
   "cell_type": "code",
   "execution_count": 30,
   "id": "d1f94e49-4e52-4e74-b763-a0ac017defbc",
   "metadata": {},
   "outputs": [
    {
     "data": {
      "text/plain": [
       "345"
      ]
     },
     "execution_count": 30,
     "metadata": {},
     "output_type": "execute_result"
    }
   ],
   "source": [
    "v5 = int(w4)\n",
    "v5"
   ]
  },
  {
   "cell_type": "code",
   "execution_count": 31,
   "id": "593eb0e1-188b-4854-b43b-8cf989da75bd",
   "metadata": {},
   "outputs": [
    {
     "name": "stdout",
     "output_type": "stream",
     "text": [
      "Niki's \"Project\"\n"
     ]
    }
   ],
   "source": [
    "print('Niki\\'s \"Project\"')"
   ]
  },
  {
   "cell_type": "code",
   "execution_count": 33,
   "id": "8827489a-a4b0-4455-a5b0-6fb1fa372e91",
   "metadata": {},
   "outputs": [
    {
     "name": "stdout",
     "output_type": "stream",
     "text": [
      "3025\n"
     ]
    }
   ],
   "source": [
    "r1 = \"30\"\n",
    "r2 = \"25\"\n",
    "print(r1 + r2)"
   ]
  },
  {
   "cell_type": "code",
   "execution_count": 34,
   "id": "e33801fa-6e3b-4eb3-93f6-97f7be3b3261",
   "metadata": {},
   "outputs": [
    {
     "ename": "TypeError",
     "evalue": "can only concatenate str (not \"int\") to str",
     "output_type": "error",
     "traceback": [
      "\u001b[1;31m---------------------------------------------------------------------------\u001b[0m",
      "\u001b[1;31mTypeError\u001b[0m                                 Traceback (most recent call last)",
      "Cell \u001b[1;32mIn[34], line 1\u001b[0m\n\u001b[1;32m----> 1\u001b[0m r1 \u001b[38;5;241m+\u001b[39m v1\n",
      "\u001b[1;31mTypeError\u001b[0m: can only concatenate str (not \"int\") to str"
     ]
    }
   ],
   "source": [
    "r1 + v1"
   ]
  },
  {
   "cell_type": "code",
   "execution_count": 35,
   "id": "eb121ea4-b52f-43fc-8dc4-8422f829eab6",
   "metadata": {},
   "outputs": [
    {
     "data": {
      "text/plain": [
       "40"
      ]
     },
     "execution_count": 35,
     "metadata": {},
     "output_type": "execute_result"
    }
   ],
   "source": [
    "int(r1) + v1"
   ]
  },
  {
   "cell_type": "code",
   "execution_count": 39,
   "id": "c85b7148-f660-4642-8920-2ed5ba86aab8",
   "metadata": {},
   "outputs": [
    {
     "data": {
      "text/plain": [
       "'june10'"
      ]
     },
     "execution_count": 39,
     "metadata": {},
     "output_type": "execute_result"
    }
   ],
   "source": [
    "w3 + str(v1)"
   ]
  },
  {
   "cell_type": "code",
   "execution_count": 40,
   "id": "28acc934-2f32-4604-b05a-1df8c4acbee7",
   "metadata": {},
   "outputs": [
    {
     "data": {
      "text/plain": [
       "'junejune'"
      ]
     },
     "execution_count": 40,
     "metadata": {},
     "output_type": "execute_result"
    }
   ],
   "source": [
    "w2 + w3"
   ]
  },
  {
   "cell_type": "code",
   "execution_count": 41,
   "id": "14334a1e-9b62-4179-bb39-2928e0905686",
   "metadata": {},
   "outputs": [
    {
     "data": {
      "text/plain": [
       "'junejunejunejunejune'"
      ]
     },
     "execution_count": 41,
     "metadata": {},
     "output_type": "execute_result"
    }
   ],
   "source": [
    "w2 * 5"
   ]
  },
  {
   "cell_type": "code",
   "execution_count": 44,
   "id": "96531258-d611-494c-8531-91217f50f844",
   "metadata": {},
   "outputs": [
    {
     "name": "stdout",
     "output_type": "stream",
     "text": [
      "Priti lives in 12 th street.\n"
     ]
    }
   ],
   "source": [
    "student = \"Priti\"\n",
    "street = 12\n",
    "print(student, \"lives in\", street, \"th street.\")"
   ]
  },
  {
   "cell_type": "code",
   "execution_count": 46,
   "id": "ce852c06-85a3-43ae-8410-00f1bc64e9ce",
   "metadata": {},
   "outputs": [
    {
     "name": "stdout",
     "output_type": "stream",
     "text": [
      "Priti lives in 12 th street.\n"
     ]
    }
   ],
   "source": [
    "student = \"Priti\"\n",
    "street = 12\n",
    "print(student, \"lives in\", str(street), \"th street.\")"
   ]
  },
  {
   "cell_type": "code",
   "execution_count": 47,
   "id": "d9e47e7b-7207-4f79-8bf6-4e83bba49f3d",
   "metadata": {},
   "outputs": [
    {
     "data": {
      "text/plain": [
       "27"
      ]
     },
     "execution_count": 47,
     "metadata": {},
     "output_type": "execute_result"
    }
   ],
   "source": [
    "s1 = \"Priti lives in 12th street.\"\n",
    "len(s1)"
   ]
  },
  {
   "cell_type": "code",
   "execution_count": 50,
   "id": "07506239-55a7-407a-aa5a-1443cc9f389a",
   "metadata": {},
   "outputs": [
    {
     "ename": "NameError",
     "evalue": "name 's1' is not defined",
     "output_type": "error",
     "traceback": [
      "\u001b[1;31m---------------------------------------------------------------------------\u001b[0m",
      "\u001b[1;31mNameError\u001b[0m                                 Traceback (most recent call last)",
      "Cell \u001b[1;32mIn[50], line 2\u001b[0m\n\u001b[0;32m      1\u001b[0m \u001b[38;5;28;01mdel\u001b[39;00m s1\n\u001b[1;32m----> 2\u001b[0m \u001b[38;5;28mprint\u001b[39m (s1)\n",
      "\u001b[1;31mNameError\u001b[0m: name 's1' is not defined"
     ]
    }
   ],
   "source": [
    "del s1\n",
    "print (s1)"
   ]
  },
  {
   "cell_type": "code",
   "execution_count": 53,
   "id": "1bb2c81c-e4dd-402c-802d-94cb1ffe9d58",
   "metadata": {},
   "outputs": [
    {
     "name": "stdout",
     "output_type": "stream",
     "text": [
      "P\n",
      ".\n",
      "e\n"
     ]
    },
    {
     "ename": "TypeError",
     "evalue": "string indices must be integers, not 'float'",
     "output_type": "error",
     "traceback": [
      "\u001b[1;31m---------------------------------------------------------------------------\u001b[0m",
      "\u001b[1;31mTypeError\u001b[0m                                 Traceback (most recent call last)",
      "Cell \u001b[1;32mIn[53], line 5\u001b[0m\n\u001b[0;32m      3\u001b[0m \u001b[38;5;28mprint\u001b[39m(s1[\u001b[38;5;241m-\u001b[39m\u001b[38;5;241m1\u001b[39m])\n\u001b[0;32m      4\u001b[0m \u001b[38;5;28mprint\u001b[39m(s1[\u001b[38;5;241m-\u001b[39m\u001b[38;5;241m4\u001b[39m])\n\u001b[1;32m----> 5\u001b[0m \u001b[38;5;28mprint\u001b[39m(s1[\u001b[38;5;241m2.6\u001b[39m])\n",
      "\u001b[1;31mTypeError\u001b[0m: string indices must be integers, not 'float'"
     ]
    }
   ],
   "source": [
    "s1 = \"Priti lives in 12th street.\"\n",
    "print(s1[0])\n",
    "print(s1[-1])\n",
    "print(s1[-4])\n",
    "print(s1[2.6])"
   ]
  },
  {
   "cell_type": "code",
   "execution_count": 56,
   "id": "b2f274e6-b30d-457b-9b67-ca690e14a615",
   "metadata": {},
   "outputs": [
    {
     "name": "stdout",
     "output_type": "stream",
     "text": [
      "Prit\n",
      "Priti lives in 12th street.\n",
      "Priti lives in 12th street\n",
      ".teerts ht21 ni sevil itirP\n",
      "Piilvsi 2hsre.\n"
     ]
    }
   ],
   "source": [
    "print(s1[0: 4])\n",
    "print(s1[0: ])\n",
    "print(s1[: -1])\n",
    "print(s1[: : -1])\n",
    "print(s1[: : 2])"
   ]
  },
  {
   "cell_type": "code",
   "execution_count": 58,
   "id": "90fa38d2-a106-4e15-a98a-9747241eb8ff",
   "metadata": {},
   "outputs": [],
   "source": [
    "s2 = \"helLo WoRLd\""
   ]
  },
  {
   "cell_type": "code",
   "execution_count": 59,
   "id": "7b1e9683-4c29-4926-aec4-6c7457794682",
   "metadata": {},
   "outputs": [
    {
     "data": {
      "text/plain": [
       "'Hello world'"
      ]
     },
     "execution_count": 59,
     "metadata": {},
     "output_type": "execute_result"
    }
   ],
   "source": [
    "s2.capitalize()"
   ]
  },
  {
   "cell_type": "code",
   "execution_count": 60,
   "id": "9d96bea5-27da-4bc4-8667-ddd9ece8e49c",
   "metadata": {},
   "outputs": [
    {
     "data": {
      "text/plain": [
       "'Hello World'"
      ]
     },
     "execution_count": 60,
     "metadata": {},
     "output_type": "execute_result"
    }
   ],
   "source": [
    "s2.title()"
   ]
  },
  {
   "cell_type": "code",
   "execution_count": 61,
   "id": "053bd40f-3cc8-45c6-84b9-6027d7817377",
   "metadata": {},
   "outputs": [
    {
     "data": {
      "text/plain": [
       "'HELLO WORLD'"
      ]
     },
     "execution_count": 61,
     "metadata": {},
     "output_type": "execute_result"
    }
   ],
   "source": [
    "s2.upper()"
   ]
  },
  {
   "cell_type": "code",
   "execution_count": 62,
   "id": "8b070e1d-8705-4892-868b-11fbb019d4ea",
   "metadata": {},
   "outputs": [
    {
     "data": {
      "text/plain": [
       "'hello world'"
      ]
     },
     "execution_count": 62,
     "metadata": {},
     "output_type": "execute_result"
    }
   ],
   "source": [
    "s2.lower()"
   ]
  },
  {
   "cell_type": "code",
   "execution_count": 64,
   "id": "d211ce85-6639-4f98-a5b0-48f64df25bba",
   "metadata": {},
   "outputs": [
    {
     "data": {
      "text/plain": [
       "['Priti', 'lives', 'in', '12th', 'street.']"
      ]
     },
     "execution_count": 64,
     "metadata": {},
     "output_type": "execute_result"
    }
   ],
   "source": [
    "s4 = \"Priti lives in 12th street.\"\n",
    "s4.split(' ')"
   ]
  },
  {
   "cell_type": "code",
   "execution_count": 65,
   "id": "0182f25f-01c5-4b24-8db5-a84095557659",
   "metadata": {},
   "outputs": [
    {
     "ename": "TypeError",
     "evalue": "str.join() takes exactly one argument (3 given)",
     "output_type": "error",
     "traceback": [
      "\u001b[1;31m---------------------------------------------------------------------------\u001b[0m",
      "\u001b[1;31mTypeError\u001b[0m                                 Traceback (most recent call last)",
      "Cell \u001b[1;32mIn[65], line 1\u001b[0m\n\u001b[1;32m----> 1\u001b[0m \u001b[38;5;124m'\u001b[39m\u001b[38;5;124m \u001b[39m\u001b[38;5;124m'\u001b[39m\u001b[38;5;241m.\u001b[39mjoin(w1, w2, w3)\n",
      "\u001b[1;31mTypeError\u001b[0m: str.join() takes exactly one argument (3 given)"
     ]
    }
   ],
   "source": [
    "' '.join(w1, w2, w3)"
   ]
  },
  {
   "cell_type": "code",
   "execution_count": 66,
   "id": "05d8205a-82da-4471-a036-c59b4f3ff2ac",
   "metadata": {},
   "outputs": [
    {
     "data": {
      "text/plain": [
       "2"
      ]
     },
     "execution_count": 66,
     "metadata": {},
     "output_type": "execute_result"
    }
   ],
   "source": [
    "s4.find('i')"
   ]
  },
  {
   "cell_type": "code",
   "execution_count": 67,
   "id": "6462311a-9165-493c-ad3d-a20b492e5e71",
   "metadata": {},
   "outputs": [
    {
     "data": {
      "text/plain": [
       "4"
      ]
     },
     "execution_count": 67,
     "metadata": {},
     "output_type": "execute_result"
    }
   ],
   "source": [
    "s4.count('i')"
   ]
  },
  {
   "cell_type": "code",
   "execution_count": 69,
   "id": "0c897f2b-ea4e-4676-a520-bba63dac6f87",
   "metadata": {},
   "outputs": [
    {
     "data": {
      "text/plain": [
       "'Priti lives on 12th street.'"
      ]
     },
     "execution_count": 69,
     "metadata": {},
     "output_type": "execute_result"
    }
   ],
   "source": [
    "s2 = s1.replace(\"in\", \"on\")\n",
    "s2"
   ]
  },
  {
   "cell_type": "code",
   "execution_count": 74,
   "id": "164f2859-c68b-454f-9247-a642e5490465",
   "metadata": {},
   "outputs": [
    {
     "name": "stdout",
     "output_type": "stream",
     "text": [
      "False\n",
      "False\n",
      "False\n",
      "False\n",
      "False\n",
      "False\n",
      "True\n",
      "False\n"
     ]
    }
   ],
   "source": [
    "print(s2.isalnum())\n",
    "print(s2.isalpha())\n",
    "print(s2.isdigit())\n",
    "print(s2.isupper())\n",
    "print(s2.islower())\n",
    "print(s2.isspace())\n",
    "print(s2.endswith('.'))\n",
    "print(s2.startswith('D'))"
   ]
  },
  {
   "cell_type": "code",
   "execution_count": null,
   "id": "4fdd190e-4de8-4edb-af40-3e910371a116",
   "metadata": {},
   "outputs": [],
   "source": []
  }
 ],
 "metadata": {
  "kernelspec": {
   "display_name": "Python 3 (ipykernel)",
   "language": "python",
   "name": "python3"
  },
  "language_info": {
   "codemirror_mode": {
    "name": "ipython",
    "version": 3
   },
   "file_extension": ".py",
   "mimetype": "text/x-python",
   "name": "python",
   "nbconvert_exporter": "python",
   "pygments_lexer": "ipython3",
   "version": "3.11.7"
  }
 },
 "nbformat": 4,
 "nbformat_minor": 5
}
