{
 "cells": [
  {
   "cell_type": "code",
   "execution_count": 5,
   "id": "f0e08cd1-b9cf-4a57-9973-5483500aa97d",
   "metadata": {},
   "outputs": [
    {
     "name": "stdout",
     "output_type": "stream",
     "text": [
      "34\n",
      "45\n",
      "56\n",
      "67\n",
      "78\n"
     ]
    }
   ],
   "source": [
    "l1 = [34, 45, 56, 67, 78] \n",
    "for n in l1:\n",
    "    print(n)"
   ]
  },
  {
   "cell_type": "code",
   "execution_count": 6,
   "id": "741cd429-3111-452a-91da-6264aae45ccd",
   "metadata": {},
   "outputs": [
    {
     "name": "stdout",
     "output_type": "stream",
     "text": [
      "34\n",
      "45\n",
      "56\n",
      "67\n",
      "78\n"
     ]
    }
   ],
   "source": [
    "l1 = [34, 45, 56, 67, 78] \n",
    "for num in l1:\n",
    "    print(num)"
   ]
  },
  {
   "cell_type": "code",
   "execution_count": 7,
   "id": "e78e65ee-dc8a-47a7-ab33-a6470d7b961e",
   "metadata": {},
   "outputs": [
    {
     "name": "stdout",
     "output_type": "stream",
     "text": [
      "jan\n",
      "feb\n",
      "mar\n",
      "apr\n",
      "may\n"
     ]
    }
   ],
   "source": [
    "l2 = ['jan', 'feb', 'mar', 'apr', 'may'] \n",
    "for n in l2:\n",
    "    print(n)"
   ]
  },
  {
   "cell_type": "code",
   "execution_count": 9,
   "id": "d8246913-8e51-44d4-8bb9-f658c4b3ae2a",
   "metadata": {},
   "outputs": [
    {
     "name": "stdout",
     "output_type": "stream",
     "text": [
      "98765"
     ]
    }
   ],
   "source": [
    "l3 = [9, 8, 7, 6, 5] \n",
    "for el in l3:\n",
    "    print(el, end='') "
   ]
  },
  {
   "cell_type": "code",
   "execution_count": 10,
   "id": "68e00fbb-acbd-4446-8728-241214517f32",
   "metadata": {},
   "outputs": [
    {
     "name": "stdout",
     "output_type": "stream",
     "text": [
      "8 7 6 5 4 "
     ]
    }
   ],
   "source": [
    "ch1 = '87654'\n",
    "for el in ch1:\n",
    "    print(el, end = ' ')"
   ]
  },
  {
   "cell_type": "code",
   "execution_count": 11,
   "id": "e86041bc-ca1f-4a9d-8091-82e8559035ea",
   "metadata": {},
   "outputs": [
    {
     "name": "stdout",
     "output_type": "stream",
     "text": [
      "0 hello\n",
      "1 hello\n",
      "2 hello\n",
      "3 hello\n",
      "4 hello\n"
     ]
    }
   ],
   "source": [
    "for i in range(5):\n",
    "    print(i, \"hello\") "
   ]
  },
  {
   "cell_type": "code",
   "execution_count": 12,
   "id": "9a1f2f70-bb63-4996-b3da-35fa281fd3d7",
   "metadata": {},
   "outputs": [
    {
     "name": "stdout",
     "output_type": "stream",
     "text": [
      "1 2 3 4 5 "
     ]
    }
   ],
   "source": [
    "for num in range(1,6):\n",
    "    print(num, end = \" \") "
   ]
  },
  {
   "cell_type": "code",
   "execution_count": 13,
   "id": "bda1138e-65ae-4a79-9584-0304f4f6433d",
   "metadata": {},
   "outputs": [
    {
     "name": "stdout",
     "output_type": "stream",
     "text": [
      "101\n",
      "102\n",
      "103\n",
      "104\n",
      "105\n",
      "106\n",
      "107\n",
      "108\n",
      "109\n",
      "110\n",
      "111\n",
      "112\n",
      "113\n",
      "114\n",
      "115\n",
      "116\n",
      "117\n",
      "118\n",
      "119\n",
      "120\n"
     ]
    }
   ],
   "source": [
    "for num in range(101, 121):\n",
    "    print(num) "
   ]
  },
  {
   "cell_type": "code",
   "execution_count": 14,
   "id": "b0d55ca2-c884-423e-a0ec-404a888c3a02",
   "metadata": {},
   "outputs": [
    {
     "name": "stdout",
     "output_type": "stream",
     "text": [
      "50 48 46 44 42 40 38 36 34 32 30 28 26 24 22 20 18 16 14 12 "
     ]
    }
   ],
   "source": [
    "for num in range(50, 11, -2):\n",
    "    print(num, end=' ')"
   ]
  },
  {
   "cell_type": "code",
   "execution_count": 16,
   "id": "13ecf2bb-b4cd-4508-ad98-417f3e2289ca",
   "metadata": {},
   "outputs": [
    {
     "name": "stdout",
     "output_type": "stream",
     "text": [
      "1\n",
      "3\n",
      "5\n",
      "7\n",
      "9\n",
      "11\n",
      "13\n",
      "15\n",
      "17\n",
      "19\n",
      "21\n",
      "23\n",
      "25\n",
      "27\n",
      "29\n"
     ]
    }
   ],
   "source": [
    "for num in range(1, 30, 2):\n",
    "    print(num)"
   ]
  },
  {
   "cell_type": "code",
   "execution_count": 18,
   "id": "43545b0e-6204-47e2-8574-8125a1ef9211",
   "metadata": {},
   "outputs": [
    {
     "name": "stdout",
     "output_type": "stream",
     "text": [
      "Day at index  0  is:  mon\n",
      "Day at index  1  is:  tue\n",
      "Day at index  2  is:  wed\n",
      "Day at index  3  is:  thu\n"
     ]
    }
   ],
   "source": [
    "day = ['mon', 'tue', 'wed', 'thu']\n",
    "for el in range(len(day)):\n",
    "         print(\"Day at index \", el,\" is: \", day[el])"
   ]
  },
  {
   "cell_type": "code",
   "execution_count": 19,
   "id": "c1c83309-22a8-4294-a49c-ff4b60b21f27",
   "metadata": {},
   "outputs": [
    {
     "name": "stdout",
     "output_type": "stream",
     "text": [
      "Sum:  15\n"
     ]
    }
   ],
   "source": [
    "num = [1, 2, 3, 4, 5]\n",
    "s = 0\n",
    "for n in num:\n",
    "    s += n\n",
    "print(\"Sum: \", s)"
   ]
  },
  {
   "cell_type": "code",
   "execution_count": 22,
   "id": "59f4bc91-6225-4f92-b1bc-95a54f77316d",
   "metadata": {},
   "outputs": [
    {
     "name": "stdout",
     "output_type": "stream",
     "text": [
      "Sum after 1 iteration: 1\n",
      "Sum after 2 iteration: 3\n",
      "Sum after 3 iteration: 6\n",
      "Sum after 4 iteration: 10\n",
      "Sum after 5 iteration: 15\n"
     ]
    }
   ],
   "source": [
    "num = [1, 2, 3, 4, 5]\n",
    "s = 0\n",
    "for n in num:\n",
    "    s += n\n",
    "    print(\"Sum after\", n, \"iteration:\", s)"
   ]
  },
  {
   "cell_type": "code",
   "execution_count": 24,
   "id": "2c37e3ea-6c42-4094-9fb8-223efcad1572",
   "metadata": {},
   "outputs": [
    {
     "name": "stdout",
     "output_type": "stream",
     "text": [
      "I like summer\n"
     ]
    }
   ],
   "source": [
    "season = ['summer', 'winter', 'spring', 'autumn', 'monsoon']\n",
    "for s in range(1):\n",
    "    print(\"I like\", season[s])"
   ]
  },
  {
   "cell_type": "code",
   "execution_count": 27,
   "id": "8c1fbcab-e1d9-4955-9049-c62abe269523",
   "metadata": {},
   "outputs": [
    {
     "name": "stdin",
     "output_type": "stream",
     "text": [
      "Enter starting point: 34\n",
      "Enter ending point: 56\n"
     ]
    },
    {
     "name": "stdout",
     "output_type": "stream",
     "text": [
      "34,36,38,40,42,44,46,48,50,52,54,56,"
     ]
    }
   ],
   "source": [
    "sp=int(input('Enter starting point:'))\n",
    "ep=int(input('Enter ending point:')) \n",
    "for n in range(sp, ep+1):\n",
    "    if n % 2 == 0:\n",
    "        print(n, end=',') "
   ]
  },
  {
   "cell_type": "code",
   "execution_count": 26,
   "id": "22c14efd-3018-45b5-83e1-70672f08b5c5",
   "metadata": {},
   "outputs": [
    {
     "name": "stdin",
     "output_type": "stream",
     "text": [
      "Enter the number: 9\n"
     ]
    },
    {
     "name": "stdout",
     "output_type": "stream",
     "text": [
      "*********"
     ]
    }
   ],
   "source": [
    "inp = int(input(\"Enter the number:\")) \n",
    "for n in range(inp):\n",
    "    print(\"*\", end='')"
   ]
  },
  {
   "cell_type": "code",
   "execution_count": 29,
   "id": "d7457ea9-e214-4756-9973-c52550d92299",
   "metadata": {},
   "outputs": [
    {
     "name": "stdin",
     "output_type": "stream",
     "text": [
      "Enter starting point: 34\n",
      "Enter ending point: 40\n"
     ]
    },
    {
     "name": "stdout",
     "output_type": "stream",
     "text": [
      "34,36,38,40,\n",
      "Sum:  148\n"
     ]
    }
   ],
   "source": [
    "sp=int(input('Enter starting point:'))\n",
    "ep=int(input('Enter ending point:')) \n",
    "s = 0\n",
    "for n in range(sp, ep+1):\n",
    "    if n % 2 == 0:\n",
    "        s += n\n",
    "        print(n, end=',')\n",
    "print(\"\\nSum: \", s)"
   ]
  },
  {
   "cell_type": "code",
   "execution_count": 30,
   "id": "035b468d-7252-40ff-8e84-305da823e192",
   "metadata": {},
   "outputs": [
    {
     "name": "stdout",
     "output_type": "stream",
     "text": [
      "10\n",
      "15\n",
      "20\n",
      "25\n",
      "30\n",
      "40\n",
      "45\n",
      "50\n",
      "55\n",
      "60\n",
      "65\n",
      "75\n",
      "80\n",
      "85\n",
      "90\n",
      "95\n",
      "100\n",
      "110\n",
      "115\n",
      "120\n",
      "125\n",
      "130\n",
      "135\n",
      "145\n",
      "150\n"
     ]
    }
   ],
   "source": [
    "for i in range(10, 151): \n",
    "    if i % 5 == 0 and i % 7 != 0:\n",
    "        print(i)"
   ]
  },
  {
   "cell_type": "code",
   "execution_count": 31,
   "id": "8f1a1482-3cb7-43e3-99a1-ab1832fee718",
   "metadata": {},
   "outputs": [
    {
     "name": "stdin",
     "output_type": "stream",
     "text": [
      "Enter a number: 3\n"
     ]
    },
    {
     "name": "stdout",
     "output_type": "stream",
     "text": [
      "3 * 1 = 3\n",
      "3 * 2 = 6\n",
      "3 * 3 = 9\n",
      "3 * 4 = 12\n",
      "3 * 5 = 15\n",
      "3 * 6 = 18\n",
      "3 * 7 = 21\n",
      "3 * 8 = 24\n",
      "3 * 9 = 27\n",
      "3 * 10 = 30\n"
     ]
    }
   ],
   "source": [
    "inp = int(input('Enter a number:')) \n",
    "for n in range(1,11):\n",
    "    print(inp, '*', n,'=', inp * n) "
   ]
  },
  {
   "cell_type": "code",
   "execution_count": 33,
   "id": "61887621-d7fb-4575-963f-0ce78fc6b920",
   "metadata": {},
   "outputs": [
    {
     "name": "stdin",
     "output_type": "stream",
     "text": [
      "Enter a number: 7\n"
     ]
    },
    {
     "name": "stdout",
     "output_type": "stream",
     "text": [
      "* * * * * * * * * * * * * * * * * * * * * * * * * * * * * * * * * * * * * * * * * * * * * * * * * * * * * * * * "
     ]
    }
   ],
   "source": [
    "num = int(input(\"Enter a number:\")) \n",
    "for i in range(num):\n",
    "    for j in range(num+1, ):\n",
    "        print(\"*\", end = \" \") "
   ]
  },
  {
   "cell_type": "code",
   "execution_count": 35,
   "id": "8bc05686-cf47-41a1-965e-b9c44488896b",
   "metadata": {},
   "outputs": [
    {
     "name": "stdout",
     "output_type": "stream",
     "text": [
      "[1, 4, 9, 16, 25]\n"
     ]
    }
   ],
   "source": [
    "sq = [] \n",
    "for n in range(1, 6):\n",
    "    sq.append(n ** 2) \n",
    "print(sq) "
   ]
  },
  {
   "cell_type": "code",
   "execution_count": 36,
   "id": "09c157ce-2306-41f6-8a4e-5f0e35bd92b9",
   "metadata": {},
   "outputs": [
    {
     "name": "stdout",
     "output_type": "stream",
     "text": [
      "[1, 4, 9, 16, 25]\n"
     ]
    }
   ],
   "source": [
    "sq = [n ** 2 for  n in range(1, 6)]\n",
    "print(sq)"
   ]
  },
  {
   "cell_type": "code",
   "execution_count": 45,
   "id": "bee9839a-0439-460e-8918-c23f9284ab06",
   "metadata": {},
   "outputs": [
    {
     "data": {
      "text/plain": [
       "[7, 8, 5, 5, 3]"
      ]
     },
     "execution_count": 45,
     "metadata": {},
     "output_type": "execute_result"
    }
   ],
   "source": [
    "month = ['january', 'february', 'march', 'april', 'may']\n",
    "[len(mon) for mon in month]"
   ]
  },
  {
   "cell_type": "code",
   "execution_count": 46,
   "id": "a502fc68-fa05-4ff0-94c4-d9ef0f7ae289",
   "metadata": {},
   "outputs": [
    {
     "data": {
      "text/plain": [
       "[2, 4, 5, 8, 3, 5]"
      ]
     },
     "execution_count": 46,
     "metadata": {},
     "output_type": "execute_result"
    }
   ],
   "source": [
    "lst1 = [-2,-4,-5, -8, 3, 5] \n",
    "abs1 = [abs(i) for i in lst1]\n",
    "abs1"
   ]
  },
  {
   "cell_type": "code",
   "execution_count": 47,
   "id": "2e2094d2-8f8e-42f9-a175-d2520fb8daed",
   "metadata": {},
   "outputs": [
    {
     "data": {
      "text/plain": [
       "[2, 4, 5, 8, 27, 125]"
      ]
     },
     "execution_count": 47,
     "metadata": {},
     "output_type": "execute_result"
    }
   ],
   "source": [
    "lst2 = [] \n",
    "for i in lst1:\n",
    "    if i < 0:\n",
    "        lst2.append(abs(i)) \n",
    "    else:\n",
    "        lst2.append(i**3) \n",
    "lst2\n"
   ]
  },
  {
   "cell_type": "code",
   "execution_count": 48,
   "id": "49178c54-60a6-42f1-9239-c17cf7068d14",
   "metadata": {},
   "outputs": [
    {
     "data": {
      "text/plain": [
       "[2, 4, 5, 8, 27, 125]"
      ]
     },
     "execution_count": 48,
     "metadata": {},
     "output_type": "execute_result"
    }
   ],
   "source": [
    "[abs(i) if i < 0 else i**3 for i in lst1]"
   ]
  },
  {
   "cell_type": "code",
   "execution_count": 51,
   "id": "f0a1104b-6aba-4baa-897b-6ba222c15c42",
   "metadata": {},
   "outputs": [
    {
     "data": {
      "text/plain": [
       "{3, 5, 7, 8}"
      ]
     },
     "execution_count": 51,
     "metadata": {},
     "output_type": "execute_result"
    }
   ],
   "source": [
    "month = ['january', 'february', 'march', 'april', 'may']\n",
    "s1 = set()\n",
    "for mon in month:\n",
    "    s1.add(len(mon))\n",
    "s1"
   ]
  },
  {
   "cell_type": "code",
   "execution_count": 52,
   "id": "40f79409-8cef-43f6-ac8a-572c7cfe65f2",
   "metadata": {},
   "outputs": [
    {
     "data": {
      "text/plain": [
       "{3, 5, 7, 8}"
      ]
     },
     "execution_count": 52,
     "metadata": {},
     "output_type": "execute_result"
    }
   ],
   "source": [
    "month = ['january', 'february', 'march', 'april', 'may']\n",
    "{len(mon) for mon in month}"
   ]
  },
  {
   "cell_type": "code",
   "execution_count": 54,
   "id": "b1ede78d-4f7a-4dfc-af56-ab41d8c42f85",
   "metadata": {},
   "outputs": [
    {
     "data": {
      "text/plain": [
       "{0: 'january', 1: 'february', 2: 'march', 3: 'april'}"
      ]
     },
     "execution_count": 54,
     "metadata": {},
     "output_type": "execute_result"
    }
   ],
   "source": [
    "months = {'january': 29, 'february': 21, 'march': 34, 'april': 45}\n",
    "{month:temp for month, temp in enumerate(months)}"
   ]
  },
  {
   "cell_type": "code",
   "execution_count": 58,
   "id": "6808a8d5-0d66-44a3-87f1-e66b7fb03a81",
   "metadata": {},
   "outputs": [],
   "source": [
    "lt1 = [11, 22, 33, 44, 55]\n",
    "for i in lt1:\n",
    "    if i == 33:\n",
    "        break\n",
    "        print(i)"
   ]
  },
  {
   "cell_type": "code",
   "execution_count": 61,
   "id": "08716366-4e18-42d2-8a22-d2ac6960e3ca",
   "metadata": {},
   "outputs": [
    {
     "name": "stdout",
     "output_type": "stream",
     "text": [
      "11\n",
      "33\n",
      "55\n"
     ]
    }
   ],
   "source": [
    "lt1 = [11, 22, 33, 44, 55]\n",
    "for i in lt1:\n",
    "    if i % 2 == 0:\n",
    "        continue \n",
    "    print(i) "
   ]
  },
  {
   "cell_type": "code",
   "execution_count": 62,
   "id": "0eb7dc8b-58f2-4c31-b560-b7855d0a9683",
   "metadata": {},
   "outputs": [
    {
     "name": "stdout",
     "output_type": "stream",
     "text": [
      "11\n",
      "22\n",
      "33\n",
      "44\n",
      "55\n",
      "List traversed\n"
     ]
    }
   ],
   "source": [
    "for i in lt1:\n",
    "    print(i)\n",
    "else:\n",
    "    print(\"List traversed\")"
   ]
  },
  {
   "cell_type": "code",
   "execution_count": 65,
   "id": "be08dac6-430e-4326-88f6-c71fe6e7b2ab",
   "metadata": {},
   "outputs": [
    {
     "name": "stdout",
     "output_type": "stream",
     "text": [
      "22\n",
      "44\n"
     ]
    }
   ],
   "source": [
    "for i in lt1:\n",
    "    if i % 2 == 0:\n",
    "        print(i)"
   ]
  },
  {
   "cell_type": "code",
   "execution_count": 66,
   "id": "a285c202-b0ed-48c3-bb78-9967cfc63eee",
   "metadata": {},
   "outputs": [
    {
     "name": "stdout",
     "output_type": "stream",
     "text": [
      "22\n"
     ]
    }
   ],
   "source": [
    "for i in lt1:\n",
    "    if i % 2 == 0:\n",
    "        print(i)\n",
    "        break"
   ]
  },
  {
   "cell_type": "code",
   "execution_count": 67,
   "id": "cc291c4e-b67a-426e-8b2b-27f9b93b51b5",
   "metadata": {},
   "outputs": [
    {
     "name": "stdout",
     "output_type": "stream",
     "text": [
      "2\n",
      "3\n",
      "4\n",
      "5\n",
      "6\n",
      "7\n",
      "8\n",
      "9\n",
      "10\n"
     ]
    }
   ],
   "source": [
    "i = 1\n",
    "while i < 10:\n",
    "    i = i + 1\n",
    "    print(i)"
   ]
  },
  {
   "cell_type": "code",
   "execution_count": 2,
   "id": "fa03b3cb-7b8a-4915-be40-56095abdb9b1",
   "metadata": {},
   "outputs": [
    {
     "name": "stdout",
     "output_type": "stream",
     "text": [
      "i is 10\n",
      "i is 9\n",
      "i is 8\n",
      "i is 7\n",
      "i is 6\n",
      "i is 5\n",
      "i is 4\n",
      "i is 3\n",
      "i is 2\n"
     ]
    }
   ],
   "source": [
    "i = 10\n",
    "while i > 1:\n",
    "    print(\"i is\", i)\n",
    "    i = i - 1"
   ]
  },
  {
   "cell_type": "code",
   "execution_count": 4,
   "id": "2d35900c-01b8-478d-aafc-dca8789c2d19",
   "metadata": {},
   "outputs": [
    {
     "name": "stdout",
     "output_type": "stream",
     "text": [
      "2420\n"
     ]
    }
   ],
   "source": [
    "n = 300\n",
    "m = 20\n",
    "while n <= 1000:\n",
    "    m = m + n\n",
    "    n += 200\n",
    "print(m)"
   ]
  },
  {
   "cell_type": "code",
   "execution_count": 5,
   "id": "3b849d2c-3ebd-4c81-9ae9-452d2ea2a1c4",
   "metadata": {},
   "outputs": [
    {
     "name": "stdout",
     "output_type": "stream",
     "text": [
      "16\n"
     ]
    }
   ],
   "source": [
    "n = 1\n",
    "m = 1\n",
    "while(n < 6):\n",
    "    m = m + n\n",
    "    n += 1\n",
    "print(m)"
   ]
  },
  {
   "cell_type": "code",
   "execution_count": 2,
   "id": "076442db-8817-44da-94d1-aa615d42c646",
   "metadata": {},
   "outputs": [
    {
     "name": "stdout",
     "output_type": "stream",
     "text": [
      "1\n",
      "6\n"
     ]
    }
   ],
   "source": [
    "n = 1\n",
    "print(n)\n",
    "while n < 6:\n",
    "     n = n + 1\n",
    "print(n)"
   ]
  },
  {
   "cell_type": "code",
   "execution_count": 3,
   "id": "486345a1-4ca5-4661-a5fc-5a1327d4ccd0",
   "metadata": {},
   "outputs": [
    {
     "name": "stdout",
     "output_type": "stream",
     "text": [
      "106\n"
     ]
    }
   ],
   "source": [
    "n = 1\n",
    "m = 1\n",
    "while(n < 15):\n",
    "    m = m + n\n",
    "    n += 1\n",
    "print(m)"
   ]
  },
  {
   "cell_type": "code",
   "execution_count": 4,
   "id": "566d6949-45cb-4dd4-9af4-f537c12de27c",
   "metadata": {},
   "outputs": [
    {
     "name": "stdout",
     "output_type": "stream",
     "text": [
      "1 2 3 4 5 6 7 8 9 10 11 12 13 14 15 16 17 18 19 20 21 22 23 24 25 26 27 28 29 30 31 32 33 34 35 36 37 38 39 40 41 42 43 44 45 46 47 48 49 50 51 52 53 54 55 56 57 58 59 60 61 62 63 64 65 66 67 68 69 70 71 72 73 74 75 76 77 78 79 80 81 82 83 84 85 86 87 88 89 90 91 92 93 94 95 96 97 98 99 100 "
     ]
    }
   ],
   "source": [
    "x = 1 \n",
    "while(x <= 100):\n",
    "    print(x, end=' ')\n",
    "    x = x + 1"
   ]
  },
  {
   "cell_type": "code",
   "execution_count": 7,
   "id": "2a7204ac-c242-4a4d-9353-40b1f5a93f7c",
   "metadata": {},
   "outputs": [
    {
     "name": "stdin",
     "output_type": "stream",
     "text": [
      "Enter n:  8\n"
     ]
    },
    {
     "name": "stdout",
     "output_type": "stream",
     "text": [
      "Sum:  36\n"
     ]
    }
   ],
   "source": [
    "n = int(input(\"Enter n: \")) \n",
    "summ = 0 \n",
    "num = 1 \n",
    "while num <= n: \n",
    "    summ = summ + num \n",
    "    num = num + 1 \n",
    "print(\"Sum: \", summ) \n"
   ]
  },
  {
   "cell_type": "code",
   "execution_count": 9,
   "id": "d9f5ff06-b2b8-4040-a211-75f9b9bd9d4a",
   "metadata": {},
   "outputs": [
    {
     "name": "stdout",
     "output_type": "stream",
     "text": [
      "Product:  -1\n"
     ]
    }
   ],
   "source": [
    "lt2 = [-1, -2, 1, 2] \n",
    "pd = 1 \n",
    "ind = 0 \n",
    "while ind < len(lt2): \n",
    "    pd *= lt2[ind] \n",
    "    ind += 2 \n",
    "print(\"Product: \", pd) \n"
   ]
  },
  {
   "cell_type": "code",
   "execution_count": 11,
   "id": "23e90f1a-954e-4956-b696-239c9d32a1fe",
   "metadata": {},
   "outputs": [
    {
     "name": "stdin",
     "output_type": "stream",
     "text": [
      "Enter value: 5\n",
      "Enter value: 7\n",
      "Enter value: 8\n",
      "Enter value: 1\n",
      "Enter value: done\n"
     ]
    },
    {
     "name": "stdout",
     "output_type": "stream",
     "text": [
      "21\n"
     ]
    }
   ],
   "source": [
    "summ = 0 \n",
    "while True: \n",
    "    inp = input('Enter value:') \n",
    "    if (inp == 'done'): \n",
    "        break \n",
    "    summ = summ + int(inp) \n",
    "print(summ) "
   ]
  },
  {
   "cell_type": "code",
   "execution_count": 13,
   "id": "581e83d7-c331-4573-95ac-ed577e436e0d",
   "metadata": {},
   "outputs": [
    {
     "name": "stdout",
     "output_type": "stream",
     "text": [
      "n is 8\n",
      "n is 7\n",
      "n is 6\n",
      "n is 5\n",
      "n is 4\n",
      "n is 3\n",
      "n is 2\n",
      "n is no longer greater than 1\n"
     ]
    }
   ],
   "source": [
    "n = 8 \n",
    "while n > 1: \n",
    "    print(\"n is\", n) \n",
    "    n -= 1\n",
    "    if n == 10:\n",
    "        break\n",
    "else:\n",
    "    print(\"n is no longer greater than 1\") "
   ]
  },
  {
   "cell_type": "code",
   "execution_count": 15,
   "id": "72e44520-331d-4a6b-86f1-fd69de27c03f",
   "metadata": {},
   "outputs": [
    {
     "name": "stdout",
     "output_type": "stream",
     "text": [
      "n:  0\n",
      "n:  1\n",
      "n:  2\n",
      "n:  3\n",
      "n:  4\n",
      "n:  5\n",
      "n:  6\n",
      "n:  7\n",
      "n:  8\n",
      "n:  9\n",
      "n is no longer < 10\n"
     ]
    }
   ],
   "source": [
    "n = 0\n",
    "while n < 10:\n",
    "    print(\"n: \", n)\n",
    "    n += 1\n",
    "else:\n",
    "    print(\"n is no longer < 10\")"
   ]
  },
  {
   "cell_type": "code",
   "execution_count": 17,
   "id": "836d7084-64af-458a-9b19-1f4674e42e75",
   "metadata": {},
   "outputs": [
    {
     "name": "stdout",
     "output_type": "stream",
     "text": [
      "10\n",
      "20\n",
      "30\n",
      "40\n",
      "List empty\n"
     ]
    }
   ],
   "source": [
    "num = [10, 20, 30, 40]\n",
    "ind = 0 \n",
    "while ind < len (num): \n",
    "    print(num[ind]) \n",
    "    ind += 1 \n",
    "else: \n",
    "    print(\"List empty\")"
   ]
  },
  {
   "cell_type": "code",
   "execution_count": 19,
   "id": "b6ca3258-097a-4079-971f-e829625aabba",
   "metadata": {},
   "outputs": [
    {
     "name": "stdin",
     "output_type": "stream",
     "text": [
      " 4\n"
     ]
    },
    {
     "name": "stdout",
     "output_type": "stream",
     "text": [
      "24\n"
     ]
    }
   ],
   "source": [
    "n = int(input()) \n",
    "f = 1 \n",
    "for i in range(n, 0, -1): \n",
    "    f = f * i \n",
    "print(f)"
   ]
  },
  {
   "cell_type": "code",
   "execution_count": 22,
   "id": "e0f6402d-cd23-4cf0-92f2-9af9230cb938",
   "metadata": {},
   "outputs": [
    {
     "name": "stdin",
     "output_type": "stream",
     "text": [
      " 6\n"
     ]
    },
    {
     "name": "stdout",
     "output_type": "stream",
     "text": [
      "After 1 iteration the factorial value is: 1\n",
      "After 2 iteration the factorial value is: 2\n",
      "After 3 iteration the factorial value is: 6\n",
      "After 4 iteration the factorial value is: 24\n",
      "After 5 iteration the factorial value is: 120\n",
      "After 6 iteration the factorial value is: 720\n"
     ]
    }
   ],
   "source": [
    "n = int(input()) \n",
    "f = 1 \n",
    "for i in range(1, n+1): \n",
    "    f = f * i\n",
    "    print(\"After\", i, \"iteration the factorial value is:\", f)"
   ]
  },
  {
   "cell_type": "code",
   "execution_count": null,
   "id": "f7389eeb-4020-4add-a690-6bc762100720",
   "metadata": {},
   "outputs": [],
   "source": []
  }
 ],
 "metadata": {
  "kernelspec": {
   "display_name": "Python 3 (ipykernel)",
   "language": "python",
   "name": "python3"
  },
  "language_info": {
   "codemirror_mode": {
    "name": "ipython",
    "version": 3
   },
   "file_extension": ".py",
   "mimetype": "text/x-python",
   "name": "python",
   "nbconvert_exporter": "python",
   "pygments_lexer": "ipython3",
   "version": "3.11.7"
  }
 },
 "nbformat": 4,
 "nbformat_minor": 5
}
