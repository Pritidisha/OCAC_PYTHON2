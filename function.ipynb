{
 "cells": [
  {
   "cell_type": "code",
   "execution_count": 1,
   "id": "98fd5308-4316-485c-b9ec-05a4a523e798",
   "metadata": {},
   "outputs": [
    {
     "data": {
      "text/plain": [
       "90"
      ]
     },
     "execution_count": 1,
     "metadata": {},
     "output_type": "execute_result"
    }
   ],
   "source": [
    "num = -90 \n",
    "abs(num)"
   ]
  },
  {
   "cell_type": "code",
   "execution_count": 2,
   "id": "a409abe2-b4e4-438d-a039-c204ab2f18f2",
   "metadata": {},
   "outputs": [
    {
     "data": {
      "text/plain": [
       "(1, 7)"
      ]
     },
     "execution_count": 2,
     "metadata": {},
     "output_type": "execute_result"
    }
   ],
   "source": [
    "divmod (15, 8)"
   ]
  },
  {
   "cell_type": "code",
   "execution_count": 5,
   "id": "ade78a11-5584-47a3-8f82-2399ed311273",
   "metadata": {},
   "outputs": [],
   "source": [
    "def db(n): \n",
    "    \"\"\" \n",
    "    Returns the double of number \n",
    "    \"\"\"\n",
    "    return 2 * n"
   ]
  },
  {
   "cell_type": "code",
   "execution_count": 6,
   "id": "6ffffa35-611b-4083-aa66-e3e1e2d04c8d",
   "metadata": {},
   "outputs": [
    {
     "name": "stdout",
     "output_type": "stream",
     "text": [
      " \n",
      "    Returns the double of number \n",
      "    \n"
     ]
    }
   ],
   "source": [
    "print(db.__doc__)"
   ]
  },
  {
   "cell_type": "code",
   "execution_count": 7,
   "id": "0279b9a2-8f62-4e01-8739-4635af77e03b",
   "metadata": {},
   "outputs": [
    {
     "data": {
      "text/plain": [
       "30"
      ]
     },
     "execution_count": 7,
     "metadata": {},
     "output_type": "execute_result"
    }
   ],
   "source": [
    "db(15)"
   ]
  },
  {
   "cell_type": "code",
   "execution_count": 8,
   "id": "fea1aec1-84fc-433a-bd8f-77310738d1b5",
   "metadata": {},
   "outputs": [],
   "source": [
    "def doub(n): \n",
    "    \"\"\" \n",
    "    Returns the double of number \n",
    "    \"\"\"\n",
    "    return 2 * int(n)"
   ]
  },
  {
   "cell_type": "code",
   "execution_count": 9,
   "id": "9e50e6a9-0d04-478e-bca7-9966402cc71e",
   "metadata": {},
   "outputs": [
    {
     "data": {
      "text/plain": [
       "24"
      ]
     },
     "execution_count": 9,
     "metadata": {},
     "output_type": "execute_result"
    }
   ],
   "source": [
    "doub(12.44)"
   ]
  },
  {
   "cell_type": "code",
   "execution_count": 10,
   "id": "f9307a62-0763-4c97-94ba-6fccda612df4",
   "metadata": {},
   "outputs": [
    {
     "data": {
      "text/plain": [
       "3"
      ]
     },
     "execution_count": 10,
     "metadata": {},
     "output_type": "execute_result"
    }
   ],
   "source": [
    "def diff (n1, n2): \n",
    "    return n1 - n2 \n",
    "diff (5, 2) \n"
   ]
  },
  {
   "cell_type": "code",
   "execution_count": 11,
   "id": "6aa92d88-5c64-4310-9e38-2a8d2dd9f376",
   "metadata": {},
   "outputs": [
    {
     "name": "stdout",
     "output_type": "stream",
     "text": [
      "Hello Priti\n"
     ]
    }
   ],
   "source": [
    "def greet_name(name): \n",
    "    print(\"Hello\", name)\n",
    "    \n",
    "greet_name(\"Priti\")"
   ]
  },
  {
   "cell_type": "code",
   "execution_count": 12,
   "id": "b14c9a81-849f-4f5e-94d0-4439e13ff256",
   "metadata": {},
   "outputs": [
    {
     "name": "stdout",
     "output_type": "stream",
     "text": [
      "Hello 8091\n"
     ]
    }
   ],
   "source": [
    "greet_name(8091)"
   ]
  },
  {
   "cell_type": "code",
   "execution_count": 15,
   "id": "1dcf2613-0b87-4fc7-9787-d3c2340049c2",
   "metadata": {},
   "outputs": [
    {
     "data": {
      "text/plain": [
       "62"
      ]
     },
     "execution_count": 15,
     "metadata": {},
     "output_type": "execute_result"
    }
   ],
   "source": [
    "def add(l): \n",
    "    summ = 0 \n",
    "    for i in l: \n",
    "        summ += i \n",
    "    return summ \n",
    "    \n",
    "add([15, 12, 34, 1]) "
   ]
  },
  {
   "cell_type": "code",
   "execution_count": 16,
   "id": "527551f5-7113-448e-9b16-ab3b4733ee9d",
   "metadata": {},
   "outputs": [
    {
     "name": "stdout",
     "output_type": "stream",
     "text": [
      "5\n",
      "10\n",
      "15\n",
      "20\n",
      "25\n"
     ]
    }
   ],
   "source": [
    "def series(num): \n",
    "    for i in range(1, num): \n",
    "        if i % 5 == 0 and i % 7 != 0: \n",
    "            print(i) \n",
    "series(30)"
   ]
  },
  {
   "cell_type": "code",
   "execution_count": 18,
   "id": "ce594b01-6ecf-4425-a133-98afb404002c",
   "metadata": {},
   "outputs": [
    {
     "name": "stdout",
     "output_type": "stream",
     "text": [
      "20 34\n"
     ]
    }
   ],
   "source": [
    "ls1 = [4, 9, 25, 16] \n",
    "evensum=0 \n",
    "oddsum=0 \n",
    "for i in ls1: \n",
    "    if i % 2 == 0: \n",
    "        evensum = evensum + i \n",
    "    else: \n",
    "        oddsum = oddsum + i \n",
    "print(evensum, oddsum) \n"
   ]
  },
  {
   "cell_type": "code",
   "execution_count": 27,
   "id": "ff44d334-5ff7-4e04-b25f-eb496aab5a4b",
   "metadata": {},
   "outputs": [],
   "source": [
    "def func(lt): \n",
    "    evensum = 0 \n",
    "    oddsum = 0 \n",
    "    for i in lt: \n",
    "        if i % 2 == 0:\n",
    "            evensum = evensum + i \n",
    "        else: \n",
    "            oddsum = oddsum + i \n",
    "    print(evensum, oddsum) \n"
   ]
  },
  {
   "cell_type": "code",
   "execution_count": 28,
   "id": "e401b48f-c0cc-42c6-a8b6-b93744fb9d46",
   "metadata": {},
   "outputs": [
    {
     "name": "stdout",
     "output_type": "stream",
     "text": [
      "124 34\n"
     ]
    }
   ],
   "source": [
    "func([34, 11, 23, 90])"
   ]
  },
  {
   "cell_type": "code",
   "execution_count": 29,
   "id": "b4ec2e81-a9a1-44e3-8b8e-55e60cf53b65",
   "metadata": {},
   "outputs": [
    {
     "name": "stdout",
     "output_type": "stream",
     "text": [
      "Hello Priti, Good night!\n"
     ]
    }
   ],
   "source": [
    "def hello(nm, mess):\n",
    "    print(\"Hello {}, {}\".format(nm, mess))\n",
    "hello(\"Priti\", \"Good night!\")"
   ]
  },
  {
   "cell_type": "code",
   "execution_count": 30,
   "id": "8760c9d2-00fa-4228-be86-deac678a57e8",
   "metadata": {},
   "outputs": [
    {
     "ename": "TypeError",
     "evalue": "hello() missing 1 required positional argument: 'mess'",
     "output_type": "error",
     "traceback": [
      "\u001b[1;31m---------------------------------------------------------------------------\u001b[0m",
      "\u001b[1;31mTypeError\u001b[0m                                 Traceback (most recent call last)",
      "Cell \u001b[1;32mIn[30], line 1\u001b[0m\n\u001b[1;32m----> 1\u001b[0m hello(\u001b[38;5;124m\"\u001b[39m\u001b[38;5;124mPriti\u001b[39m\u001b[38;5;124m\"\u001b[39m)\n",
      "\u001b[1;31mTypeError\u001b[0m: hello() missing 1 required positional argument: 'mess'"
     ]
    }
   ],
   "source": [
    "hello(\"Priti\")"
   ]
  },
  {
   "cell_type": "code",
   "execution_count": 34,
   "id": "2338752a-0c2b-4b50-a031-a42942ecbd9a",
   "metadata": {},
   "outputs": [],
   "source": [
    "def even(): \n",
    "    sp = int(input('Enter lower bound: '))\n",
    "    ep=int(input('Enter upper bound:')) \n",
    "    for i in range(sp, ep+1): \n",
    "        if i % 2 == 0: \n",
    "            print(i) "
   ]
  },
  {
   "cell_type": "code",
   "execution_count": 35,
   "id": "795a4cc9-ab97-4d4d-9906-7b68570c1b6d",
   "metadata": {},
   "outputs": [
    {
     "name": "stdin",
     "output_type": "stream",
     "text": [
      "Enter lower bound:  56\n",
      "Enter upper bound: 78\n"
     ]
    },
    {
     "name": "stdout",
     "output_type": "stream",
     "text": [
      "56\n",
      "58\n",
      "60\n",
      "62\n",
      "64\n",
      "66\n",
      "68\n",
      "70\n",
      "72\n",
      "74\n",
      "76\n",
      "78\n"
     ]
    }
   ],
   "source": [
    "even()"
   ]
  },
  {
   "cell_type": "code",
   "execution_count": 36,
   "id": "7b179eb9-3acb-4ad4-970e-4c2d4c4f2dbc",
   "metadata": {},
   "outputs": [
    {
     "name": "stdout",
     "output_type": "stream",
     "text": [
      "Hello Priti, Good night!\n"
     ]
    }
   ],
   "source": [
    "def hello(nm, mess = \"Good night!\"):\n",
    "    print(\"Hello {}, {}\".format(nm, mess))\n",
    "hello(\"Priti\")"
   ]
  },
  {
   "cell_type": "code",
   "execution_count": 39,
   "id": "fcf55a2b-446c-4fc2-a9ea-df6f85041d19",
   "metadata": {},
   "outputs": [
    {
     "name": "stdout",
     "output_type": "stream",
     "text": [
      "Hello Priti, Good Evening!\n"
     ]
    }
   ],
   "source": [
    "def hello(**kwargs):\n",
    "    if kwargs: \n",
    "        print(\"Hello {}, {}\".format(kwargs['nm'], kwargs['mess'])) \n",
    "hello (nm = \"Priti\", mess = \"Good Evening!\") "
   ]
  },
  {
   "cell_type": "code",
   "execution_count": 40,
   "id": "53d2d618-dc4a-43d2-8b28-f96f9010c2b2",
   "metadata": {},
   "outputs": [
    {
     "name": "stdout",
     "output_type": "stream",
     "text": [
      "('Priti', 'Disha')\n",
      "Hello, Priti\n",
      "Hello, Disha\n"
     ]
    }
   ],
   "source": [
    "def hello(*names):\n",
    "    print(names) \n",
    "    for name in names: \n",
    "        print(\"Hello, {0}\".format(name)) \n",
    "hello(\"Priti\", \"Disha\")"
   ]
  },
  {
   "cell_type": "code",
   "execution_count": 43,
   "id": "9e0952c2-394d-4a83-b0fd-23c33569bcae",
   "metadata": {},
   "outputs": [
    {
     "name": "stdout",
     "output_type": "stream",
     "text": [
      "Factorial of 7: 5040\n"
     ]
    }
   ],
   "source": [
    "def fact (num): \n",
    "    if num==0:\n",
    "        return 1 \n",
    "    else: \n",
    "        return num * fact(num-1) \n",
    "num = 7 \n",
    "print(\"Factorial of {}: {}\".format(num, fact (num))) \n"
   ]
  },
  {
   "cell_type": "code",
   "execution_count": 47,
   "id": "863863ba-0e27-4dfe-85a6-631e1ec5af17",
   "metadata": {},
   "outputs": [
    {
     "name": "stdout",
     "output_type": "stream",
     "text": [
      "Select Option\n",
      "1. Addition\n",
      "2. Subtraction\n",
      "3. Multiplication\n",
      "4. Division\n"
     ]
    },
    {
     "name": "stdin",
     "output_type": "stream",
     "text": [
      "Enter choice 1/2/3/4:  3\n",
      "Enter first number:  4\n",
      "Enter second number: 5\n"
     ]
    },
    {
     "name": "stdout",
     "output_type": "stream",
     "text": [
      "Multiplication of 4 and 5 is 20\n"
     ]
    }
   ],
   "source": [
    "def sum(a, b): \n",
    "    return a+b \n",
    "def prod(a, b): \n",
    "    return a*b \n",
    "def diff(a, b): \n",
    "    return a-b \n",
    "def div(a, b): \n",
    "    return a/b \n",
    "print(\"Select Option\") \n",
    "print(\"1. Addition\") \n",
    "print(\"2. Subtraction\") \n",
    "print(\"3. Multiplication\") \n",
    "print(\"4. Division\") \n",
    "#take input from user \n",
    "choice = int(input(\"Enter choice 1/2/3/4: \"))\n",
    "n1 = int(input(\"Enter first number: \")) \n",
    "n2 = int(input(\"Enter second number:\")) \n",
    "if choice == 1: \n",
    "    print(\"Addition of {} and {} is {}\".format(n1, n2, sum(n1, n2))) \n",
    "elif choice == 2:\n",
    "    print(\"Subtraction of {} and {} is {}\".format(n1, n2, diff(n1, n2)))\n",
    "elif choice == 3:\n",
    "    print(\"Multiplication of {} and {} is {}\".format(n1, n2, prod(n1, n2))) \n",
    "elif choice == 4:\n",
    "    print(\"Division of {} and {} is {}\".format(n1, n2, div(n1, n2)))                                                                          \n",
    "else:\n",
    "    print(\"Invalid Choice\") \n"
   ]
  },
  {
   "cell_type": "code",
   "execution_count": null,
   "id": "4da73a2d-db59-45c9-beb6-246b6d44804b",
   "metadata": {},
   "outputs": [],
   "source": []
  }
 ],
 "metadata": {
  "kernelspec": {
   "display_name": "Python 3 (ipykernel)",
   "language": "python",
   "name": "python3"
  },
  "language_info": {
   "codemirror_mode": {
    "name": "ipython",
    "version": 3
   },
   "file_extension": ".py",
   "mimetype": "text/x-python",
   "name": "python",
   "nbconvert_exporter": "python",
   "pygments_lexer": "ipython3",
   "version": "3.11.7"
  }
 },
 "nbformat": 4,
 "nbformat_minor": 5
}
