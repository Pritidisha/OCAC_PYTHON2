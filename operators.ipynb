{
 "cells": [
  {
   "cell_type": "markdown",
   "id": "7d04bba4-84b4-412e-a9c5-dc841fcf4e11",
   "metadata": {},
   "source": [
    "ARITHMETIC OPERATORS"
   ]
  },
  {
   "cell_type": "code",
   "execution_count": 1,
   "id": "59bb1d2e-9fe2-4961-a098-807d5b1bdb20",
   "metadata": {},
   "outputs": [
    {
     "data": {
      "text/plain": [
       "21"
      ]
     },
     "execution_count": 1,
     "metadata": {},
     "output_type": "execute_result"
    }
   ],
   "source": [
    "9 + 12"
   ]
  },
  {
   "cell_type": "code",
   "execution_count": 2,
   "id": "d1149b82-cb1d-47e7-a362-945078e42325",
   "metadata": {},
   "outputs": [
    {
     "data": {
      "text/plain": [
       "37"
      ]
     },
     "execution_count": 2,
     "metadata": {},
     "output_type": "execute_result"
    }
   ],
   "source": [
    "45 - 8"
   ]
  },
  {
   "cell_type": "code",
   "execution_count": 3,
   "id": "0fbaac83-6b97-45e3-8557-1cb9de1ff355",
   "metadata": {},
   "outputs": [
    {
     "data": {
      "text/plain": [
       "124"
      ]
     },
     "execution_count": 3,
     "metadata": {},
     "output_type": "execute_result"
    }
   ],
   "source": [
    "4 * 31"
   ]
  },
  {
   "cell_type": "code",
   "execution_count": 4,
   "id": "2b1c7ed3-3f29-47ed-b0d2-6d923a04e17c",
   "metadata": {},
   "outputs": [
    {
     "data": {
      "text/plain": [
       "6.0"
      ]
     },
     "execution_count": 4,
     "metadata": {},
     "output_type": "execute_result"
    }
   ],
   "source": [
    "90 / 15"
   ]
  },
  {
   "cell_type": "code",
   "execution_count": 5,
   "id": "08536c23-5c6d-4f1e-98a9-7bd07889e019",
   "metadata": {},
   "outputs": [
    {
     "data": {
      "text/plain": [
       "5.375"
      ]
     },
     "execution_count": 5,
     "metadata": {},
     "output_type": "execute_result"
    }
   ],
   "source": [
    "43 / 8"
   ]
  },
  {
   "cell_type": "code",
   "execution_count": 6,
   "id": "45199c4d-3b41-44e1-ae3f-45183bad8eb6",
   "metadata": {},
   "outputs": [
    {
     "data": {
      "text/plain": [
       "144"
      ]
     },
     "execution_count": 6,
     "metadata": {},
     "output_type": "execute_result"
    }
   ],
   "source": [
    "12 ** 2"
   ]
  },
  {
   "cell_type": "code",
   "execution_count": 7,
   "id": "11a08e39-4d9a-4f96-b97c-380561f21328",
   "metadata": {},
   "outputs": [
    {
     "data": {
      "text/plain": [
       "5"
      ]
     },
     "execution_count": 7,
     "metadata": {},
     "output_type": "execute_result"
    }
   ],
   "source": [
    "43 // 8"
   ]
  },
  {
   "cell_type": "code",
   "execution_count": 8,
   "id": "09c34a3a-5d80-4bbe-a514-04f23f2e97a3",
   "metadata": {},
   "outputs": [
    {
     "data": {
      "text/plain": [
       "2"
      ]
     },
     "execution_count": 8,
     "metadata": {},
     "output_type": "execute_result"
    }
   ],
   "source": [
    "12 % 5"
   ]
  },
  {
   "cell_type": "code",
   "execution_count": 9,
   "id": "9121a997-49a3-43f1-a553-09d496bb12db",
   "metadata": {},
   "outputs": [
    {
     "data": {
      "text/plain": [
       "48"
      ]
     },
     "execution_count": 9,
     "metadata": {},
     "output_type": "execute_result"
    }
   ],
   "source": [
    "(4 * 6) + (12 * 2)"
   ]
  },
  {
   "cell_type": "code",
   "execution_count": 10,
   "id": "e077d529-dcb2-473b-82af-0830bde5809b",
   "metadata": {},
   "outputs": [
    {
     "name": "stdout",
     "output_type": "stream",
     "text": [
      "450\n",
      "2.0\n",
      "0\n"
     ]
    }
   ],
   "source": [
    "n1 = 30\n",
    "n2 = 15\n",
    "print(n1*n2)\n",
    "print(n1/n2)\n",
    "print(n1%n2)"
   ]
  },
  {
   "cell_type": "code",
   "execution_count": 11,
   "id": "af197beb-9fc1-40db-a525-50c0f8a22c5a",
   "metadata": {},
   "outputs": [
    {
     "data": {
      "text/plain": [
       "30.0"
      ]
     },
     "execution_count": 11,
     "metadata": {},
     "output_type": "execute_result"
    }
   ],
   "source": [
    "n1-n2*n1/n1+n2"
   ]
  },
  {
   "cell_type": "code",
   "execution_count": 13,
   "id": "39ea65e1-62c0-438d-9027-a527c299777b",
   "metadata": {},
   "outputs": [
    {
     "data": {
      "text/plain": [
       "52"
      ]
     },
     "execution_count": 13,
     "metadata": {},
     "output_type": "execute_result"
    }
   ],
   "source": [
    "(4 * (5 + 8))"
   ]
  },
  {
   "cell_type": "code",
   "execution_count": 14,
   "id": "196c1fe6-3e95-41f0-be23-e6814a8c5b45",
   "metadata": {},
   "outputs": [
    {
     "data": {
      "text/plain": [
       "188"
      ]
     },
     "execution_count": 14,
     "metadata": {},
     "output_type": "execute_result"
    }
   ],
   "source": [
    "12 // 5 % 1 + 14 ** 2 - 8"
   ]
  },
  {
   "cell_type": "code",
   "execution_count": 15,
   "id": "106c0be1-419f-40da-94ac-c3843d713344",
   "metadata": {},
   "outputs": [
    {
     "data": {
      "text/plain": [
       "9.222222222222221"
      ]
     },
     "execution_count": 15,
     "metadata": {},
     "output_type": "execute_result"
    }
   ],
   "source": [
    "11 // 2 * 4 / 9 + 7 % 6 ** 2"
   ]
  },
  {
   "cell_type": "markdown",
   "id": "4e247f1e-368e-49ca-97e8-73c35a2a1ab5",
   "metadata": {},
   "source": [
    "COMPARISON/RELATIONAL OPERATORS"
   ]
  },
  {
   "cell_type": "code",
   "execution_count": 16,
   "id": "6baf1be4-0926-4824-9eac-c30d55133ef5",
   "metadata": {},
   "outputs": [
    {
     "data": {
      "text/plain": [
       "True"
      ]
     },
     "execution_count": 16,
     "metadata": {},
     "output_type": "execute_result"
    }
   ],
   "source": [
    "21 > 9"
   ]
  },
  {
   "cell_type": "code",
   "execution_count": 18,
   "id": "dc1108a4-216e-408f-b919-7e9026347f81",
   "metadata": {},
   "outputs": [
    {
     "data": {
      "text/plain": [
       "False"
      ]
     },
     "execution_count": 18,
     "metadata": {},
     "output_type": "execute_result"
    }
   ],
   "source": [
    "44 < 29"
   ]
  },
  {
   "cell_type": "code",
   "execution_count": 19,
   "id": "71b7c077-44f3-49f1-bd4a-928b6f1a0ab4",
   "metadata": {},
   "outputs": [
    {
     "data": {
      "text/plain": [
       "False"
      ]
     },
     "execution_count": 19,
     "metadata": {},
     "output_type": "execute_result"
    }
   ],
   "source": [
    "12 * 3 < 9 * 2"
   ]
  },
  {
   "cell_type": "code",
   "execution_count": 20,
   "id": "b343f353-2dcb-4b17-a5cc-2d44038b6a45",
   "metadata": {},
   "outputs": [
    {
     "data": {
      "text/plain": [
       "True"
      ]
     },
     "execution_count": 20,
     "metadata": {},
     "output_type": "execute_result"
    }
   ],
   "source": [
    "34 == 34"
   ]
  },
  {
   "cell_type": "code",
   "execution_count": 21,
   "id": "c6061007-03e9-4a95-a3aa-ba36f2f01c10",
   "metadata": {},
   "outputs": [
    {
     "data": {
      "text/plain": [
       "True"
      ]
     },
     "execution_count": 21,
     "metadata": {},
     "output_type": "execute_result"
    }
   ],
   "source": [
    "4 != 9"
   ]
  },
  {
   "cell_type": "code",
   "execution_count": 22,
   "id": "ad39913b-ab9a-441e-85d0-46d7a04c2b62",
   "metadata": {},
   "outputs": [
    {
     "data": {
      "text/plain": [
       "True"
      ]
     },
     "execution_count": 22,
     "metadata": {},
     "output_type": "execute_result"
    }
   ],
   "source": [
    "31 >= 31"
   ]
  },
  {
   "cell_type": "code",
   "execution_count": 23,
   "id": "5aeee744-2440-4abc-bf8a-b9f30f0afbf5",
   "metadata": {},
   "outputs": [
    {
     "data": {
      "text/plain": [
       "False"
      ]
     },
     "execution_count": 23,
     "metadata": {},
     "output_type": "execute_result"
    }
   ],
   "source": [
    "15 <= 2"
   ]
  },
  {
   "cell_type": "code",
   "execution_count": 24,
   "id": "3a48f870-091e-462c-8521-1f317d93e136",
   "metadata": {},
   "outputs": [
    {
     "data": {
      "text/plain": [
       "True"
      ]
     },
     "execution_count": 24,
     "metadata": {},
     "output_type": "execute_result"
    }
   ],
   "source": [
    "33 == 33.0"
   ]
  },
  {
   "cell_type": "code",
   "execution_count": 26,
   "id": "3f149a19-7c1a-4a7f-850e-a138927755aa",
   "metadata": {},
   "outputs": [
    {
     "data": {
      "text/plain": [
       "False"
      ]
     },
     "execution_count": 26,
     "metadata": {},
     "output_type": "execute_result"
    }
   ],
   "source": [
    "'two' == 'TWO'"
   ]
  },
  {
   "cell_type": "markdown",
   "id": "4103e856-e13f-4f28-8aed-ed4534c8c59b",
   "metadata": {},
   "source": [
    "BITWISE OPERATORS"
   ]
  },
  {
   "cell_type": "code",
   "execution_count": 27,
   "id": "164ffb7b-4ace-4d2c-8a18-bf173608d805",
   "metadata": {},
   "outputs": [
    {
     "data": {
      "text/plain": [
       "'0b100010'"
      ]
     },
     "execution_count": 27,
     "metadata": {},
     "output_type": "execute_result"
    }
   ],
   "source": [
    "bin(34)"
   ]
  },
  {
   "cell_type": "code",
   "execution_count": 28,
   "id": "dd7732df-e584-4cfc-8440-184aec6dbfbe",
   "metadata": {},
   "outputs": [
    {
     "data": {
      "text/plain": [
       "42"
      ]
     },
     "execution_count": 28,
     "metadata": {},
     "output_type": "execute_result"
    }
   ],
   "source": [
    "0b101010"
   ]
  },
  {
   "cell_type": "code",
   "execution_count": 30,
   "id": "5db36df4-b39e-4c98-b622-4d337a2c801e",
   "metadata": {},
   "outputs": [
    {
     "name": "stdout",
     "output_type": "stream",
     "text": [
      "5\n",
      "0\n"
     ]
    }
   ],
   "source": [
    "n1 = 4\n",
    "n2 = 1\n",
    "print(n1 | n2)\n",
    "print(n1 & n2)"
   ]
  },
  {
   "cell_type": "code",
   "execution_count": 36,
   "id": "00b7f234-db80-4f00-8e6e-a91dc3b88b8d",
   "metadata": {},
   "outputs": [
    {
     "data": {
      "text/plain": [
       "7"
      ]
     },
     "execution_count": 36,
     "metadata": {},
     "output_type": "execute_result"
    }
   ],
   "source": [
    "5 | 3"
   ]
  },
  {
   "cell_type": "code",
   "execution_count": 37,
   "id": "839e265d-a9ec-46e8-8eca-9913d948c781",
   "metadata": {},
   "outputs": [
    {
     "data": {
      "text/plain": [
       "1"
      ]
     },
     "execution_count": 37,
     "metadata": {},
     "output_type": "execute_result"
    }
   ],
   "source": [
    "5 & 3"
   ]
  },
  {
   "cell_type": "markdown",
   "id": "2fbf1d8c-ea4c-4c92-b2b6-73b361a45ef2",
   "metadata": {},
   "source": [
    "LOGICAL OPERATORS"
   ]
  },
  {
   "cell_type": "code",
   "execution_count": 39,
   "id": "0d58fbaa-7404-4a08-83b7-4b7336147253",
   "metadata": {},
   "outputs": [
    {
     "data": {
      "text/plain": [
       "True"
      ]
     },
     "execution_count": 39,
     "metadata": {},
     "output_type": "execute_result"
    }
   ],
   "source": [
    "(6 > 9) or (9 > 8)"
   ]
  },
  {
   "cell_type": "code",
   "execution_count": 40,
   "id": "5eea2b1d-a273-43f2-94dd-51d66dc38812",
   "metadata": {},
   "outputs": [
    {
     "data": {
      "text/plain": [
       "False"
      ]
     },
     "execution_count": 40,
     "metadata": {},
     "output_type": "execute_result"
    }
   ],
   "source": [
    "(6 > 9) and (9 > 8)"
   ]
  },
  {
   "cell_type": "code",
   "execution_count": 41,
   "id": "ab4d2f5f-cd6f-4ea4-b2fc-02e78491d669",
   "metadata": {},
   "outputs": [
    {
     "data": {
      "text/plain": [
       "False"
      ]
     },
     "execution_count": 41,
     "metadata": {},
     "output_type": "execute_result"
    }
   ],
   "source": [
    "not True"
   ]
  },
  {
   "cell_type": "code",
   "execution_count": 42,
   "id": "917e47c8-5bc9-4247-9d41-774f8ac413c0",
   "metadata": {},
   "outputs": [
    {
     "data": {
      "text/plain": [
       "True"
      ]
     },
     "execution_count": 42,
     "metadata": {},
     "output_type": "execute_result"
    }
   ],
   "source": [
    "not False"
   ]
  },
  {
   "cell_type": "code",
   "execution_count": 45,
   "id": "4c94bdc2-6851-4c99-baf4-ccdcc4738cb8",
   "metadata": {},
   "outputs": [
    {
     "data": {
      "text/plain": [
       "True"
      ]
     },
     "execution_count": 45,
     "metadata": {},
     "output_type": "execute_result"
    }
   ],
   "source": [
    "s1 = 'priti'\n",
    "s1.isalpha() or s1.isnum()"
   ]
  },
  {
   "cell_type": "code",
   "execution_count": 46,
   "id": "8671eff9-835e-4928-8e52-06d2ba37d4ca",
   "metadata": {},
   "outputs": [
    {
     "data": {
      "text/plain": [
       "True"
      ]
     },
     "execution_count": 46,
     "metadata": {},
     "output_type": "execute_result"
    }
   ],
   "source": [
    "(5 == 5) and (3 == 9) or (8 == 8)"
   ]
  },
  {
   "cell_type": "markdown",
   "id": "630bdda2-c0bd-409b-8e64-d4549db0b832",
   "metadata": {},
   "source": [
    "ASSIGNMENT OPERATORS"
   ]
  },
  {
   "cell_type": "code",
   "execution_count": 57,
   "id": "f610bfe9-95ea-48d9-91d1-9090680276f3",
   "metadata": {},
   "outputs": [
    {
     "data": {
      "text/plain": [
       "34"
      ]
     },
     "execution_count": 57,
     "metadata": {},
     "output_type": "execute_result"
    }
   ],
   "source": [
    "n1 = 34\n",
    "n1"
   ]
  },
  {
   "cell_type": "code",
   "execution_count": 58,
   "id": "941a7d23-c1a1-4b3c-b896-fe1ec9c95d0e",
   "metadata": {},
   "outputs": [
    {
     "name": "stdout",
     "output_type": "stream",
     "text": [
      "36\n"
     ]
    }
   ],
   "source": [
    "n1 = n1 + 2\n",
    "print(n1)"
   ]
  },
  {
   "cell_type": "code",
   "execution_count": 59,
   "id": "aec488cd-ab37-469b-b1d3-bff1a68172eb",
   "metadata": {},
   "outputs": [
    {
     "data": {
      "text/plain": [
       "41"
      ]
     },
     "execution_count": 59,
     "metadata": {},
     "output_type": "execute_result"
    }
   ],
   "source": [
    "n1 += 5\n",
    "n1"
   ]
  },
  {
   "cell_type": "code",
   "execution_count": 60,
   "id": "cad00e76-794f-485f-8801-75dfe479397b",
   "metadata": {},
   "outputs": [
    {
     "data": {
      "text/plain": [
       "34"
      ]
     },
     "execution_count": 60,
     "metadata": {},
     "output_type": "execute_result"
    }
   ],
   "source": [
    "n1 -= 7\n",
    "n1"
   ]
  },
  {
   "cell_type": "code",
   "execution_count": 61,
   "id": "77a52baf-4610-4a39-9626-7f79ee2aad44",
   "metadata": {},
   "outputs": [
    {
     "data": {
      "text/plain": [
       "68"
      ]
     },
     "execution_count": 61,
     "metadata": {},
     "output_type": "execute_result"
    }
   ],
   "source": [
    "n1 *= 2\n",
    "n1"
   ]
  },
  {
   "cell_type": "code",
   "execution_count": 62,
   "id": "a70ac069-c044-4f09-955c-5f3477e7653a",
   "metadata": {},
   "outputs": [
    {
     "data": {
      "text/plain": [
       "4.0"
      ]
     },
     "execution_count": 62,
     "metadata": {},
     "output_type": "execute_result"
    }
   ],
   "source": [
    "n1 /= 17\n",
    "n1"
   ]
  },
  {
   "cell_type": "code",
   "execution_count": 67,
   "id": "97451327-d8f3-45d0-b490-a84400957702",
   "metadata": {},
   "outputs": [
    {
     "data": {
      "text/plain": [
       "4.0"
      ]
     },
     "execution_count": 67,
     "metadata": {},
     "output_type": "execute_result"
    }
   ],
   "source": [
    "n1 %= 5\n",
    "n1"
   ]
  },
  {
   "cell_type": "code",
   "execution_count": 68,
   "id": "39cfd658-ff2b-4c6b-9c3b-33f4ce55c4f4",
   "metadata": {},
   "outputs": [
    {
     "data": {
      "text/plain": [
       "1.0"
      ]
     },
     "execution_count": 68,
     "metadata": {},
     "output_type": "execute_result"
    }
   ],
   "source": [
    "n1 //= 3\n",
    "n1"
   ]
  },
  {
   "cell_type": "code",
   "execution_count": 69,
   "id": "e7187f27-5475-4df0-a3a0-2ea5e5628b90",
   "metadata": {},
   "outputs": [
    {
     "data": {
      "text/plain": [
       "1.0"
      ]
     },
     "execution_count": 69,
     "metadata": {},
     "output_type": "execute_result"
    }
   ],
   "source": [
    "n1 ** 4\n",
    "n1"
   ]
  },
  {
   "cell_type": "markdown",
   "id": "acf80951-d7b6-4cf2-861a-5abbb989aab8",
   "metadata": {},
   "source": [
    "IDENTITY OPERATORS"
   ]
  },
  {
   "cell_type": "code",
   "execution_count": 70,
   "id": "8ceaac2a-cf92-4ad7-a871-01f4dba9398e",
   "metadata": {},
   "outputs": [
    {
     "name": "stdout",
     "output_type": "stream",
     "text": [
      "True\n"
     ]
    }
   ],
   "source": [
    "n1 = 90\n",
    "n2 = 90\n",
    "print(n1 is n2)"
   ]
  },
  {
   "cell_type": "code",
   "execution_count": 71,
   "id": "c2089381-28b3-4f04-97f1-877852bd78b3",
   "metadata": {},
   "outputs": [
    {
     "name": "stdout",
     "output_type": "stream",
     "text": [
      "False\n"
     ]
    }
   ],
   "source": [
    "w1 = 'priti'\n",
    "w2 = 'Priti'\n",
    "print(w1 is w2)"
   ]
  },
  {
   "cell_type": "code",
   "execution_count": 72,
   "id": "16c5e16c-d11a-43a5-a203-6532d72076a3",
   "metadata": {},
   "outputs": [
    {
     "name": "stdout",
     "output_type": "stream",
     "text": [
      "True\n"
     ]
    }
   ],
   "source": [
    "n1 = 56\n",
    "n2 = 56.2\n",
    "print(n1 is not n2)"
   ]
  },
  {
   "cell_type": "markdown",
   "id": "d24a89a0-3f1d-4aaf-88dc-6445237f1ebb",
   "metadata": {},
   "source": [
    "MEMBERSHIP OPERATORS"
   ]
  },
  {
   "cell_type": "code",
   "execution_count": null,
   "id": "97ba5fe7-3eb6-4fa6-afb2-981ddcb32683",
   "metadata": {},
   "outputs": [],
   "source": [
    "s1 = 'pritidisha'\n"
   ]
  }
 ],
 "metadata": {
  "kernelspec": {
   "display_name": "Python 3 (ipykernel)",
   "language": "python",
   "name": "python3"
  },
  "language_info": {
   "codemirror_mode": {
    "name": "ipython",
    "version": 3
   },
   "file_extension": ".py",
   "mimetype": "text/x-python",
   "name": "python",
   "nbconvert_exporter": "python",
   "pygments_lexer": "ipython3",
   "version": "3.11.7"
  }
 },
 "nbformat": 4,
 "nbformat_minor": 5
}
