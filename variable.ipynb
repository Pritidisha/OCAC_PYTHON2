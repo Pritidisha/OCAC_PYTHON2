{
 "cells": [
  {
   "cell_type": "code",
   "execution_count": 3,
   "id": "900b28f4-afab-4ea4-a734-d6d137c26ce4",
   "metadata": {},
   "outputs": [
    {
     "data": {
      "text/plain": [
       "'Monday'"
      ]
     },
     "execution_count": 3,
     "metadata": {},
     "output_type": "execute_result"
    }
   ],
   "source": [
    "v1 ='Monday'\n",
    "v1"
   ]
  },
  {
   "cell_type": "code",
   "execution_count": 5,
   "id": "be10f2e6-45d3-4c50-978a-3ac8c0ee2d66",
   "metadata": {},
   "outputs": [
    {
     "data": {
      "text/plain": [
       "str"
      ]
     },
     "execution_count": 5,
     "metadata": {},
     "output_type": "execute_result"
    }
   ],
   "source": [
    "type(v1)"
   ]
  },
  {
   "cell_type": "code",
   "execution_count": 2,
   "id": "3b7a2bcd-a37a-4cef-9bb4-bda94366e8d1",
   "metadata": {},
   "outputs": [
    {
     "ename": "NameError",
     "evalue": "name 'v2' is not defined",
     "output_type": "error",
     "traceback": [
      "\u001b[1;31m---------------------------------------------------------------------------\u001b[0m",
      "\u001b[1;31mNameError\u001b[0m                                 Traceback (most recent call last)",
      "Cell \u001b[1;32mIn[2], line 1\u001b[0m\n\u001b[1;32m----> 1\u001b[0m \u001b[38;5;28mprint\u001b[39m(v2)\n",
      "\u001b[1;31mNameError\u001b[0m: name 'v2' is not defined"
     ]
    }
   ],
   "source": [
    "print(v2)"
   ]
  },
  {
   "cell_type": "code",
   "execution_count": 4,
   "id": "a0f96ff8-e46b-4a91-b325-4222a85a3791",
   "metadata": {},
   "outputs": [
    {
     "data": {
      "text/plain": [
       "50"
      ]
     },
     "execution_count": 4,
     "metadata": {},
     "output_type": "execute_result"
    }
   ],
   "source": [
    "v3 = 50\n",
    "v3"
   ]
  },
  {
   "cell_type": "code",
   "execution_count": 6,
   "id": "0139eed3-61dc-4f6c-bd36-00ce24e2a92c",
   "metadata": {},
   "outputs": [
    {
     "data": {
      "text/plain": [
       "int"
      ]
     },
     "execution_count": 6,
     "metadata": {},
     "output_type": "execute_result"
    }
   ],
   "source": [
    "type(v3)"
   ]
  },
  {
   "cell_type": "code",
   "execution_count": 7,
   "id": "2aa5babc-956b-4032-9201-c979512e55f5",
   "metadata": {},
   "outputs": [
    {
     "name": "stdout",
     "output_type": "stream",
     "text": [
      "9123\n"
     ]
    },
    {
     "data": {
      "text/plain": [
       "str"
      ]
     },
     "execution_count": 7,
     "metadata": {},
     "output_type": "execute_result"
    }
   ],
   "source": [
    "v4 = \"9123\"\n",
    "print(v4)\n",
    "type(\"v4\")"
   ]
  },
  {
   "cell_type": "code",
   "execution_count": 9,
   "id": "31a1338d-be77-460b-bd8d-c485747fcfec",
   "metadata": {},
   "outputs": [
    {
     "data": {
      "text/plain": [
       "str"
      ]
     },
     "execution_count": 9,
     "metadata": {},
     "output_type": "execute_result"
    }
   ],
   "source": [
    "v5 = \"99/Street\"\n",
    "type(v5)"
   ]
  },
  {
   "cell_type": "code",
   "execution_count": 10,
   "id": "27adba55-9080-467e-8739-a479c0f0f939",
   "metadata": {},
   "outputs": [
    {
     "name": "stdout",
     "output_type": "stream",
     "text": [
      "['False', 'None', 'True', 'and', 'as', 'assert', 'async', 'await', 'break', 'class', 'continue', 'def', 'del', 'elif', 'else', 'except', 'finally', 'for', 'from', 'global', 'if', 'import', 'in', 'is', 'lambda', 'nonlocal', 'not', 'or', 'pass', 'raise', 'return', 'try', 'while', 'with', 'yield']\n"
     ]
    }
   ],
   "source": [
    "import keyword\n",
    "print(keyword.kwlist)"
   ]
  },
  {
   "cell_type": "code",
   "execution_count": 11,
   "id": "12651516-3f1f-4b70-b485-454e98b83fef",
   "metadata": {},
   "outputs": [
    {
     "data": {
      "text/plain": [
       "35"
      ]
     },
     "execution_count": 11,
     "metadata": {},
     "output_type": "execute_result"
    }
   ],
   "source": [
    "len(keyword.kwlist)"
   ]
  },
  {
   "cell_type": "code",
   "execution_count": 14,
   "id": "652de7da-c07c-4f88-8848-8defd6115997",
   "metadata": {},
   "outputs": [
    {
     "ename": "SyntaxError",
     "evalue": "invalid syntax (4060167092.py, line 1)",
     "output_type": "error",
     "traceback": [
      "\u001b[1;36m  Cell \u001b[1;32mIn[14], line 1\u001b[1;36m\u001b[0m\n\u001b[1;33m    lambda = 67\u001b[0m\n\u001b[1;37m           ^\u001b[0m\n\u001b[1;31mSyntaxError\u001b[0m\u001b[1;31m:\u001b[0m invalid syntax\n"
     ]
    }
   ],
   "source": [
    "lambda = 67\n",
    "lambda"
   ]
  },
  {
   "cell_type": "code",
   "execution_count": 15,
   "id": "e8e3dad2-b2ba-4f57-98ab-55c9071f694b",
   "metadata": {},
   "outputs": [
    {
     "data": {
      "text/plain": [
       "60"
      ]
     },
     "execution_count": 15,
     "metadata": {},
     "output_type": "execute_result"
    }
   ],
   "source": [
    "v6 = 60\n",
    "v6"
   ]
  },
  {
   "cell_type": "code",
   "execution_count": 16,
   "id": "f2b6ea94-0e72-4ae4-8db5-ff70f912abe2",
   "metadata": {},
   "outputs": [
    {
     "ename": "SyntaxError",
     "evalue": "invalid decimal literal (3017101643.py, line 1)",
     "output_type": "error",
     "traceback": [
      "\u001b[1;36m  Cell \u001b[1;32mIn[16], line 1\u001b[1;36m\u001b[0m\n\u001b[1;33m    6v = 90\u001b[0m\n\u001b[1;37m    ^\u001b[0m\n\u001b[1;31mSyntaxError\u001b[0m\u001b[1;31m:\u001b[0m invalid decimal literal\n"
     ]
    }
   ],
   "source": [
    "6v = 90\n",
    "6v"
   ]
  },
  {
   "cell_type": "code",
   "execution_count": 17,
   "id": "403901a4-b70d-4b4c-b359-cd5d71f493d2",
   "metadata": {},
   "outputs": [
    {
     "ename": "SyntaxError",
     "evalue": "cannot assign to expression here. Maybe you meant '==' instead of '='? (142273126.py, line 1)",
     "output_type": "error",
     "traceback": [
      "\u001b[1;36m  Cell \u001b[1;32mIn[17], line 1\u001b[1;36m\u001b[0m\n\u001b[1;33m    v&7 = 70\u001b[0m\n\u001b[1;37m    ^\u001b[0m\n\u001b[1;31mSyntaxError\u001b[0m\u001b[1;31m:\u001b[0m cannot assign to expression here. Maybe you meant '==' instead of '='?\n"
     ]
    }
   ],
   "source": [
    "v&7 = 70\n",
    "v&7"
   ]
  },
  {
   "cell_type": "code",
   "execution_count": 21,
   "id": "1ccc07ba-753a-4169-93f0-b5980ddbafe4",
   "metadata": {},
   "outputs": [
    {
     "data": {
      "text/plain": [
       "60"
      ]
     },
     "execution_count": 21,
     "metadata": {},
     "output_type": "execute_result"
    }
   ],
   "source": [
    "v_6 = 60\n",
    "v_6"
   ]
  },
  {
   "cell_type": "code",
   "execution_count": 22,
   "id": "0b7f1dc9-f798-4223-aa6f-5651fb7aa488",
   "metadata": {},
   "outputs": [
    {
     "data": {
      "text/plain": [
       "140723478317704"
      ]
     },
     "execution_count": 22,
     "metadata": {},
     "output_type": "execute_result"
    }
   ],
   "source": [
    "id(v_6)"
   ]
  },
  {
   "cell_type": "code",
   "execution_count": 23,
   "id": "0b4e51e4-6be1-4b90-a72d-75039adc8db7",
   "metadata": {},
   "outputs": [
    {
     "data": {
      "text/plain": [
       "140723478317704"
      ]
     },
     "execution_count": 23,
     "metadata": {},
     "output_type": "execute_result"
    }
   ],
   "source": [
    "id(v6)"
   ]
  },
  {
   "cell_type": "code",
   "execution_count": 25,
   "id": "ee934912-754e-4b6e-acaa-20dfbd666515",
   "metadata": {},
   "outputs": [
    {
     "name": "stdout",
     "output_type": "stream",
     "text": [
      "Sum:  55\n"
     ]
    }
   ],
   "source": [
    "num1 = 23\n",
    "num2 = 32\n",
    "sum = num1 + num2\n",
    "print(\"Sum: \", sum)"
   ]
  },
  {
   "cell_type": "code",
   "execution_count": 26,
   "id": "b3447469-da2b-44e4-a7d3-be6c63c05ccc",
   "metadata": {},
   "outputs": [
    {
     "name": "stdout",
     "output_type": "stream",
     "text": [
      "Difference:  9\n"
     ]
    }
   ],
   "source": [
    "num1 = 32\n",
    "num2 = 23\n",
    "diff = num1 - num2\n",
    "print(\"Difference: \", diff)"
   ]
  },
  {
   "cell_type": "code",
   "execution_count": 27,
   "id": "594ec955-e619-4d3c-98b5-f77c668ba06f",
   "metadata": {},
   "outputs": [
    {
     "data": {
      "text/plain": [
       "33"
      ]
     },
     "execution_count": 27,
     "metadata": {},
     "output_type": "execute_result"
    }
   ],
   "source": [
    "n1 = n2 = n3 = 33\n",
    "n1"
   ]
  },
  {
   "cell_type": "code",
   "execution_count": 28,
   "id": "868a99e5-71d1-418d-ab39-d0dea9e04ca1",
   "metadata": {},
   "outputs": [
    {
     "data": {
      "text/plain": [
       "33"
      ]
     },
     "execution_count": 28,
     "metadata": {},
     "output_type": "execute_result"
    }
   ],
   "source": [
    "n2"
   ]
  },
  {
   "cell_type": "code",
   "execution_count": 29,
   "id": "a517dd8d-d288-4498-be02-c438d845f57f",
   "metadata": {},
   "outputs": [
    {
     "data": {
      "text/plain": [
       "33"
      ]
     },
     "execution_count": 29,
     "metadata": {},
     "output_type": "execute_result"
    }
   ],
   "source": [
    "n3"
   ]
  },
  {
   "cell_type": "code",
   "execution_count": 30,
   "id": "171d2b6d-de3c-4c71-bbae-51cb660347ca",
   "metadata": {},
   "outputs": [
    {
     "name": "stdout",
     "output_type": "stream",
     "text": [
      "11 22 33\n"
     ]
    }
   ],
   "source": [
    "n1 = 11\n",
    "n2 = 22\n",
    "n3 = 33\n",
    "print(n1, n2, n3)"
   ]
  },
  {
   "cell_type": "code",
   "execution_count": 31,
   "id": "ef485818-5316-409b-8f75-a6155dc1690a",
   "metadata": {},
   "outputs": [
    {
     "ename": "NameError",
     "evalue": "name 'n1n2n3' is not defined",
     "output_type": "error",
     "traceback": [
      "\u001b[1;31m---------------------------------------------------------------------------\u001b[0m",
      "\u001b[1;31mNameError\u001b[0m                                 Traceback (most recent call last)",
      "Cell \u001b[1;32mIn[31], line 1\u001b[0m\n\u001b[1;32m----> 1\u001b[0m \u001b[38;5;28mprint\u001b[39m(n1n2n3)\n",
      "\u001b[1;31mNameError\u001b[0m: name 'n1n2n3' is not defined"
     ]
    }
   ],
   "source": [
    "print(n1n2n3)"
   ]
  },
  {
   "cell_type": "code",
   "execution_count": 32,
   "id": "296b6238-14e0-4e27-8c05-8745dddc93a9",
   "metadata": {},
   "outputs": [],
   "source": [
    "del n3"
   ]
  },
  {
   "cell_type": "code",
   "execution_count": 33,
   "id": "df923961-113a-4f9c-b91c-895f829ab7ea",
   "metadata": {},
   "outputs": [
    {
     "ename": "NameError",
     "evalue": "name 'n3' is not defined",
     "output_type": "error",
     "traceback": [
      "\u001b[1;31m---------------------------------------------------------------------------\u001b[0m",
      "\u001b[1;31mNameError\u001b[0m                                 Traceback (most recent call last)",
      "Cell \u001b[1;32mIn[33], line 1\u001b[0m\n\u001b[1;32m----> 1\u001b[0m n3\n",
      "\u001b[1;31mNameError\u001b[0m: name 'n3' is not defined"
     ]
    }
   ],
   "source": [
    "n3"
   ]
  },
  {
   "cell_type": "code",
   "execution_count": 34,
   "id": "e89d7f17-7857-4236-99b9-f907bdc5ccc7",
   "metadata": {},
   "outputs": [],
   "source": [
    "n3 = 33"
   ]
  },
  {
   "cell_type": "code",
   "execution_count": 35,
   "id": "e7091ce4-5cfb-47d9-b4a4-f5499a7ab92a",
   "metadata": {},
   "outputs": [],
   "source": [
    "del n1, n2"
   ]
  },
  {
   "cell_type": "code",
   "execution_count": 36,
   "id": "a08fef71-f67a-46c3-b101-ca874013aaa9",
   "metadata": {},
   "outputs": [
    {
     "data": {
      "text/plain": [
       "33"
      ]
     },
     "execution_count": 36,
     "metadata": {},
     "output_type": "execute_result"
    }
   ],
   "source": [
    "n3"
   ]
  },
  {
   "cell_type": "code",
   "execution_count": 37,
   "id": "07797b38-4ad8-442b-a3b6-a582e97513d7",
   "metadata": {},
   "outputs": [
    {
     "data": {
      "text/plain": [
       "'Thrice'"
      ]
     },
     "execution_count": 37,
     "metadata": {},
     "output_type": "execute_result"
    }
   ],
   "source": [
    "n1 = n2 = n3 = 'Thrice'\n",
    "n2"
   ]
  },
  {
   "cell_type": "code",
   "execution_count": 38,
   "id": "56c60699-84fa-4bb0-84c5-d289ada207bb",
   "metadata": {},
   "outputs": [
    {
     "name": "stdout",
     "output_type": "stream",
     "text": [
      "1 2 3\n"
     ]
    }
   ],
   "source": [
    "n1, n2, n3 = 1, 2 , 3\n",
    "print(n1, n2, n3)"
   ]
  },
  {
   "cell_type": "code",
   "execution_count": null,
   "id": "0cdb3250-a497-4d00-bfb1-ca13854cb197",
   "metadata": {},
   "outputs": [],
   "source": []
  }
 ],
 "metadata": {
  "kernelspec": {
   "display_name": "Python 3 (ipykernel)",
   "language": "python",
   "name": "python3"
  },
  "language_info": {
   "codemirror_mode": {
    "name": "ipython",
    "version": 3
   },
   "file_extension": ".py",
   "mimetype": "text/x-python",
   "name": "python",
   "nbconvert_exporter": "python",
   "pygments_lexer": "ipython3",
   "version": "3.11.7"
  }
 },
 "nbformat": 4,
 "nbformat_minor": 5
}
