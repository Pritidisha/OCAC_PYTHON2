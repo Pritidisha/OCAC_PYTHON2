{
 "cells": [
  {
   "cell_type": "code",
   "execution_count": 1,
   "id": "20dc79ba-396d-4d37-9424-8728eff8f1e8",
   "metadata": {},
   "outputs": [
    {
     "name": "stdout",
     "output_type": "stream",
     "text": [
      "Number:  3\n"
     ]
    }
   ],
   "source": [
    "class myClass:\n",
    "    n = 3\n",
    "    print(\"Number: \", n)"
   ]
  },
  {
   "cell_type": "code",
   "execution_count": 2,
   "id": "e8d55398-4886-465f-9914-07ea524e9acc",
   "metadata": {},
   "outputs": [
    {
     "name": "stdout",
     "output_type": "stream",
     "text": [
      "3\n"
     ]
    }
   ],
   "source": [
    "c1 = myClass()\n",
    "print(c1.n)"
   ]
  },
  {
   "cell_type": "code",
   "execution_count": 3,
   "id": "5f6820a6-b71e-4e69-9c23-5c4a79cd3227",
   "metadata": {},
   "outputs": [
    {
     "name": "stdout",
     "output_type": "stream",
     "text": [
      "3\n",
      "<class '__main__.myClass'>\n"
     ]
    }
   ],
   "source": [
    "c2 = myClass()\n",
    "print(c2.n)\n",
    "print(type(c2))"
   ]
  },
  {
   "cell_type": "code",
   "execution_count": 1,
   "id": "ea65f4f6-6748-423f-8d93-574ac8d80571",
   "metadata": {},
   "outputs": [
    {
     "name": "stdout",
     "output_type": "stream",
     "text": [
      "Hello Priti\n",
      "<class '__main__.Std'>\n"
     ]
    }
   ],
   "source": [
    "class Std:\n",
    "    print(\"Hello Priti\")\n",
    "s = Std()\n",
    "print(type(s))"
   ]
  },
  {
   "cell_type": "code",
   "execution_count": 3,
   "id": "87781999-31d6-4c0b-9845-0624c0a31cb3",
   "metadata": {},
   "outputs": [
    {
     "name": "stdout",
     "output_type": "stream",
     "text": [
      "Hello. Welcome to OCAC.\n"
     ]
    }
   ],
   "source": [
    "class Greet():\n",
    "    def fn():\n",
    "        print(\"Hello. Welcome to OCAC.\")\n",
    "Greet.fn()"
   ]
  },
  {
   "cell_type": "code",
   "execution_count": 4,
   "id": "1934cf26-ad38-4093-933c-41c24341cb00",
   "metadata": {},
   "outputs": [
    {
     "name": "stdout",
     "output_type": "stream",
     "text": [
      "Hello. Welcome to OCAC 2024\n"
     ]
    }
   ],
   "source": [
    "class Greet():\n",
    "    yr = 2024\n",
    "    def fn(self):\n",
    "        print(\"Hello. Welcome to OCAC\", self.yr)\n",
    "g = Greet()\n",
    "g.fn()"
   ]
  },
  {
   "cell_type": "code",
   "execution_count": 5,
   "id": "9ec2edcb-7f59-43dc-a607-c0074353bf0b",
   "metadata": {},
   "outputs": [
    {
     "ename": "TypeError",
     "evalue": "Greet.fn() missing 1 required positional argument: 'self'",
     "output_type": "error",
     "traceback": [
      "\u001b[1;31m---------------------------------------------------------------------------\u001b[0m",
      "\u001b[1;31mTypeError\u001b[0m                                 Traceback (most recent call last)",
      "Cell \u001b[1;32mIn[5], line 1\u001b[0m\n\u001b[1;32m----> 1\u001b[0m Greet\u001b[38;5;241m.\u001b[39mfn()\n",
      "\u001b[1;31mTypeError\u001b[0m: Greet.fn() missing 1 required positional argument: 'self'"
     ]
    }
   ],
   "source": [
    "Greet.fn()"
   ]
  },
  {
   "cell_type": "code",
   "execution_count": 7,
   "id": "a60af9ba-0f62-4a25-b871-10ba7180ca25",
   "metadata": {},
   "outputs": [
    {
     "name": "stdout",
     "output_type": "stream",
     "text": [
      "Full Name: Disha Samal\n"
     ]
    }
   ],
   "source": [
    "class Person:\n",
    "    def __init__(self, fname, lname):\n",
    "        self.fname = fname\n",
    "        self.lname = lname\n",
    "    def func(self):\n",
    "        print(\"Full Name:\", self.fname, self.lname)\n",
    "\n",
    "p = Person(\"Disha\", \"Samal\")\n",
    "p.func()"
   ]
  },
  {
   "cell_type": "code",
   "execution_count": 12,
   "id": "6bc80a27-1ef9-496d-b9f6-5351ae88e86e",
   "metadata": {},
   "outputs": [
    {
     "name": "stdout",
     "output_type": "stream",
     "text": [
      "Pritidisha\n"
     ]
    }
   ],
   "source": [
    "class Person:\n",
    "    def __init__(self,nm):\n",
    "        self.nm = nm \n",
    "priti = Person(nm='Pritidisha') \n",
    "print(priti.nm)"
   ]
  },
  {
   "cell_type": "code",
   "execution_count": 13,
   "id": "1cdbeb1a-d9b9-49d8-8779-fd6f25870ec8",
   "metadata": {},
   "outputs": [
    {
     "name": "stdout",
     "output_type": "stream",
     "text": [
      "I am Human\n",
      "Human Class\n"
     ]
    }
   ],
   "source": [
    "class Human:\n",
    "    def __init__(self, prt):\n",
    "        self.prt = prt\n",
    "\n",
    "hm = Human(prt = \"I am Human\")\n",
    "hmn = Human(prt = \"Human Class\")\n",
    "print(hm.prt)\n",
    "print(hmn.prt)"
   ]
  },
  {
   "cell_type": "code",
   "execution_count": 14,
   "id": "8f12ca9d-c587-4fd8-9130-6e38adc14ca1",
   "metadata": {},
   "outputs": [
    {
     "name": "stdout",
     "output_type": "stream",
     "text": [
      "Priti\n",
      "Samal\n"
     ]
    }
   ],
   "source": [
    "class Person:\n",
    "    def __init__(self, fname, lname):\n",
    "        self.fname = fname\n",
    "        self.lname = lname\n",
    "p1 = Person(\"Priti\", \"Samal\")\n",
    "print(p1.fname)\n",
    "print(p1.lname)"
   ]
  },
  {
   "cell_type": "code",
   "execution_count": 18,
   "id": "94532d66-23fb-40d7-b1c5-f07fe9ae6f45",
   "metadata": {},
   "outputs": [
    {
     "name": "stdout",
     "output_type": "stream",
     "text": [
      "Initialized\n",
      "Total Marks: 500\n",
      "Lost Marks: 50\n",
      "Percentage: 90.0\n",
      "Percentage: 90.00%\n"
     ]
    }
   ],
   "source": [
    "class Student:\n",
    "    Total = 500 \n",
    "    def __init__(self, marks):\n",
    "        self.marks = marks \n",
    "        print(\"Initialized\")\n",
    "    def percentLoss(self):\n",
    "        return self.Total - self.marks \n",
    "    def findPercentage(self):\n",
    "        return (self.marks / self.Total) * 100\n",
    "\n",
    "a = Student(marks = 450)\n",
    "print(\"Total Marks:\", a.Total)\n",
    "print('Lost Marks:', a.percentLoss())\n",
    "print('Percentage:', a.findPercentage())\n",
    "print('Percentage: {:.2f}%'.format(a.findPercentage()))"
   ]
  },
  {
   "cell_type": "code",
   "execution_count": 19,
   "id": "0075620d-f7b0-4583-98f9-ff9c865fc2c1",
   "metadata": {},
   "outputs": [
    {
     "name": "stdout",
     "output_type": "stream",
     "text": [
      "Initialized\n",
      "Name: Samal | Marks: 450\n",
      "Marks:  450\n",
      "Student Database is Deleted\n"
     ]
    }
   ],
   "source": [
    "class Student:\n",
    "    total = 500\n",
    "    def __init__(self, name, marks):\n",
    "        self.name=name\n",
    "        self.marks=marks\n",
    "        print(\"Initialized\")\n",
    "    def __len__(self):\n",
    "        return self.marks\n",
    "    def __str__(self):\n",
    "        return \"Name: %s | Marks: %s\" %(self.name,self.marks)\n",
    "    def __del__(self):\n",
    "        print(\"Student Database is Deleted\")\n",
    "        \n",
    "a = Student('Samal', 450)\n",
    "print(a)\n",
    "print('Marks: ',len(a))\n",
    "del a"
   ]
  },
  {
   "cell_type": "code",
   "execution_count": 23,
   "id": "dd13c487-a62d-429a-94a1-8da142a95f31",
   "metadata": {},
   "outputs": [
    {
     "name": "stdout",
     "output_type": "stream",
     "text": [
      "Initialized\n"
     ]
    },
    {
     "data": {
      "text/plain": [
       "50000"
      ]
     },
     "execution_count": 23,
     "metadata": {},
     "output_type": "execute_result"
    }
   ],
   "source": [
    "class Student:\n",
    "    Total = 500 \n",
    "    def __init__(a,marks):\n",
    "        a.marks=marks\n",
    "        print(\"Initialized\")\n",
    "    def mul(self):\n",
    "        return self.marks * self.Total\n",
    "std = Student(100)\n",
    "std.mul()"
   ]
  },
  {
   "cell_type": "code",
   "execution_count": 24,
   "id": "793a6230-59a9-47af-8866-6c3a177c031e",
   "metadata": {},
   "outputs": [
    {
     "name": "stdout",
     "output_type": "stream",
     "text": [
      "Initialized\n",
      "Name: Samal | Marks: 450\n",
      "Marks:  450\n",
      "Student Database is Deleted\n"
     ]
    }
   ],
   "source": [
    "class Student:\n",
    "    total = 500\n",
    "    def __init__(some, name, marks):\n",
    "        some.name = name\n",
    "        some.marks = marks\n",
    "        print(\"Initialized\")\n",
    "    def __len__(some):\n",
    "        return some.marks\n",
    "    def __str__(some):\n",
    "        return \"Name: %s | Marks: %s\" %(some.name, some.marks)\n",
    "    def __del__(some):\n",
    "        print(\"Student Database is Deleted\")\n",
    "        \n",
    "a = Student('Samal', 450)\n",
    "print(a)\n",
    "print('Marks: ',len(a))\n",
    "del a"
   ]
  },
  {
   "cell_type": "code",
   "execution_count": 32,
   "id": "94aa1953-7a1c-4133-9b48-a2d18fe9a86e",
   "metadata": {},
   "outputs": [
    {
     "name": "stdout",
     "output_type": "stream",
     "text": [
      "Name:  Priti || Age: 19\n"
     ]
    }
   ],
   "source": [
    "class Person:\n",
    "    def __init__(myObj, name, age):\n",
    "        myObj.name = name\n",
    "        myObj.age = age\n",
    "    def prt(abc):\n",
    "        print(\"Name: \", abc.name, \"|| Age:\", abc.age )\n",
    "per = Person(\"Priti\", 19)\n",
    "per.prt()"
   ]
  },
  {
   "cell_type": "code",
   "execution_count": 35,
   "id": "505eb04c-0b6e-4843-ba65-9432c6355ac4",
   "metadata": {},
   "outputs": [
    {
     "name": "stdout",
     "output_type": "stream",
     "text": [
      "Name:  Priti || Age: 18\n"
     ]
    }
   ],
   "source": [
    "per.age = 18\n",
    "per.prt()"
   ]
  },
  {
   "cell_type": "code",
   "execution_count": 36,
   "id": "38ad07c2-b36a-4402-a386-c8cb8d096613",
   "metadata": {},
   "outputs": [
    {
     "ename": "AttributeError",
     "evalue": "'Person' object has no attribute 'age'",
     "output_type": "error",
     "traceback": [
      "\u001b[1;31m---------------------------------------------------------------------------\u001b[0m",
      "\u001b[1;31mAttributeError\u001b[0m                            Traceback (most recent call last)",
      "Cell \u001b[1;32mIn[36], line 2\u001b[0m\n\u001b[0;32m      1\u001b[0m \u001b[38;5;28;01mdel\u001b[39;00m per\u001b[38;5;241m.\u001b[39mage\n\u001b[1;32m----> 2\u001b[0m per\u001b[38;5;241m.\u001b[39mprt()\n",
      "Cell \u001b[1;32mIn[32], line 6\u001b[0m, in \u001b[0;36mPerson.prt\u001b[1;34m(abc)\u001b[0m\n\u001b[0;32m      5\u001b[0m \u001b[38;5;28;01mdef\u001b[39;00m \u001b[38;5;21mprt\u001b[39m(abc):\n\u001b[1;32m----> 6\u001b[0m     \u001b[38;5;28mprint\u001b[39m(\u001b[38;5;124m\"\u001b[39m\u001b[38;5;124mName: \u001b[39m\u001b[38;5;124m\"\u001b[39m, abc\u001b[38;5;241m.\u001b[39mname, \u001b[38;5;124m\"\u001b[39m\u001b[38;5;124m|| Age:\u001b[39m\u001b[38;5;124m\"\u001b[39m, abc\u001b[38;5;241m.\u001b[39mage )\n",
      "\u001b[1;31mAttributeError\u001b[0m: 'Person' object has no attribute 'age'"
     ]
    }
   ],
   "source": [
    "del per.age\n",
    "per.prt()"
   ]
  },
  {
   "cell_type": "code",
   "execution_count": 37,
   "id": "33c31604-85c1-4470-a93f-b6c7ad474bad",
   "metadata": {},
   "outputs": [
    {
     "ename": "NameError",
     "evalue": "name 'per' is not defined",
     "output_type": "error",
     "traceback": [
      "\u001b[1;31m---------------------------------------------------------------------------\u001b[0m",
      "\u001b[1;31mNameError\u001b[0m                                 Traceback (most recent call last)",
      "Cell \u001b[1;32mIn[37], line 2\u001b[0m\n\u001b[0;32m      1\u001b[0m \u001b[38;5;28;01mdel\u001b[39;00m per\n\u001b[1;32m----> 2\u001b[0m per\u001b[38;5;241m.\u001b[39mprt()\n",
      "\u001b[1;31mNameError\u001b[0m: name 'per' is not defined"
     ]
    }
   ],
   "source": [
    "del per\n",
    "per.prt()"
   ]
  },
  {
   "cell_type": "code",
   "execution_count": 38,
   "id": "7d7a536f-3609-4dbf-a673-d48e0648dd85",
   "metadata": {},
   "outputs": [],
   "source": [
    "class Passs:\n",
    "    pass"
   ]
  },
  {
   "cell_type": "code",
   "execution_count": 39,
   "id": "7dab4ecf-bb59-46f9-b64e-191dcc377547",
   "metadata": {},
   "outputs": [
    {
     "name": "stdout",
     "output_type": "stream",
     "text": [
      "Priti Samal\n"
     ]
    }
   ],
   "source": [
    "class Person:\n",
    "    def __init__(self, fname, lname):\n",
    "        self.firstname = fname\n",
    "        self.lastname = lname\n",
    "    def name(self):\n",
    "        print(self.firstname, self.lastname)\n",
    "\n",
    "psn = Person(\"Priti\", \"Samal\")\n",
    "psn.name()"
   ]
  },
  {
   "cell_type": "code",
   "execution_count": 40,
   "id": "82a55390-2468-47c7-8920-2726f28619ad",
   "metadata": {},
   "outputs": [
    {
     "name": "stdout",
     "output_type": "stream",
     "text": [
      "Disha Samal\n"
     ]
    }
   ],
   "source": [
    "class Student(Person):\n",
    "    pass\n",
    "\n",
    "stu = Student(\"Disha\", \"Samal\")\n",
    "stu.name()"
   ]
  },
  {
   "cell_type": "code",
   "execution_count": 41,
   "id": "b01389cf-e3db-45fb-a4e2-a6da2d28a7e6",
   "metadata": {},
   "outputs": [],
   "source": [
    "class Student(Person):\n",
    "    def __init__(slef, fname, lname):\n",
    "        pass"
   ]
  },
  {
   "cell_type": "code",
   "execution_count": 42,
   "id": "885de5cc-cb3b-4e8d-8d2c-e8490642e96c",
   "metadata": {},
   "outputs": [
    {
     "name": "stdout",
     "output_type": "stream",
     "text": [
      "Priti Samal\n"
     ]
    }
   ],
   "source": [
    "class Student(Person):\n",
    "    def __init__(self, fname, lname):\n",
    "        Person.__init__(self, fname, lname)\n",
    "\n",
    "s1 = Student(\"Priti\", \"Samal\")\n",
    "s1.name()"
   ]
  },
  {
   "cell_type": "code",
   "execution_count": 44,
   "id": "a33b8023-934a-4480-a0f8-04d2b5e534f0",
   "metadata": {},
   "outputs": [
    {
     "name": "stdout",
     "output_type": "stream",
     "text": [
      "Priti Samal\n"
     ]
    }
   ],
   "source": [
    "class Student(Person):\n",
    "    def __init__(self, fname, lname):\n",
    "        super().__init__(fname, lname)\n",
    "\n",
    "s1 = Student(\"Priti\", \"Samal\")\n",
    "s1.name()"
   ]
  },
  {
   "cell_type": "code",
   "execution_count": 1,
   "id": "bdca3da3-516a-48e9-8bd0-dc4a478a16a4",
   "metadata": {},
   "outputs": [
    {
     "name": "stdout",
     "output_type": "stream",
     "text": [
      "2020\n",
      "Diya Sharma\n"
     ]
    }
   ],
   "source": [
    "class Person:\n",
    "    def __init__(self, fname, lname):\n",
    "        self.firstname = fname\n",
    "        self.lastname = lname\n",
    "    def name(self):\n",
    "        print(self.firstname, self.lastname)\n",
    "        \n",
    "class Student(Person):\n",
    "    def __init__(self, fname, lname):\n",
    "        super().__init__(fname, lname)\n",
    "        self.graduate = 2020\n",
    "    \n",
    "x = Student(\"Diya\", \"Sharma\")\n",
    "print(x.graduate)\n",
    "x.name()"
   ]
  },
  {
   "cell_type": "code",
   "execution_count": 2,
   "id": "657dff79-0889-4b95-8b04-3a2fd5078578",
   "metadata": {},
   "outputs": [
    {
     "name": "stdout",
     "output_type": "stream",
     "text": [
      "2020\n"
     ]
    }
   ],
   "source": [
    "class Person:\n",
    "    def __init__(self, fname, lname):\n",
    "        self.firstname = fname\n",
    "        self.lastname = lname\n",
    "    def name(self):\n",
    "        print(self.firstname, self.lastname)\n",
    "        \n",
    "class Student(Person):\n",
    "    def __init__(self, fname, lname, grad):\n",
    "        super().__init__(fname, lname)\n",
    "        self.graduate = grad\n",
    "    \n",
    "x = Student(\"Diya\", \"Sharma\", 2020)\n",
    "print(x.graduate)"
   ]
  },
  {
   "cell_type": "code",
   "execution_count": 6,
   "id": "4ca6b312-5e1a-4494-aee3-310b9179ef61",
   "metadata": {},
   "outputs": [
    {
     "name": "stdout",
     "output_type": "stream",
     "text": [
      "Welcome Diya Sharma to the class of 2020\n"
     ]
    }
   ],
   "source": [
    "class Person:\n",
    "    def __init__(self, fname, lname):\n",
    "        self.firstname = fname\n",
    "        self.lastname = lname\n",
    "    def name(self):\n",
    "        print(self.firstname, self.lastname)\n",
    "        \n",
    "class Student(Person):\n",
    "    def __init__(self, fname, lname, grad):\n",
    "        super().__init__(fname, lname)\n",
    "        self.graduate = grad\n",
    "    def greet(self):\n",
    "        print(\"Welcome\", self.firstname, self.lastname, \"to the class of\", self.graduate)\n",
    "    \n",
    "x = Student(\"Diya\", \"Sharma\", 2020)\n",
    "x.greet()"
   ]
  },
  {
   "cell_type": "code",
   "execution_count": 8,
   "id": "ce262044-b2d6-400b-8f17-a52fd0123976",
   "metadata": {},
   "outputs": [],
   "source": [
    "class Richa:\n",
    "    def __init__(self):\n",
    "        print(\"Profile created\")\n",
    "    def name(self):\n",
    "        print(\"Richa Sharma\")\n",
    "    def age(self):\n",
    "        print(\"35\")"
   ]
  },
  {
   "cell_type": "code",
   "execution_count": 10,
   "id": "8add1d0a-4c36-42f4-a1f5-0fdf853f9cae",
   "metadata": {},
   "outputs": [],
   "source": [
    "class Canvas(Richa):\n",
    "    def __init__(self):\n",
    "        super().__init__() \n",
    "        print(\"Company Profile created\")\n",
    "    def name(self):\n",
    "        print(\"canvas\")\n",
    "    def type(self):\n",
    "        print(\"Fashion Hub\")"
   ]
  },
  {
   "cell_type": "code",
   "execution_count": 11,
   "id": "a0dd8573-540e-42d8-92a7-58b6d96726da",
   "metadata": {},
   "outputs": [
    {
     "name": "stdout",
     "output_type": "stream",
     "text": [
      "Profile created\n",
      "Company Profile created\n",
      "canvas\n",
      "35\n",
      "Fashion Hub\n"
     ]
    }
   ],
   "source": [
    "canvas = Canvas()\n",
    "\n",
    "canvas.name()\n",
    "canvas.age()\n",
    "canvas.type()"
   ]
  },
  {
   "cell_type": "code",
   "execution_count": 12,
   "id": "33861e90-e733-4c47-bb45-9e449e99a8be",
   "metadata": {},
   "outputs": [
    {
     "name": "stdout",
     "output_type": "stream",
     "text": [
      "Profile created\n",
      "Company Profile created\n"
     ]
    }
   ],
   "source": [
    "c = Canvas()"
   ]
  },
  {
   "cell_type": "code",
   "execution_count": 17,
   "id": "4e13c3d8-772e-4393-8424-c9e75d8ecc9c",
   "metadata": {},
   "outputs": [
    {
     "name": "stdout",
     "output_type": "stream",
     "text": [
      "Richa is a CEO\n",
      "Smriti is a CFO\n"
     ]
    }
   ],
   "source": [
    "class Richa:\n",
    "    def __init__(self, nm):\n",
    "        self.nm = nm\n",
    "    def type(self):\n",
    "        return \"CEO\"\n",
    "class Smriti:\n",
    "    def __init__(self, nm):\n",
    "        self.nm = nm\n",
    "    def type(self):\n",
    "        return \"CFO\"\n",
    "\n",
    "p1 = Richa(\"Richa\")\n",
    "p2 = Smriti(\"Smriti\")\n",
    "\n",
    "def designation(person):\n",
    "    print(f\"{person.nm} is a {person.type()}\")\n",
    "    \n",
    "designation(p1)\n",
    "designation(p2)"
   ]
  },
  {
   "cell_type": "code",
   "execution_count": 19,
   "id": "94e5869b-40d5-4523-a520-57f24dc72f43",
   "metadata": {},
   "outputs": [
    {
     "name": "stdout",
     "output_type": "stream",
     "text": [
      "140\n"
     ]
    }
   ],
   "source": [
    "class Add:\n",
    "    @staticmethod\n",
    "    def sum(n1, n2):\n",
    "        return n1 + n2\n",
    "\n",
    "result = Add.sum(110, 30)\n",
    "print(result)"
   ]
  },
  {
   "cell_type": "code",
   "execution_count": 20,
   "id": "dff4bf04-4200-4a73-a3e3-54ab8c908798",
   "metadata": {},
   "outputs": [
    {
     "name": "stdout",
     "output_type": "stream",
     "text": [
      "140\n"
     ]
    }
   ],
   "source": [
    "class Add:\n",
    "    def sum(n1, n2):\n",
    "        return n1 + n2\n",
    "\n",
    "result = Add.sum(110, 30)\n",
    "print(result)"
   ]
  },
  {
   "cell_type": "code",
   "execution_count": 23,
   "id": "8f1bdf86-574c-484b-a445-7fd6b532b9e1",
   "metadata": {},
   "outputs": [
    {
     "name": "stdout",
     "output_type": "stream",
     "text": [
      "105\n"
     ]
    }
   ],
   "source": [
    "class Add:\n",
    "    num = 100\n",
    "    \n",
    "    @classmethod\n",
    "    def sum(cls, arg1):\n",
    "        return cls.num + arg1\n",
    "\n",
    "result = Add.sum(5)\n",
    "print(result)"
   ]
  },
  {
   "cell_type": "code",
   "execution_count": 27,
   "id": "33aebdde-5526-46d1-ab72-f23aaef6bfb7",
   "metadata": {},
   "outputs": [
    {
     "name": "stdout",
     "output_type": "stream",
     "text": [
      "175\n"
     ]
    }
   ],
   "source": [
    "class Add:\n",
    "    def __init__(self, num):\n",
    "        self.num = num\n",
    "    def sum(self, n1):\n",
    "        return self.num + n1\n",
    "\n",
    "add = Add(90)\n",
    "res = add.sum(85)\n",
    "print(res)"
   ]
  },
  {
   "cell_type": "code",
   "execution_count": null,
   "id": "6838dd66-9cf0-4854-aec6-e6ef8bd088d6",
   "metadata": {},
   "outputs": [],
   "source": []
  }
 ],
 "metadata": {
  "kernelspec": {
   "display_name": "Python 3 (ipykernel)",
   "language": "python",
   "name": "python3"
  },
  "language_info": {
   "codemirror_mode": {
    "name": "ipython",
    "version": 3
   },
   "file_extension": ".py",
   "mimetype": "text/x-python",
   "name": "python",
   "nbconvert_exporter": "python",
   "pygments_lexer": "ipython3",
   "version": "3.11.7"
  }
 },
 "nbformat": 4,
 "nbformat_minor": 5
}
